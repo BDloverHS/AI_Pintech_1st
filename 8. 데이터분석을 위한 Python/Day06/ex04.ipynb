{
 "cells": [
  {
   "cell_type": "code",
   "execution_count": 26,
   "id": "6d4eb55b-a700-493a-b4e5-e8fab54f35e6",
   "metadata": {},
   "outputs": [],
   "source": [
    "# 이터레이터를 만들려면 iter(...)\n",
    "fruits = [\"사과\", \"오렌지\", \"망고\", \"멜론\"]\n",
    "itr = iter(fruits) # 이터레이터 객체"
   ]
  },
  {
   "cell_type": "code",
   "execution_count": 24,
   "id": "7ea91cfc-903d-492a-a5dd-7a11e769829d",
   "metadata": {},
   "outputs": [
    {
     "name": "stdout",
     "output_type": "stream",
     "text": [
      "사과\n",
      "오렌지\n",
      "망고\n",
      "멜론\n"
     ]
    }
   ],
   "source": [
    "while True:\n",
    "    try:\n",
    "        print(next(itr))\n",
    "    except StopIteration:\n",
    "        break"
   ]
  },
  {
   "cell_type": "code",
   "execution_count": 27,
   "id": "a544ddc9-e8fb-45b4-9369-498d3f214411",
   "metadata": {},
   "outputs": [
    {
     "name": "stdout",
     "output_type": "stream",
     "text": [
      "사과\n",
      "오렌지\n",
      "망고\n",
      "멜론\n"
     ]
    }
   ],
   "source": [
    "for fruit in itr:\n",
    "    print(fruit)"
   ]
  },
  {
   "cell_type": "code",
   "execution_count": 36,
   "id": "8134ebe0-5729-45b9-83a0-1b4a3dae995b",
   "metadata": {},
   "outputs": [],
   "source": [
    "# 제너레이터\n",
    "def mygen():\n",
    "    yield 'A'\n",
    "    yield 'B'\n",
    "    yield 'C'\n",
    "    yield 'D'"
   ]
  },
  {
   "cell_type": "code",
   "execution_count": 37,
   "id": "1b348637-3ac6-4861-8605-b3bee6eed5ae",
   "metadata": {},
   "outputs": [
    {
     "data": {
      "text/plain": [
       "generator"
      ]
     },
     "execution_count": 37,
     "metadata": {},
     "output_type": "execute_result"
    }
   ],
   "source": [
    "gen = mygen()\n",
    "type(gen)"
   ]
  },
  {
   "cell_type": "code",
   "execution_count": 39,
   "id": "d4b1b4a3-1323-470a-9a7b-46073e309f05",
   "metadata": {},
   "outputs": [
    {
     "data": {
      "text/plain": [
       "'A'"
      ]
     },
     "execution_count": 39,
     "metadata": {},
     "output_type": "execute_result"
    }
   ],
   "source": [
    "next(gen)"
   ]
  },
  {
   "cell_type": "code",
   "execution_count": 41,
   "id": "8de797b3-5e83-49e7-a7ff-2f7f84ebbcf5",
   "metadata": {},
   "outputs": [
    {
     "name": "stdout",
     "output_type": "stream",
     "text": [
      "A\n",
      "B\n",
      "C\n",
      "D\n"
     ]
    }
   ],
   "source": [
    "for item in mygen():\n",
    "    print(item)"
   ]
  },
  {
   "cell_type": "code",
   "execution_count": null,
   "id": "a46f65fd-5134-45dd-a22d-95b9efe2eef6",
   "metadata": {},
   "outputs": [],
   "source": []
  }
 ],
 "metadata": {
  "kernelspec": {
   "display_name": "Python 3 (ipykernel)",
   "language": "python",
   "name": "python3"
  },
  "language_info": {
   "codemirror_mode": {
    "name": "ipython",
    "version": 3
   },
   "file_extension": ".py",
   "mimetype": "text/x-python",
   "name": "python",
   "nbconvert_exporter": "python",
   "pygments_lexer": "ipython3",
   "version": "3.12.7"
  }
 },
 "nbformat": 4,
 "nbformat_minor": 5
}
