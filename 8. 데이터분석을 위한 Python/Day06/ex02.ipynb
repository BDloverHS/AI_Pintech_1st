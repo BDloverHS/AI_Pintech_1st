{
 "cells": [
  {
   "cell_type": "code",
   "execution_count": 3,
   "id": "c952089f-4768-4f61-9d43-afba9af98166",
   "metadata": {},
   "outputs": [
    {
     "name": "stdout",
     "output_type": "stream",
     "text": [
      "\n",
      "park 800905-*******\n",
      "kim  700905-*******\n",
      "\n"
     ]
    }
   ],
   "source": [
    "import re\n",
    "\n",
    "data = \"\"\"\n",
    "park 800905-1049118\n",
    "kim  700905-1059119\n",
    "\"\"\"\n",
    "\n",
    "p = re.compile(\"(\\\\d{6})[-]\\\\d{7}\") # 패턴\n",
    "print(p.sub(\"\\\\g<1>-*******\", data)) # g는 group을 의미함"
   ]
  },
  {
   "cell_type": "code",
   "execution_count": 9,
   "id": "588c2c24-c676-4cdc-a8f2-8c9a66917c07",
   "metadata": {},
   "outputs": [],
   "source": [
    "p = re.compile(\"[abc]\") # a, b, c 각각 패턴 체크\n",
    "p.match(\"d1234b\") # match는 패턴을 첫 문자부터 체크"
   ]
  },
  {
   "cell_type": "code",
   "execution_count": 16,
   "id": "0d0e53a0-26d1-476c-a819-a5476f6ac02c",
   "metadata": {},
   "outputs": [
    {
     "data": {
      "text/plain": [
       "<re.Match object; span=(0, 1), match='A'>"
      ]
     },
     "execution_count": 16,
     "metadata": {},
     "output_type": "execute_result"
    }
   ],
   "source": [
    "# 체크하는 문자열이 알파벳으로 구성되어 있는지 체크\n",
    "p = re.compile(\"[a-zA-Z0~9]\") #알파벳 a~z, A~Z\n",
    "# p.match(\"abcdefg1234\")\n",
    "# p.match(\"Abcdefg1234\")\n",
    "p.match(\"ABCD\")"
   ]
  },
  {
   "cell_type": "code",
   "execution_count": 18,
   "id": "33b75cfd-e18e-4a9f-86b5-b2b43b59ba39",
   "metadata": {},
   "outputs": [
    {
     "data": {
      "text/plain": [
       "<re.Match object; span=(0, 1), match='1'>"
      ]
     },
     "execution_count": 18,
     "metadata": {},
     "output_type": "execute_result"
    }
   ],
   "source": [
    "# p = re.compile(\"[0~9]\") # 숫자로 패턴이 시작하는지 알고 싶은 경우\n",
    "p = re.compile(\"\\\\d\")\n",
    "p.match(\"123ABC\")"
   ]
  },
  {
   "cell_type": "code",
   "execution_count": 24,
   "id": "b3ee82f4-f4b2-4904-9397-5cbdb439b977",
   "metadata": {},
   "outputs": [
    {
     "data": {
      "text/plain": [
       "<re.Match object; span=(0, 1), match='!'>"
      ]
     },
     "execution_count": 24,
     "metadata": {},
     "output_type": "execute_result"
    }
   ],
   "source": [
    "# [^...] 문자 클래스에 ^로 시작하면 ... 아닌 패턴\n",
    "# 예) [^0-9] 라면 0~9 숫자를 제외한 모든 문자\n",
    "# p = re.compile(\"[^0-9]\") # 숫자로 시작하면 안 되는 패턴 -> \\D - [^0-9]\n",
    "                         # \\소문자 : ~인 패턴, \\대문자 : ~가 아닌 패턴\n",
    "\n",
    "p = re.compile(\"\\\\D\")\n",
    "p.match(\"!123ABC\")"
   ]
  },
  {
   "cell_type": "code",
   "execution_count": 27,
   "id": "20543361-4137-4827-b22e-fd0067c4c41d",
   "metadata": {},
   "outputs": [
    {
     "data": {
      "text/plain": [
       "<re.Match object; span=(0, 1), match='1'>"
      ]
     },
     "execution_count": 27,
     "metadata": {},
     "output_type": "execute_result"
    }
   ],
   "source": [
    "# row 문자 그대로 인식 - \\d 사용 가능 r'...'\n",
    "p = re.compile(r'\\d')\n",
    "p.match(\"1234ABC\")"
   ]
  },
  {
   "cell_type": "code",
   "execution_count": 38,
   "id": "95dbefc6-8798-4722-9816-5345bb439c04",
   "metadata": {},
   "outputs": [
    {
     "data": {
      "text/plain": [
       "<re.Match object; span=(0, 5), match='a123b'>"
      ]
     },
     "execution_count": 38,
     "metadata": {},
     "output_type": "execute_result"
    }
   ],
   "source": [
    "# . : \\n을 제외한 모든 문자 1개\n",
    "# p = re.compile(\"a.b\")\n",
    "# p = re.compile(\"a...b\") # a 다음 문자는 아무거나 3개 온 후 b가 와야함\n",
    "p = re.compile(\"a.{3}b\")\n",
    "\n",
    "\n",
    "# p.match(\"abb\") # 매칭됨\n",
    "# p.match(\"a\\nb\") # 매칭 안 됨\n",
    "# p.match(\"a123b\")\n",
    "# p.match(\"aqweb\")\n",
    "p.match(\"a123b\")"
   ]
  },
  {
   "cell_type": "code",
   "execution_count": 57,
   "id": "61fd8bb9-5fe3-44b0-b80f-cf8005a736d9",
   "metadata": {},
   "outputs": [
    {
     "data": {
      "text/plain": [
       "<re.Match object; span=(0, 12), match='016-123-1234'>"
      ]
     },
     "execution_count": 57,
     "metadata": {},
     "output_type": "execute_result"
    }
   ],
   "source": [
    "# 휴대전화 번호 검증\n",
    "# 01[016] - 010, 011, 016\\d\n",
    "\n",
    "# ^01 -> 반드시 01로 시작하고 \\d{4}$ - 반드시 숫자 4자리로 끝난다\n",
    "p = re.compile(r\"^01[016]\\D*\\d{3,4}\\D*\\d{4}$\")\n",
    "p.match(\"016-123-1234\")"
   ]
  },
  {
   "cell_type": "code",
   "execution_count": 45,
   "id": "c3777abb-d42d-4468-9e8d-821b22aa93cf",
   "metadata": {},
   "outputs": [
    {
     "data": {
      "text/plain": [
       "<re.Match object; span=(0, 6), match='ABABAB'>"
      ]
     },
     "execution_count": 45,
     "metadata": {},
     "output_type": "execute_result"
    }
   ],
   "source": [
    "# {숫자, } : 숫자 이상 반복\n",
    "# (...) 패턴을 그룹화\n",
    "# p = re.compile(r\"(AB){,3}\")\n",
    "p = re.compile(r\"(AB)+\") # A, B\n",
    "p.match(\"ABABABABABAB\")"
   ]
  },
  {
   "cell_type": "code",
   "execution_count": 46,
   "id": "b868321a-001d-4955-8b6a-06f2e46719d6",
   "metadata": {},
   "outputs": [
    {
     "data": {
      "text/plain": [
       "<re.Match object; span=(0, 9), match='abc123abc'>"
      ]
     },
     "execution_count": 46,
     "metadata": {},
     "output_type": "execute_result"
    }
   ],
   "source": [
    "p = re.compile(r\".*\\d.*\") # 숫자가 포함된 패턴\n",
    "p.match(\"abc123abc\")"
   ]
  }
 ],
 "metadata": {
  "kernelspec": {
   "display_name": "Python 3 (ipykernel)",
   "language": "python",
   "name": "python3"
  },
  "language_info": {
   "codemirror_mode": {
    "name": "ipython",
    "version": 3
   },
   "file_extension": ".py",
   "mimetype": "text/x-python",
   "name": "python",
   "nbconvert_exporter": "python",
   "pygments_lexer": "ipython3",
   "version": "3.12.7"
  }
 },
 "nbformat": 4,
 "nbformat_minor": 5
}
