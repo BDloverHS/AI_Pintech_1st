{
 "cells": [
  {
   "cell_type": "code",
   "execution_count": 3,
   "id": "97426af1-73c8-403d-9efe-247f74939d9d",
   "metadata": {},
   "outputs": [
    {
     "name": "stdout",
     "output_type": "stream",
     "text": [
      "중학생\n"
     ]
    }
   ],
   "source": [
    "age = 16\n",
    "\n",
    "if age < 8:\n",
    "    print(\"유치원\")\n",
    "elif age < 14 :\n",
    "    print(\"초등학생\")\n",
    "elif age < 17 :\n",
    "    print(\"중학생\")\n",
    "elif age < 20 :\n",
    "    print(\"고등학생\")\n",
    "else :\n",
    "    print(\"성인\")"
   ]
  },
  {
   "cell_type": "code",
   "execution_count": 6,
   "id": "2c8ae345-fc32-420e-83d8-bfeff91d2909",
   "metadata": {},
   "outputs": [
    {
     "name": "stdout",
     "output_type": "stream",
     "text": [
      "사과가 있습니다.\n",
      "망고가 없습니다.\n"
     ]
    }
   ],
   "source": [
    "fruits = [\"사과\",\"오렌지\",\"멜론\"]\n",
    "\n",
    "if \"사과\" in fruits: #사과가 fruit에 포함되어 있는지 체크\n",
    "    print(\"사과가 있습니다.\")\n",
    "else:\n",
    "    print(\"사과가 없습니다.\")\n",
    "\n",
    "if \"망고\" not in fruits: #밍고가 fruit에 포함되어 있는지 체크\n",
    "    print(\"망고가 없습니다.\")\n",
    "else:\n",
    "    print(\"망고가 있습니다.\")"
   ]
  },
  {
   "cell_type": "code",
   "execution_count": 10,
   "id": "7e2018d1-6077-494d-94ca-c7ad4476d40a",
   "metadata": {},
   "outputs": [],
   "source": [
    "num = 10\n",
    "if num > 5 and num < 20:\n",
    "    pass # 아무 것도 안 함\n",
    "\n",
    "# if num > 5 and num < 20 : pass의 형태로 나타낼 수 있다."
   ]
  },
  {
   "cell_type": "code",
   "execution_count": 12,
   "id": "42c934f6-bd01-4357-8478-eacdca4122a7",
   "metadata": {},
   "outputs": [
    {
     "name": "stdout",
     "output_type": "stream",
     "text": [
      "합격\n"
     ]
    }
   ],
   "source": [
    "score = 60\n",
    "\n",
    "# 조건부 표현식\n",
    "result = \"합격\" if score >= 60 else \"불합격\"\n",
    "print(result)"
   ]
  },
  {
   "cell_type": "code",
   "execution_count": null,
   "id": "3d080815-4917-4a1e-ad3d-8f7bfb71f432",
   "metadata": {},
   "outputs": [],
   "source": []
  },
  {
   "cell_type": "code",
   "execution_count": 5,
   "id": "562b85b7-20cb-4455-bb35-cd5f5a3c98ef",
   "metadata": {},
   "outputs": [],
   "source": [
    "obj = {'name':'이이름', 'age':17}"
   ]
  },
  {
   "cell_type": "code",
   "execution_count": 13,
   "id": "4758a595-0c2f-4bb4-a986-a2974596e157",
   "metadata": {
    "scrolled": true
   },
   "outputs": [
    {
     "name": "stdout",
     "output_type": "stream",
     "text": [
      "key는 in을 통해 포함 유무를 볼 수 있다.\n",
      "value는 in을 통해 포함 유무를 볼 수 없다.\n"
     ]
    }
   ],
   "source": [
    "if 'name' in obj:\n",
    "    print(\"key는 in을 통해 포함 유무를 볼 수 있다.\")\n",
    "\n",
    "if 17 in obj:\n",
    "    print(\"value는 in을 통해 포함 유무를 볼 수 있다.\")\n",
    "elif 17 not in obj:\n",
    "    print(\"value는 in을 통해 포함 유무를 볼 수 없다.\")"
   ]
  }
 ],
 "metadata": {
  "kernelspec": {
   "display_name": "Python 3 (ipykernel)",
   "language": "python",
   "name": "python3"
  },
  "language_info": {
   "codemirror_mode": {
    "name": "ipython",
    "version": 3
   },
   "file_extension": ".py",
   "mimetype": "text/x-python",
   "name": "python",
   "nbconvert_exporter": "python",
   "pygments_lexer": "ipython3",
   "version": "3.12.7"
  }
 },
 "nbformat": 4,
 "nbformat_minor": 5
}
