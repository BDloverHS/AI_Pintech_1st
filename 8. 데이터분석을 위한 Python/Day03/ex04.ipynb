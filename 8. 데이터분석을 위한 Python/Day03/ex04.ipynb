{
 "cells": [
  {
   "cell_type": "code",
   "execution_count": 1,
   "id": "0005eec1-83f3-4b50-999e-c20fa767ef8d",
   "metadata": {},
   "outputs": [],
   "source": [
    "def add(a, b):\n",
    "    return a + b"
   ]
  },
  {
   "cell_type": "code",
   "execution_count": 2,
   "id": "dd71f220-8b61-4795-bb35-ada72899d929",
   "metadata": {},
   "outputs": [
    {
     "data": {
      "text/plain": [
       "30"
      ]
     },
     "execution_count": 2,
     "metadata": {},
     "output_type": "execute_result"
    }
   ],
   "source": [
    "add(10,20)"
   ]
  },
  {
   "cell_type": "code",
   "execution_count": 3,
   "id": "0697b0bf-f4e5-464f-8d7b-294ebecf02b2",
   "metadata": {},
   "outputs": [],
   "source": [
    "def sub(a,b):\n",
    "    pass"
   ]
  },
  {
   "cell_type": "code",
   "execution_count": 6,
   "id": "33ff90dc-b00f-4d15-867a-5f8a0976f502",
   "metadata": {},
   "outputs": [],
   "source": [
    "def calc(a, b):\n",
    "    return a + b, a - b, a * b, a / b # 반환값 4개가 아닌 튜플 1개"
   ]
  },
  {
   "cell_type": "code",
   "execution_count": 9,
   "id": "a07ad869-4970-4dbd-9fde-c7388d083c6b",
   "metadata": {},
   "outputs": [
    {
     "name": "stdout",
     "output_type": "stream",
     "text": [
      "(15, 5, 50, 2.0)\n"
     ]
    },
    {
     "data": {
      "text/plain": [
       "tuple"
      ]
     },
     "execution_count": 9,
     "metadata": {},
     "output_type": "execute_result"
    }
   ],
   "source": [
    "result = calc(10,5)\n",
    "print(result)\n",
    "type(result)"
   ]
  },
  {
   "cell_type": "code",
   "execution_count": 10,
   "id": "6ed227d4-c769-4393-8080-04c7c38abf8f",
   "metadata": {},
   "outputs": [
    {
     "name": "stdout",
     "output_type": "stream",
     "text": [
      "15 5 50 2.0\n"
     ]
    }
   ],
   "source": [
    "r1, r2, r3, r4 = calc(10, 5)\n",
    "print(r1, r2, r3, r4)"
   ]
  },
  {
   "cell_type": "code",
   "execution_count": 18,
   "id": "a35ad35b-113f-47c8-b56d-4f2219e5e520",
   "metadata": {},
   "outputs": [],
   "source": [
    "def sum(num, *params):\n",
    "    print(\"num :\", num, \"params : \", params)\n",
    "    total = 0\n",
    "    for i in params:\n",
    "        total += i\n",
    "        \n",
    "    return total"
   ]
  },
  {
   "cell_type": "code",
   "execution_count": 19,
   "id": "03637f3a-1fe6-4a81-bc6a-7b718f17f567",
   "metadata": {},
   "outputs": [
    {
     "name": "stdout",
     "output_type": "stream",
     "text": [
      "num : 10 params :  (20, 30, 40)\n"
     ]
    },
    {
     "data": {
      "text/plain": [
       "90"
      ]
     },
     "execution_count": 19,
     "metadata": {},
     "output_type": "execute_result"
    }
   ],
   "source": [
    "sum(10,20,30,40)"
   ]
  },
  {
   "cell_type": "code",
   "execution_count": 22,
   "id": "27f7217b-978a-4520-b824-a49a8a111936",
   "metadata": {},
   "outputs": [],
   "source": [
    "def sum(a, b):\n",
    "    return a-b"
   ]
  },
  {
   "cell_type": "code",
   "execution_count": 21,
   "id": "0d6638c9-f1e4-45dd-914f-3a32ec5e5a9c",
   "metadata": {},
   "outputs": [
    {
     "data": {
      "text/plain": [
       "30"
      ]
     },
     "execution_count": 21,
     "metadata": {},
     "output_type": "execute_result"
    }
   ],
   "source": [
    "add(10, 20) # a = 10, b = 20"
   ]
  },
  {
   "cell_type": "code",
   "execution_count": 23,
   "id": "36bb2f28-3050-45af-abba-1839ef53a347",
   "metadata": {},
   "outputs": [
    {
     "data": {
      "text/plain": [
       "-10"
      ]
     },
     "execution_count": 23,
     "metadata": {},
     "output_type": "execute_result"
    }
   ],
   "source": [
    "sum(b = 20, a = 10)"
   ]
  },
  {
   "cell_type": "code",
   "execution_count": 24,
   "id": "c8e9ebbb-e3a6-447b-9aeb-8c35b4f5c1ba",
   "metadata": {},
   "outputs": [],
   "source": [
    "def words(**params):\n",
    "    print(params)"
   ]
  },
  {
   "cell_type": "code",
   "execution_count": 25,
   "id": "a31e79b6-5847-4b8c-ab4f-e6e27effdb5a",
   "metadata": {},
   "outputs": [
    {
     "name": "stdout",
     "output_type": "stream",
     "text": [
      "{'name': '이이름', 'age': 40, 'address': '주소'}\n"
     ]
    }
   ],
   "source": [
    "words(name='이이름', age=40, address='주소')"
   ]
  },
  {
   "cell_type": "code",
   "execution_count": 26,
   "id": "434d9102-f07b-4be0-90e0-dd90da3e0fdb",
   "metadata": {},
   "outputs": [],
   "source": [
    "def get_number(num):\n",
    "    if num % 10 == 0:\n",
    "        print(\"종료!\")\n",
    "        return # 함수의 종료, 이 후 코드는 실행 X\n",
    "    print(num)"
   ]
  },
  {
   "cell_type": "code",
   "execution_count": 27,
   "id": "b16fc110-be99-40b9-84cf-bee189fd2e20",
   "metadata": {},
   "outputs": [
    {
     "name": "stdout",
     "output_type": "stream",
     "text": [
      "11\n"
     ]
    }
   ],
   "source": [
    "get_number(11)"
   ]
  },
  {
   "cell_type": "code",
   "execution_count": 28,
   "id": "69006c36-12d1-4506-8b8a-47a451117c05",
   "metadata": {},
   "outputs": [],
   "source": [
    "def sum(a, b = 50, c = 100): # 기본값은 항상 마지막 매개변수부터 차례대로 설정한다.\n",
    "    return a + b + c"
   ]
  },
  {
   "cell_type": "code",
   "execution_count": 29,
   "id": "b82bb7e0-1928-41dc-aa9f-edde2f922382",
   "metadata": {},
   "outputs": [
    {
     "data": {
      "text/plain": [
       "130"
      ]
     },
     "execution_count": 29,
     "metadata": {},
     "output_type": "execute_result"
    }
   ],
   "source": [
    "sum(10, 20)"
   ]
  },
  {
   "cell_type": "code",
   "execution_count": 31,
   "id": "416221d5-36f6-4617-9997-ef3b8a3ff049",
   "metadata": {},
   "outputs": [],
   "source": [
    "# def sum2(a, b = 100, c): -> 오류 발생\n",
    "#    return a + b + c"
   ]
  },
  {
   "cell_type": "code",
   "execution_count": 33,
   "id": "5baf9684-d75f-4914-8fd8-866e26b60561",
   "metadata": {},
   "outputs": [],
   "source": [
    "name = '이이름'\n",
    "\n",
    "def message(msg):\n",
    "    global name # 전역변수 name을 message 함수 지역 내에서 사욜하겠다!\n",
    "    print(f\"{name}님 {msg}\")"
   ]
  },
  {
   "cell_type": "code",
   "execution_count": 34,
   "id": "aed2bb07-7db7-4929-93d9-eff7d2d7f87a",
   "metadata": {},
   "outputs": [
    {
     "name": "stdout",
     "output_type": "stream",
     "text": [
      "이이름님 안녕하세요\n"
     ]
    }
   ],
   "source": [
    "message(\"안녕하세요\")"
   ]
  },
  {
   "cell_type": "code",
   "execution_count": 35,
   "id": "0d3f790a-d11b-4b35-9b40-c9574533b43b",
   "metadata": {},
   "outputs": [],
   "source": [
    "name = '이이름'"
   ]
  },
  {
   "cell_type": "code",
   "execution_count": 36,
   "id": "bca64afb-0afc-4e28-afee-979252191a90",
   "metadata": {},
   "outputs": [],
   "source": [
    "def message(msg):\n",
    "    global name # 전역변수 name을 message 함수 지역 내에서 사욜하겠다!\n",
    "    print(f\"{name}님 {msg}\")"
   ]
  },
  {
   "cell_type": "code",
   "execution_count": 37,
   "id": "09c86e58-35fc-411a-9173-4b6cd25c83c8",
   "metadata": {},
   "outputs": [
    {
     "name": "stdout",
     "output_type": "stream",
     "text": [
      "이이름님 안녕하세요\n"
     ]
    }
   ],
   "source": [
    "message(\"안녕하세요\")"
   ]
  },
  {
   "cell_type": "code",
   "execution_count": 39,
   "id": "eb17e9ed-fcab-4f23-994a-f9419bfc41e1",
   "metadata": {},
   "outputs": [
    {
     "name": "stdout",
     "output_type": "stream",
     "text": [
      "[2, 4, 6, 8, 10]\n"
     ]
    }
   ],
   "source": [
    "nums = [1,2,3,4,5,6,7,8,9,10]\n",
    "\n",
    "def is_even(num): # 짝수 판별 함수\n",
    "    return num % 2 == 0\n",
    "\n",
    "even = filter(is_even, nums)\n",
    "even_nums = list(even)\n",
    "print(even_nums)"
   ]
  },
  {
   "cell_type": "code",
   "execution_count": 40,
   "id": "cd63472a-3466-4fdd-bb20-4364e2e0538f",
   "metadata": {},
   "outputs": [
    {
     "name": "stdout",
     "output_type": "stream",
     "text": [
      "[2, 4, 6, 8, 10]\n"
     ]
    }
   ],
   "source": [
    "nums = [1,2,3,4,5,6,7,8,9,10]\n",
    "\n",
    "is_even = lambda x : x % 2 == 0\n",
    "even = list(filter(is_even, nums))\n",
    "print(even)"
   ]
  },
  {
   "cell_type": "code",
   "execution_count": 41,
   "id": "d8988422-2491-43e5-bf0d-e90253a0ee7b",
   "metadata": {},
   "outputs": [
    {
     "name": "stdout",
     "output_type": "stream",
     "text": [
      "[2, 4, 6, 8, 10]\n"
     ]
    }
   ],
   "source": [
    "nums = [1,2,3,4,5,6,7,8,9,10]\n",
    "even = list(filter(lambda x:x%2 ==0, nums))\n",
    "print(even)"
   ]
  },
  {
   "cell_type": "code",
   "execution_count": null,
   "id": "ed52a2f8-af42-4095-af83-195130cc04d1",
   "metadata": {},
   "outputs": [],
   "source": []
  }
 ],
 "metadata": {
  "kernelspec": {
   "display_name": "Python 3 (ipykernel)",
   "language": "python",
   "name": "python3"
  },
  "language_info": {
   "codemirror_mode": {
    "name": "ipython",
    "version": 3
   },
   "file_extension": ".py",
   "mimetype": "text/x-python",
   "name": "python",
   "nbconvert_exporter": "python",
   "pygments_lexer": "ipython3",
   "version": "3.12.7"
  }
 },
 "nbformat": 4,
 "nbformat_minor": 5
}
