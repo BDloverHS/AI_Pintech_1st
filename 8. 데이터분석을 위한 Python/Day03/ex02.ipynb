{
 "cells": [
  {
   "cell_type": "code",
   "execution_count": 4,
   "id": "96cbcbcf-e53b-42f0-8573-14a6a5fd77c8",
   "metadata": {},
   "outputs": [],
   "source": [
    "total = 0\n",
    "\n",
    "while True: # 무한루프\n",
    "    num = input(\"숫자 입력 : \")\n",
    "    try:\n",
    "        total += int(num)\n",
    "        print(\"합계 : \",total)\n",
    "    except:\n",
    "        print(\"숫자 형식만 입력하세요\")"
   ]
  },
  {
   "cell_type": "code",
   "execution_count": 6,
   "id": "4442b838-e6d5-4166-bf12-ed3e9f0967ee",
   "metadata": {},
   "outputs": [
    {
     "name": "stdout",
     "output_type": "stream",
     "text": [
      "합계 :  625\n"
     ]
    }
   ],
   "source": [
    "total = 0\n",
    "num = 1\n",
    "\n",
    "while num <= 100:\n",
    "    if num == 50:\n",
    "        break # 반복 멈추기\n",
    "    \n",
    "    if num % 2 == 0:\n",
    "        num += 1\n",
    "        continue #현재 반복을 중단하고 새로 반복 시작(반복 건너뛰기)\n",
    "    total += num\n",
    "    # num++ 파이썬은 증가감소 연산자 사용불가\n",
    "    num = num+1 #or num = num + 1\n",
    "\n",
    "print(\"합계 : \", total)"
   ]
  },
  {
   "cell_type": "code",
   "execution_count": null,
   "id": "932672b4-f5a8-4409-8e62-b48539563c3c",
   "metadata": {},
   "outputs": [],
   "source": []
  }
 ],
 "metadata": {
  "kernelspec": {
   "display_name": "Python 3 (ipykernel)",
   "language": "python",
   "name": "python3"
  },
  "language_info": {
   "codemirror_mode": {
    "name": "ipython",
    "version": 3
   },
   "file_extension": ".py",
   "mimetype": "text/x-python",
   "name": "python",
   "nbconvert_exporter": "python",
   "pygments_lexer": "ipython3",
   "version": "3.12.7"
  }
 },
 "nbformat": 4,
 "nbformat_minor": 5
}
