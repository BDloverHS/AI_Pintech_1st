{
 "cells": [
  {
   "cell_type": "code",
   "execution_count": 4,
   "id": "74f71801-3849-4a84-92e8-d3dcc2e51233",
   "metadata": {},
   "outputs": [
    {
     "name": "stdout",
     "output_type": "stream",
     "text": [
      "ABCDEFGHI\n"
     ]
    }
   ],
   "source": [
    "print(\"ABC\"+\"DEF\"+\"GHI\") #문자열 결합 + 연산자, 문자열끼리만 가능"
   ]
  },
  {
   "cell_type": "code",
   "execution_count": 2,
   "id": "94c54af8-da04-497f-8045-cd8a14331157",
   "metadata": {},
   "outputs": [
    {
     "name": "stdout",
     "output_type": "stream",
     "text": [
      "ABCDEFGEI\n"
     ]
    }
   ],
   "source": [
    "print(\"ABC\" \"DEF\" \"GEI\") # 문자열 결합, + 연산자를 사용하지 않아도 결합해서 출력!"
   ]
  },
  {
   "cell_type": "code",
   "execution_count": 3,
   "id": "07e57e42-b1f6-4a69-b161-8654fe7eaad2",
   "metadata": {},
   "outputs": [
    {
     "name": "stdout",
     "output_type": "stream",
     "text": [
      "ABC DEF GHI\n"
     ]
    }
   ],
   "source": [
    "print(\"ABC\",\"DEF\",\"GHI\") # 문자열을 공백으로 띄어서 결합"
   ]
  },
  {
   "cell_type": "code",
   "execution_count": 6,
   "id": "d4ada410-b22d-469d-8d11-4217ff5e8429",
   "metadata": {},
   "outputs": [
    {
     "name": "stdout",
     "output_type": "stream",
     "text": [
      "ABC#DEF%GHI\n"
     ]
    }
   ],
   "source": [
    "print(\"ABC\", end=\"#\") # end : 기본값이 \\n -> \"ABC\\n\"\n",
    "print(\"DEF\", end=\"%\")\n",
    "print(\"GHI\")"
   ]
  },
  {
   "cell_type": "code",
   "execution_count": null,
   "id": "e7d48c6a-65fa-41a1-a927-af313780003e",
   "metadata": {},
   "outputs": [],
   "source": []
  }
 ],
 "metadata": {
  "kernelspec": {
   "display_name": "Python 3 (ipykernel)",
   "language": "python",
   "name": "python3"
  },
  "language_info": {
   "codemirror_mode": {
    "name": "ipython",
    "version": 3
   },
   "file_extension": ".py",
   "mimetype": "text/x-python",
   "name": "python",
   "nbconvert_exporter": "python",
   "pygments_lexer": "ipython3",
   "version": "3.12.7"
  }
 },
 "nbformat": 4,
 "nbformat_minor": 5
}
