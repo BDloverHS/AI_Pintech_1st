{
 "cells": [
  {
   "cell_type": "code",
   "execution_count": 4,
   "id": "77cf1c76-4f24-4151-9709-ed3b565a1490",
   "metadata": {},
   "outputs": [
    {
     "name": "stdout",
     "output_type": "stream",
     "text": [
      "사과 apple\n",
      "오렌지 orange\n",
      "멜론 melon\n",
      "망고 mango\n"
     ]
    }
   ],
   "source": [
    "fruits = [(\"사과\", \"apple\"), (\"오렌지\", \"orange\"), (\"멜론\", \"melon\"), (\"망고\", \"mango\")]\n",
    "for (title, item) in fruits:\n",
    "    print(title, item)\n",
    "\n",
    "\n",
    "# for item in fruits:\n",
    "#    print(item)"
   ]
  },
  {
   "cell_type": "code",
   "execution_count": 2,
   "id": "71bfaf0b-c379-42d1-991f-30ede09dc8e4",
   "metadata": {},
   "outputs": [
    {
     "name": "stdout",
     "output_type": "stream",
     "text": [
      "A\n",
      "B\n",
      "C\n"
     ]
    }
   ],
   "source": [
    "for item in \"ABC\":\n",
    "    print(item)"
   ]
  },
  {
   "cell_type": "code",
   "execution_count": 8,
   "id": "4337e20d-659f-4817-92dc-bc6a1b72f58c",
   "metadata": {},
   "outputs": [
    {
     "name": "stdout",
     "output_type": "stream",
     "text": [
      "0 반복\n",
      "1 반복\n",
      "2 반복\n",
      "3 반복\n",
      "4 반복\n",
      "5 반복\n",
      "6 반복\n",
      "7 반복\n",
      "8 반복\n",
      "9 반복\n",
      "\n",
      "1 반복\n",
      "2 반복\n",
      "3 반복\n",
      "4 반복\n",
      "5 반복\n",
      "6 반복\n",
      "7 반복\n",
      "8 반복\n",
      "9 반복\n",
      "10 반복\n",
      "\n",
      "1 반복\n",
      "3 반복\n",
      "5 반복\n",
      "7 반복\n",
      "9 반복\n"
     ]
    }
   ],
   "source": [
    "for i in range(10): # 0~9\n",
    "    print(i, \"반복\")\n",
    "\n",
    "print(\"\")\n",
    "\n",
    "for i in range(1,11): # 0~9\n",
    "    print(i, \"반복\")\n",
    "\n",
    "print(\"\")\n",
    "\n",
    "for i in range(1,11,2):\n",
    "    print(i, \"반복\")"
   ]
  },
  {
   "cell_type": "code",
   "execution_count": 9,
   "id": "18169b78-9e6f-439f-a24f-4b818eb7fc51",
   "metadata": {},
   "outputs": [
    {
     "name": "stdout",
     "output_type": "stream",
     "text": [
      "----------2단----------\n",
      "2 X 1 = 2\n",
      "2 X 2 = 4\n",
      "2 X 3 = 6\n",
      "2 X 4 = 8\n",
      "2 X 5 = 10\n",
      "2 X 6 = 12\n",
      "2 X 7 = 14\n",
      "2 X 8 = 16\n",
      "2 X 9 = 18\n",
      "----------3단----------\n",
      "3 X 1 = 3\n",
      "3 X 2 = 6\n",
      "3 X 3 = 9\n",
      "3 X 4 = 12\n",
      "3 X 5 = 15\n",
      "3 X 6 = 18\n",
      "3 X 7 = 21\n",
      "3 X 8 = 24\n",
      "3 X 9 = 27\n",
      "----------4단----------\n",
      "4 X 1 = 4\n",
      "4 X 2 = 8\n",
      "4 X 3 = 12\n",
      "4 X 4 = 16\n",
      "4 X 5 = 20\n",
      "4 X 6 = 24\n",
      "4 X 7 = 28\n",
      "4 X 8 = 32\n",
      "4 X 9 = 36\n",
      "----------5단----------\n",
      "5 X 1 = 5\n",
      "5 X 2 = 10\n",
      "5 X 3 = 15\n",
      "5 X 4 = 20\n",
      "5 X 5 = 25\n",
      "5 X 6 = 30\n",
      "5 X 7 = 35\n",
      "5 X 8 = 40\n",
      "5 X 9 = 45\n",
      "----------6단----------\n",
      "6 X 1 = 6\n",
      "6 X 2 = 12\n",
      "6 X 3 = 18\n",
      "6 X 4 = 24\n",
      "6 X 5 = 30\n",
      "6 X 6 = 36\n",
      "6 X 7 = 42\n",
      "6 X 8 = 48\n",
      "6 X 9 = 54\n",
      "----------7단----------\n",
      "7 X 1 = 7\n",
      "7 X 2 = 14\n",
      "7 X 3 = 21\n",
      "7 X 4 = 28\n",
      "7 X 5 = 35\n",
      "7 X 6 = 42\n",
      "7 X 7 = 49\n",
      "7 X 8 = 56\n",
      "7 X 9 = 63\n",
      "----------8단----------\n",
      "8 X 1 = 8\n",
      "8 X 2 = 16\n",
      "8 X 3 = 24\n",
      "8 X 4 = 32\n",
      "8 X 5 = 40\n",
      "8 X 6 = 48\n",
      "8 X 7 = 56\n",
      "8 X 8 = 64\n",
      "8 X 9 = 72\n",
      "----------9단----------\n",
      "9 X 1 = 9\n",
      "9 X 2 = 18\n",
      "9 X 3 = 27\n",
      "9 X 4 = 36\n",
      "9 X 5 = 45\n",
      "9 X 6 = 54\n",
      "9 X 7 = 63\n",
      "9 X 8 = 72\n",
      "9 X 9 = 81\n"
     ]
    }
   ],
   "source": [
    "# 구구단 출력 - 중첩된 for문 예\n",
    "\n",
    "for i in range(2, 10): # 2~9\n",
    "    print(\"----------%d단----------\" % i)\n",
    "    for j in range(1, 10) : #1~9\n",
    "        print(f\"{i} X {j} = {i * j}\")"
   ]
  },
  {
   "cell_type": "code",
   "execution_count": 12,
   "id": "40c0aefd-f2f4-457a-bbfc-421a3b6ef81b",
   "metadata": {},
   "outputs": [
    {
     "name": "stdout",
     "output_type": "stream",
     "text": [
      "[484]\n",
      "[484, 361]\n",
      "[484, 361, 4]\n",
      "[484, 361, 4, 25]\n",
      "[484, 361, 4, 25, 5929]\n",
      "[484, 361, 4, 25, 5929, 7396]\n",
      "[484, 361, 4, 25, 5929, 7396, 625]\n",
      "[484, 361, 4, 25, 5929, 7396, 625]\n"
     ]
    }
   ],
   "source": [
    "nums = [22, 19, 2, 5, 77, 86, 25]\n",
    "result = []\n",
    "for i in nums:\n",
    "    result.append(i * i)\n",
    "    print(result)\n",
    "\n",
    "print(result)"
   ]
  },
  {
   "cell_type": "code",
   "execution_count": 15,
   "id": "4721749a-2cff-4096-9dbb-36723cd4a16c",
   "metadata": {},
   "outputs": [
    {
     "name": "stdout",
     "output_type": "stream",
     "text": [
      "[484, 4, 7396]\n"
     ]
    }
   ],
   "source": [
    "nums = [22, 19, 2, 5, 77, 86, 25]\n",
    "# result = [i * i for i in nums] # 리스트 컴프리헨션 문법\n",
    "result = [i * i for i in nums if i % 2 == 0]\n",
    "print(result)"
   ]
  },
  {
   "cell_type": "code",
   "execution_count": 17,
   "id": "0b4c65e6-ec57-4543-a956-256cead289ae",
   "metadata": {},
   "outputs": [
    {
     "name": "stdout",
     "output_type": "stream",
     "text": [
      "[11, 22, 33, 44, 55, 66, 77, 88, 99, 100, 22, 44, 66, 88, 110, 132, 154, 176, 198, 200, 33, 66, 99, 132, 165, 198, 231, 264, 297, 300, 44, 88, 132, 176, 220, 264, 308, 352, 396, 400, 55, 110, 165, 220, 275, 330, 385, 440, 495, 500, 66, 132, 198, 264, 330, 396, 462, 528, 594, 600, 77, 154, 231, 308, 385, 462, 539, 616, 693, 700, 88, 176, 264, 352, 440, 528, 616, 704, 792, 800, 99, 198, 297, 396, 495, 594, 693, 792, 891, 900, 110, 220, 330, 440, 550, 660, 770, 880, 990, 1000]\n"
     ]
    }
   ],
   "source": [
    "nums1 = [1, 2, 3, 4, 5, 6, 7, 8, 9, 10]\n",
    "nums2 = [11, 22, 33, 44, 55, 66, 77, 88, 99, 100]\n",
    "\n",
    "# result = [i * j for i in nums1\n",
    "#                 for j in nums2]\n",
    "\n",
    "result = [i * j for i in nums1 if i % 2 == 0 for j ]\n",
    "\n",
    "print(result)"
   ]
  }
 ],
 "metadata": {
  "kernelspec": {
   "display_name": "Python 3 (ipykernel)",
   "language": "python",
   "name": "python3"
  },
  "language_info": {
   "codemirror_mode": {
    "name": "ipython",
    "version": 3
   },
   "file_extension": ".py",
   "mimetype": "text/x-python",
   "name": "python",
   "nbconvert_exporter": "python",
   "pygments_lexer": "ipython3",
   "version": "3.12.7"
  }
 },
 "nbformat": 4,
 "nbformat_minor": 5
}
