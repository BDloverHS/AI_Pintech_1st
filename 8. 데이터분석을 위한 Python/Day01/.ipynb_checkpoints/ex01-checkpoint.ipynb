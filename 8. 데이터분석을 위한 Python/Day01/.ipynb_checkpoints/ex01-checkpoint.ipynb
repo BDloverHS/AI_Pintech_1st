{
 "cells": [
  {
   "cell_type": "code",
   "execution_count": 1,
   "id": "71a70625-76dc-4426-8eb9-f45817f24f97",
   "metadata": {},
   "outputs": [
    {
     "name": "stdout",
     "output_type": "stream",
     "text": [
      "첫번째 파이썬 프로그램\n"
     ]
    }
   ],
   "source": [
    "print(\"첫번째 파이썬 프로그램\")"
   ]
  },
  {
   "cell_type": "code",
   "execution_count": 2,
   "id": "fa4a7199-a4c8-4733-889b-dee536297c09",
   "metadata": {},
   "outputs": [
    {
     "data": {
      "text/plain": [
       "8"
      ]
     },
     "execution_count": 2,
     "metadata": {},
     "output_type": "execute_result"
    }
   ],
   "source": [
    "# ** : 제곱 연산\n",
    "2 ** 3 #2의 3제곱"
   ]
  },
  {
   "cell_type": "code",
   "execution_count": 6,
   "id": "67609be0-6dda-4d22-a491-398af2329b00",
   "metadata": {},
   "outputs": [
    {
     "name": "stdout",
     "output_type": "stream",
     "text": [
      "1\n",
      "4\n"
     ]
    }
   ],
   "source": [
    "# % : 나머지 연산자\n",
    "# // : 몫을 구하는 연산자\n",
    "print(9 % 2)\n",
    "print(9 // 2)"
   ]
  },
  {
   "cell_type": "code",
   "execution_count": 12,
   "id": "d7e6a409-29db-47d5-8897-3bce2d51b19b",
   "metadata": {},
   "outputs": [
    {
     "data": {
      "text/plain": [
       "str"
      ]
     },
     "execution_count": 12,
     "metadata": {},
     "output_type": "execute_result"
    }
   ],
   "source": [
    "# a = 100\n",
    "# a = 100.123\n",
    "# a = \"Python\"\n",
    "a = 'Python'\n",
    "\n",
    "type(a) # 자료형 체크 함수"
   ]
  },
  {
   "cell_type": "code",
   "execution_count": 19,
   "id": "ff4a2c64-3642-45dc-9db7-1979aa5af5a3",
   "metadata": {},
   "outputs": [
    {
     "data": {
      "text/plain": [
       "\"Python's favorite food is perl\""
      ]
     },
     "execution_count": 19,
     "metadata": {},
     "output_type": "execute_result"
    }
   ],
   "source": [
    "\"Python's favorite food is perl\" # 문장에 작은 따옴표가 섞여 있는 경우 큰 따옴표(\" \") 사용\n",
    "# 'Python's favorite food is perl' -> 문법 오류 발생"
   ]
  },
  {
   "cell_type": "code",
   "execution_count": 21,
   "id": "af1f31b8-a9ef-4ff8-84b8-0c9aca9b46c0",
   "metadata": {},
   "outputs": [
    {
     "data": {
      "text/plain": [
       "'Python\"s favorite food is perl'"
      ]
     },
     "execution_count": 21,
     "metadata": {},
     "output_type": "execute_result"
    }
   ],
   "source": [
    "'Python\\'s favorite food is perl' # \\' - 작은 따옴표 인식 가능. 여기서 \\는 escape 문자이다.\n",
    "\"Python\\\"s favorite food is perl\" # \\' - 큰 따옴표 인식 가능. 여기서 \\는 escape 문자이다."
   ]
  },
  {
   "cell_type": "code",
   "execution_count": 23,
   "id": "fcaa242f-c52c-4a57-88a7-83c4e8e7d3d7",
   "metadata": {},
   "outputs": [
    {
     "name": "stdout",
     "output_type": "stream",
     "text": [
      "Life is short,\n",
      "You need Python\n"
     ]
    }
   ],
   "source": [
    "a = \"Life is short,\\nYou need Python\" # \\n - 메타문자 / 줄개행\n",
    "print(a)"
   ]
  },
  {
   "cell_type": "code",
   "execution_count": 24,
   "id": "ba6f38bb-3766-4582-a214-ce537fd55311",
   "metadata": {},
   "outputs": [
    {
     "name": "stdout",
     "output_type": "stream",
     "text": [
      "Life is short,\n",
      "You need Python\n"
     ]
    }
   ],
   "source": [
    "b = \"\"\"Life is short,\n",
    "You need Python\"\"\" # \"\"\" 혹은 ''' 모두 가능\n",
    "print(b)"
   ]
  },
  {
   "cell_type": "code",
   "execution_count": 25,
   "id": "50df09c8-39a6-4cdc-9354-26f2e6d87a01",
   "metadata": {},
   "outputs": [
    {
     "data": {
      "text/plain": [
       "'Python is fun!'"
      ]
     },
     "execution_count": 25,
     "metadata": {},
     "output_type": "execute_result"
    }
   ],
   "source": [
    "\"Python\" + \" is \" + \"fun!\""
   ]
  },
  {
   "cell_type": "code",
   "execution_count": 26,
   "id": "bd40427f-2bf3-4db3-a673-01e112e3e397",
   "metadata": {},
   "outputs": [
    {
     "data": {
      "text/plain": [
       "'PythonPythonPython'"
      ]
     },
     "execution_count": 26,
     "metadata": {},
     "output_type": "execute_result"
    }
   ],
   "source": [
    "\"Python\" * 3"
   ]
  },
  {
   "cell_type": "code",
   "execution_count": 28,
   "id": "c3458078-8b8b-4054-8ff5-a091a5051b76",
   "metadata": {},
   "outputs": [
    {
     "name": "stdout",
     "output_type": "stream",
     "text": [
      "==============================\n",
      "재미있는 파이썬 공부!\n",
      "==============================\n"
     ]
    }
   ],
   "source": [
    "print(\"=\" * 30)\n",
    "print(\"재미있는 파이썬 공부!\")\n",
    "print(\"=\" * 30)"
   ]
  },
  {
   "cell_type": "code",
   "execution_count": 29,
   "id": "0aa68235-6c48-41cd-93eb-9ad0f773cdc1",
   "metadata": {},
   "outputs": [
    {
     "data": {
      "text/plain": [
       "5"
      ]
     },
     "execution_count": 29,
     "metadata": {},
     "output_type": "execute_result"
    }
   ],
   "source": [
    "a = \"가나다라마\"\n",
    "len(a)"
   ]
  },
  {
   "cell_type": "code",
   "execution_count": 36,
   "id": "58909bba-d614-4c4c-b6bc-511e0d5200d0",
   "metadata": {
    "scrolled": true
   },
   "outputs": [],
   "source": [
    "a = \"Life is too shrot, You need Python\""
   ]
  },
  {
   "cell_type": "code",
   "execution_count": 48,
   "id": "69ecc0b6-1fd8-4f34-b94d-f2dfcba5d8eb",
   "metadata": {},
   "outputs": [
    {
     "data": {
      "text/plain": [
       "'Python'"
      ]
     },
     "execution_count": 48,
     "metadata": {},
     "output_type": "execute_result"
    }
   ],
   "source": [
    "a[28:len(a)]"
   ]
  },
  {
   "cell_type": "code",
   "execution_count": 52,
   "id": "255abccc-eae4-4b85-b273-452a5d4d57a8",
   "metadata": {},
   "outputs": [
    {
     "name": "stdout",
     "output_type": "stream",
     "text": [
      "Life is too shrot, You need Python\n",
      "Life 3082792369872 3082792813072\n"
     ]
    }
   ],
   "source": [
    "# a[-6:-1]\n",
    "a[-6:] # -6 인덱스 위치부터 끝까지\n",
    "a[:-7] # 0 ~ -8\n",
    "b=a[:] # 문자열 전체 복사\n",
    "print(b)\n",
    "# print(id(a), id(b))\n",
    "print(a[0:4], id(a[0:4]), id(a))"
   ]
  },
  {
   "cell_type": "code",
   "execution_count": 39,
   "id": "f4325842-842a-429c-bd4a-5771324095ed",
   "metadata": {},
   "outputs": [
    {
     "data": {
      "text/plain": [
       "'Life'"
      ]
     },
     "execution_count": 39,
     "metadata": {},
     "output_type": "execute_result"
    }
   ],
   "source": [
    "a[0:4] #a[0]~a[3]"
   ]
  },
  {
   "cell_type": "code",
   "execution_count": 38,
   "id": "cc40d382-8a5f-40b0-89e0-d441775cb894",
   "metadata": {},
   "outputs": [
    {
     "data": {
      "text/plain": [
       "'f'"
      ]
     },
     "execution_count": 38,
     "metadata": {},
     "output_type": "execute_result"
    }
   ],
   "source": [
    "a[2]"
   ]
  },
  {
   "cell_type": "code",
   "execution_count": 35,
   "id": "f1194173-f9d8-4265-abb5-62596a75ace5",
   "metadata": {},
   "outputs": [
    {
     "name": "stdout",
     "output_type": "stream",
     "text": [
      "140712695776176\n",
      "3082795235584\n",
      "ABCDEF\n"
     ]
    }
   ],
   "source": [
    "b = \"ABC\" # id(...) 자원의 주소를 조회하는 함수\n",
    "print(id(b))\n",
    "\n",
    "b += \"DEF\"\n",
    "print(id(b)) # 문자열은 불변! 새로 추가하면 새로운 문자열 객체가 생성\n",
    "print(b)"
   ]
  },
  {
   "cell_type": "code",
   "execution_count": 54,
   "id": "36085106-89b7-41b6-8636-23518fa09ac5",
   "metadata": {},
   "outputs": [
    {
     "name": "stdout",
     "output_type": "stream",
     "text": [
      "Python\n"
     ]
    }
   ],
   "source": [
    "a = \"Pithon\" # Python으로 변경\n",
    "a = a[0] + \"y\" + a[2:]\n",
    "print(a)"
   ]
  },
  {
   "cell_type": "code",
   "execution_count": 62,
   "id": "73c9e392-5022-4d05-b26d-3d48aa85627d",
   "metadata": {},
   "outputs": [
    {
     "data": {
      "text/plain": [
       "'I eat 3 apples.'"
      ]
     },
     "execution_count": 62,
     "metadata": {},
     "output_type": "execute_result"
    }
   ],
   "source": [
    "\"I eat %d apples.\" % 3"
   ]
  },
  {
   "cell_type": "code",
   "execution_count": 63,
   "id": "aa502760-3d3e-42eb-afd8-fb748f04ce25",
   "metadata": {},
   "outputs": [
    {
     "data": {
      "text/plain": [
       "'I eat 3 apples and 5 breads'"
      ]
     },
     "execution_count": 63,
     "metadata": {},
     "output_type": "execute_result"
    }
   ],
   "source": [
    "\"I eat %d apples and %d breads\" % (3, 5)"
   ]
  },
  {
   "cell_type": "code",
   "execution_count": 64,
   "id": "a80fe959-c558-42a5-8502-727621562d20",
   "metadata": {},
   "outputs": [
    {
     "data": {
      "text/plain": [
       "'I eat 3 apples and banana'"
      ]
     },
     "execution_count": 64,
     "metadata": {},
     "output_type": "execute_result"
    }
   ],
   "source": [
    "\"I eat %d apples and %s\" % (3, 'banana') # String.format(...)"
   ]
  }
 ],
 "metadata": {
  "kernelspec": {
   "display_name": "Python 3 (ipykernel)",
   "language": "python",
   "name": "python3"
  },
  "language_info": {
   "codemirror_mode": {
    "name": "ipython",
    "version": 3
   },
   "file_extension": ".py",
   "mimetype": "text/x-python",
   "name": "python",
   "nbconvert_exporter": "python",
   "pygments_lexer": "ipython3",
   "version": "3.12.7"
  }
 },
 "nbformat": 4,
 "nbformat_minor": 5
}
