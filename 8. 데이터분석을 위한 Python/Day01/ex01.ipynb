{
 "cells": [
  {
   "cell_type": "code",
   "execution_count": 1,
   "id": "71a70625-76dc-4426-8eb9-f45817f24f97",
   "metadata": {},
   "outputs": [
    {
     "name": "stdout",
     "output_type": "stream",
     "text": [
      "첫번째 파이썬 프로그램\n"
     ]
    }
   ],
   "source": [
    "print(\"첫번째 파이썬 프로그램\")"
   ]
  },
  {
   "cell_type": "code",
   "execution_count": 2,
   "id": "fa4a7199-a4c8-4733-889b-dee536297c09",
   "metadata": {},
   "outputs": [
    {
     "data": {
      "text/plain": [
       "8"
      ]
     },
     "execution_count": 2,
     "metadata": {},
     "output_type": "execute_result"
    }
   ],
   "source": [
    "# ** : 제곱 연산\n",
    "2 ** 3 #2의 3제곱"
   ]
  },
  {
   "cell_type": "code",
   "execution_count": 6,
   "id": "67609be0-6dda-4d22-a491-398af2329b00",
   "metadata": {},
   "outputs": [
    {
     "name": "stdout",
     "output_type": "stream",
     "text": [
      "1\n",
      "4\n"
     ]
    }
   ],
   "source": [
    "# % : 나머지 연산자\n",
    "# // : 몫을 구하는 연산자\n",
    "print(9 % 2)\n",
    "print(9 // 2)"
   ]
  },
  {
   "cell_type": "code",
   "execution_count": 12,
   "id": "d7e6a409-29db-47d5-8897-3bce2d51b19b",
   "metadata": {},
   "outputs": [
    {
     "data": {
      "text/plain": [
       "str"
      ]
     },
     "execution_count": 12,
     "metadata": {},
     "output_type": "execute_result"
    }
   ],
   "source": [
    "# a = 100\n",
    "# a = 100.123\n",
    "# a = \"Python\"\n",
    "a = 'Python'\n",
    "\n",
    "type(a) # 자료형 체크 함수"
   ]
  },
  {
   "cell_type": "code",
   "execution_count": 19,
   "id": "ff4a2c64-3642-45dc-9db7-1979aa5af5a3",
   "metadata": {},
   "outputs": [
    {
     "data": {
      "text/plain": [
       "\"Python's favorite food is perl\""
      ]
     },
     "execution_count": 19,
     "metadata": {},
     "output_type": "execute_result"
    }
   ],
   "source": [
    "\"Python's favorite food is perl\" # 문장에 작은 따옴표가 섞여 있는 경우 큰 따옴표(\" \") 사용\n",
    "# 'Python's favorite food is perl' -> 문법 오류 발생"
   ]
  },
  {
   "cell_type": "code",
   "execution_count": 21,
   "id": "af1f31b8-a9ef-4ff8-84b8-0c9aca9b46c0",
   "metadata": {},
   "outputs": [
    {
     "data": {
      "text/plain": [
       "'Python\"s favorite food is perl'"
      ]
     },
     "execution_count": 21,
     "metadata": {},
     "output_type": "execute_result"
    }
   ],
   "source": [
    "'Python\\'s favorite food is perl' # \\' - 작은 따옴표 인식 가능. 여기서 \\는 escape 문자이다.\n",
    "\"Python\\\"s favorite food is perl\" # \\' - 큰 따옴표 인식 가능. 여기서 \\는 escape 문자이다."
   ]
  },
  {
   "cell_type": "code",
   "execution_count": 23,
   "id": "fcaa242f-c52c-4a57-88a7-83c4e8e7d3d7",
   "metadata": {},
   "outputs": [
    {
     "name": "stdout",
     "output_type": "stream",
     "text": [
      "Life is short,\n",
      "You need Python\n"
     ]
    }
   ],
   "source": [
    "a = \"Life is short,\\nYou need Python\" # \\n - 메타문자 / 줄개행\n",
    "print(a)"
   ]
  },
  {
   "cell_type": "code",
   "execution_count": 24,
   "id": "ba6f38bb-3766-4582-a214-ce537fd55311",
   "metadata": {},
   "outputs": [
    {
     "name": "stdout",
     "output_type": "stream",
     "text": [
      "Life is short,\n",
      "You need Python\n"
     ]
    }
   ],
   "source": [
    "b = \"\"\"Life is short,\n",
    "You need Python\"\"\" # \"\"\" 혹은 ''' 모두 가능\n",
    "print(b)"
   ]
  },
  {
   "cell_type": "code",
   "execution_count": 25,
   "id": "50df09c8-39a6-4cdc-9354-26f2e6d87a01",
   "metadata": {},
   "outputs": [
    {
     "data": {
      "text/plain": [
       "'Python is fun!'"
      ]
     },
     "execution_count": 25,
     "metadata": {},
     "output_type": "execute_result"
    }
   ],
   "source": [
    "\"Python\" + \" is \" + \"fun!\""
   ]
  },
  {
   "cell_type": "code",
   "execution_count": 26,
   "id": "bd40427f-2bf3-4db3-a673-01e112e3e397",
   "metadata": {},
   "outputs": [
    {
     "data": {
      "text/plain": [
       "'PythonPythonPython'"
      ]
     },
     "execution_count": 26,
     "metadata": {},
     "output_type": "execute_result"
    }
   ],
   "source": [
    "\"Python\" * 3"
   ]
  },
  {
   "cell_type": "code",
   "execution_count": 28,
   "id": "c3458078-8b8b-4054-8ff5-a091a5051b76",
   "metadata": {},
   "outputs": [
    {
     "name": "stdout",
     "output_type": "stream",
     "text": [
      "==============================\n",
      "재미있는 파이썬 공부!\n",
      "==============================\n"
     ]
    }
   ],
   "source": [
    "print(\"=\" * 30)\n",
    "print(\"재미있는 파이썬 공부!\")\n",
    "print(\"=\" * 30)"
   ]
  },
  {
   "cell_type": "code",
   "execution_count": 29,
   "id": "0aa68235-6c48-41cd-93eb-9ad0f773cdc1",
   "metadata": {},
   "outputs": [
    {
     "data": {
      "text/plain": [
       "5"
      ]
     },
     "execution_count": 29,
     "metadata": {},
     "output_type": "execute_result"
    }
   ],
   "source": [
    "a = \"가나다라마\"\n",
    "len(a)"
   ]
  },
  {
   "cell_type": "code",
   "execution_count": 36,
   "id": "58909bba-d614-4c4c-b6bc-511e0d5200d0",
   "metadata": {
    "scrolled": true
   },
   "outputs": [],
   "source": [
    "a = \"Life is too shrot, You need Python\""
   ]
  },
  {
   "cell_type": "code",
   "execution_count": 48,
   "id": "69ecc0b6-1fd8-4f34-b94d-f2dfcba5d8eb",
   "metadata": {},
   "outputs": [
    {
     "data": {
      "text/plain": [
       "'Python'"
      ]
     },
     "execution_count": 48,
     "metadata": {},
     "output_type": "execute_result"
    }
   ],
   "source": [
    "a[28:len(a)]"
   ]
  },
  {
   "cell_type": "code",
   "execution_count": 52,
   "id": "255abccc-eae4-4b85-b273-452a5d4d57a8",
   "metadata": {},
   "outputs": [
    {
     "name": "stdout",
     "output_type": "stream",
     "text": [
      "Life is too shrot, You need Python\n",
      "Life 3082792369872 3082792813072\n"
     ]
    }
   ],
   "source": [
    "# a[-6:-1]\n",
    "a[-6:] # -6 인덱스 위치부터 끝까지\n",
    "a[:-7] # 0 ~ -8\n",
    "b=a[:] # 문자열 전체 복사\n",
    "print(b)\n",
    "# print(id(a), id(b))\n",
    "print(a[0:4], id(a[0:4]), id(a))"
   ]
  },
  {
   "cell_type": "code",
   "execution_count": 39,
   "id": "f4325842-842a-429c-bd4a-5771324095ed",
   "metadata": {},
   "outputs": [
    {
     "data": {
      "text/plain": [
       "'Life'"
      ]
     },
     "execution_count": 39,
     "metadata": {},
     "output_type": "execute_result"
    }
   ],
   "source": [
    "a[0:4] #a[0]~a[3]"
   ]
  },
  {
   "cell_type": "code",
   "execution_count": 38,
   "id": "cc40d382-8a5f-40b0-89e0-d441775cb894",
   "metadata": {},
   "outputs": [
    {
     "data": {
      "text/plain": [
       "'f'"
      ]
     },
     "execution_count": 38,
     "metadata": {},
     "output_type": "execute_result"
    }
   ],
   "source": [
    "a[2]"
   ]
  },
  {
   "cell_type": "code",
   "execution_count": 35,
   "id": "f1194173-f9d8-4265-abb5-62596a75ace5",
   "metadata": {},
   "outputs": [
    {
     "name": "stdout",
     "output_type": "stream",
     "text": [
      "140712695776176\n",
      "3082795235584\n",
      "ABCDEF\n"
     ]
    }
   ],
   "source": [
    "b = \"ABC\" # id(...) 자원의 주소를 조회하는 함수\n",
    "print(id(b))\n",
    "\n",
    "b += \"DEF\"\n",
    "print(id(b)) # 문자열은 불변! 새로 추가하면 새로운 문자열 객체가 생성\n",
    "print(b)"
   ]
  },
  {
   "cell_type": "code",
   "execution_count": 54,
   "id": "36085106-89b7-41b6-8636-23518fa09ac5",
   "metadata": {},
   "outputs": [
    {
     "name": "stdout",
     "output_type": "stream",
     "text": [
      "Python\n"
     ]
    }
   ],
   "source": [
    "a = \"Pithon\" # Python으로 변경\n",
    "a = a[0] + \"y\" + a[2:]\n",
    "print(a)"
   ]
  },
  {
   "cell_type": "code",
   "execution_count": 62,
   "id": "73c9e392-5022-4d05-b26d-3d48aa85627d",
   "metadata": {},
   "outputs": [
    {
     "data": {
      "text/plain": [
       "'I eat 3 apples.'"
      ]
     },
     "execution_count": 62,
     "metadata": {},
     "output_type": "execute_result"
    }
   ],
   "source": [
    "\"I eat %d apples.\" % 3"
   ]
  },
  {
   "cell_type": "code",
   "execution_count": 63,
   "id": "aa502760-3d3e-42eb-afd8-fb748f04ce25",
   "metadata": {},
   "outputs": [
    {
     "data": {
      "text/plain": [
       "'I eat 3 apples and 5 breads'"
      ]
     },
     "execution_count": 63,
     "metadata": {},
     "output_type": "execute_result"
    }
   ],
   "source": [
    "\"I eat %d apples and %d breads\" % (3, 5)"
   ]
  },
  {
   "cell_type": "code",
   "execution_count": 64,
   "id": "a80fe959-c558-42a5-8502-727621562d20",
   "metadata": {},
   "outputs": [
    {
     "data": {
      "text/plain": [
       "'I eat 3 apples and banana'"
      ]
     },
     "execution_count": 64,
     "metadata": {},
     "output_type": "execute_result"
    }
   ],
   "source": [
    "\"I eat %d apples and %s\" % (3, 'banana') # String.format(...)"
   ]
  },
  {
   "cell_type": "code",
   "execution_count": 65,
   "id": "738b93cd-e678-4240-841b-fa3e50ad33b0",
   "metadata": {},
   "outputs": [
    {
     "data": {
      "text/plain": [
       "'loading is now 78%'"
      ]
     },
     "execution_count": 65,
     "metadata": {},
     "output_type": "execute_result"
    }
   ],
   "source": [
    "\"loading is now %d%%\" % 78 # 형식화를 위한 문법적 문자로 인식하므로 %% Tjkdi %문자로 인식"
   ]
  },
  {
   "cell_type": "code",
   "execution_count": 67,
   "id": "b717c6d3-fc56-4f35-b87a-a4bcd136417f",
   "metadata": {},
   "outputs": [
    {
     "data": {
      "text/plain": [
       "'       ABCDEF'"
      ]
     },
     "execution_count": 67,
     "metadata": {},
     "output_type": "execute_result"
    }
   ],
   "source": [
    "\"%10sDEF\" % \"ABC\""
   ]
  },
  {
   "cell_type": "code",
   "execution_count": 68,
   "id": "f072972d-0400-40df-8959-f73be76d2b2b",
   "metadata": {},
   "outputs": [
    {
     "data": {
      "text/plain": [
       "'ABC       DEF'"
      ]
     },
     "execution_count": 68,
     "metadata": {},
     "output_type": "execute_result"
    }
   ],
   "source": [
    "\"%-10sDEF\" % \"ABC\""
   ]
  },
  {
   "cell_type": "code",
   "execution_count": 71,
   "id": "c8ed80f6-c2c5-4b3c-823a-8862a973542e",
   "metadata": {},
   "outputs": [
    {
     "data": {
      "text/plain": [
       "'10글자가넘는다ㅏㅑㅓㅕㅗㅛㅜㅠDEF'"
      ]
     },
     "execution_count": 71,
     "metadata": {},
     "output_type": "execute_result"
    }
   ],
   "source": [
    "\"%10sDEF\" % \"10글자가넘는다ㅏㅑㅓㅕㅗㅛㅜㅠ\""
   ]
  },
  {
   "cell_type": "code",
   "execution_count": 72,
   "id": "aac0d0fa-91a6-4e2e-bc79-9efbfb6136e4",
   "metadata": {},
   "outputs": [
    {
     "data": {
      "text/plain": [
       "'12.1235    실수'"
      ]
     },
     "execution_count": 72,
     "metadata": {},
     "output_type": "execute_result"
    }
   ],
   "source": [
    "\"%-10.4f 실수\" % 12.123456"
   ]
  },
  {
   "cell_type": "code",
   "execution_count": 73,
   "id": "b0d46a32-809a-4d53-a825-22c0ec67c061",
   "metadata": {},
   "outputs": [
    {
     "data": {
      "text/plain": [
       "'123456789.1235'"
      ]
     },
     "execution_count": 73,
     "metadata": {},
     "output_type": "execute_result"
    }
   ],
   "source": [
    "\"%0.4f\" % 123456789.123456789"
   ]
  },
  {
   "cell_type": "code",
   "execution_count": 74,
   "id": "9a163f97-2081-429d-ab9b-9ead650a2628",
   "metadata": {},
   "outputs": [
    {
     "data": {
      "text/plain": [
       "'123456789.1235'"
      ]
     },
     "execution_count": 74,
     "metadata": {},
     "output_type": "execute_result"
    }
   ],
   "source": [
    "\"%.4f\" % 123456789.123456789"
   ]
  },
  {
   "cell_type": "code",
   "execution_count": 81,
   "id": "19a4e7da-dc9d-4aea-aacb-9ba9f466b8df",
   "metadata": {},
   "outputs": [
    {
     "data": {
      "text/plain": [
       "'I eat 3,5 apples and five'"
      ]
     },
     "execution_count": 81,
     "metadata": {},
     "output_type": "execute_result"
    }
   ],
   "source": [
    "# \"I eat {0} apples.\".format(3)\n",
    "# \"I eat {0} apples.\".format(\"three\")\n",
    "# \"I eat {0} apples and {1} bananas\".format(3, 2)\n",
    "# \"I eat {num1} apples, and {num2} bananas\".format(num1=3, num2=1)\n",
    "\"I eat {0},{1} apples and {num} breads\".format(3,5,num=\"five\")"
   ]
  },
  {
   "cell_type": "code",
   "execution_count": 82,
   "id": "8f5f0ac3-0827-43ab-8688-107666515994",
   "metadata": {},
   "outputs": [
    {
     "data": {
      "text/plain": [
       "'안녕        '"
      ]
     },
     "execution_count": 82,
     "metadata": {},
     "output_type": "execute_result"
    }
   ],
   "source": [
    "\"{0:<10}\".format(\"안녕\")"
   ]
  },
  {
   "cell_type": "code",
   "execution_count": 83,
   "id": "9f0de990-cee3-48fc-95ca-62611af54652",
   "metadata": {},
   "outputs": [
    {
     "data": {
      "text/plain": [
       "'        안녕'"
      ]
     },
     "execution_count": 83,
     "metadata": {},
     "output_type": "execute_result"
    }
   ],
   "source": [
    "\"{0:>10}\".format(\"안녕\")"
   ]
  },
  {
   "cell_type": "code",
   "execution_count": 84,
   "id": "e6e76dea-1724-4518-9ed8-ad5f8de5102d",
   "metadata": {},
   "outputs": [
    {
     "data": {
      "text/plain": [
       "'    안녕    '"
      ]
     },
     "execution_count": 84,
     "metadata": {},
     "output_type": "execute_result"
    }
   ],
   "source": [
    "\"{0:^10}\".format(\"안녕\")"
   ]
  },
  {
   "cell_type": "code",
   "execution_count": 87,
   "id": "8e0ffa6d-8ab6-4d56-a87d-dc4cfdff1c83",
   "metadata": {},
   "outputs": [
    {
     "data": {
      "text/plain": [
       "'안녕********'"
      ]
     },
     "execution_count": 87,
     "metadata": {},
     "output_type": "execute_result"
    }
   ],
   "source": [
    "\"{0:*<10}\".format(\"안녕\")"
   ]
  },
  {
   "cell_type": "code",
   "execution_count": 88,
   "id": "f981bf9b-2e2b-42e4-b36c-85888ef7ba43",
   "metadata": {},
   "outputs": [
    {
     "data": {
      "text/plain": [
       "'********안녕'"
      ]
     },
     "execution_count": 88,
     "metadata": {},
     "output_type": "execute_result"
    }
   ],
   "source": [
    "\"{0:*>10}\".format(\"안녕\")"
   ]
  },
  {
   "cell_type": "code",
   "execution_count": 89,
   "id": "1ac9e26f-6530-498c-aa0c-ebc76080d4fa",
   "metadata": {},
   "outputs": [
    {
     "data": {
      "text/plain": [
       "'****안녕****'"
      ]
     },
     "execution_count": 89,
     "metadata": {},
     "output_type": "execute_result"
    }
   ],
   "source": [
    "\"{0:*^10}\".format(\"안녕\")"
   ]
  },
  {
   "cell_type": "code",
   "execution_count": 93,
   "id": "f5fd6f2e-82f4-419b-8202-b6ac903dcd51",
   "metadata": {},
   "outputs": [
    {
     "data": {
      "text/plain": [
       "'{number1} - 100'"
      ]
     },
     "execution_count": 93,
     "metadata": {},
     "output_type": "execute_result"
    }
   ],
   "source": [
    "\"{{number1}} - {0}\".format(100)"
   ]
  },
  {
   "cell_type": "code",
   "execution_count": 94,
   "id": "2b3274f2-6034-41b0-aa2b-c322337ab4cf",
   "metadata": {},
   "outputs": [
    {
     "data": {
      "text/plain": [
       "'num1=10, num2=20, result=30'"
      ]
     },
     "execution_count": 94,
     "metadata": {},
     "output_type": "execute_result"
    }
   ],
   "source": [
    "num1 = 10\n",
    "num2 = 20\n",
    "f\"num1={num1}, num2={num2}, result={num1+num2}\" # 파이썬 3.6 버전부터 도입된 문법"
   ]
  },
  {
   "cell_type": "code",
   "execution_count": 99,
   "id": "7151d230-f93e-48e2-b1a0-5a82d5e278a2",
   "metadata": {},
   "outputs": [
    {
     "data": {
      "text/plain": [
       "'안녕        '"
      ]
     },
     "execution_count": 99,
     "metadata": {},
     "output_type": "execute_result"
    }
   ],
   "source": [
    "f\"{'안녕':<10}\""
   ]
  },
  {
   "cell_type": "code",
   "execution_count": 102,
   "id": "7b48db35-7dea-4488-bd3d-91b48c6904fb",
   "metadata": {},
   "outputs": [
    {
     "data": {
      "text/plain": [
       "'안녕********'"
      ]
     },
     "execution_count": 102,
     "metadata": {},
     "output_type": "execute_result"
    }
   ],
   "source": [
    "f\"{'안녕':*<10}\""
   ]
  },
  {
   "cell_type": "code",
   "execution_count": 98,
   "id": "1baeafa4-a0a9-4037-8214-ed66385e30cb",
   "metadata": {},
   "outputs": [
    {
     "data": {
      "text/plain": [
       "'        안녕'"
      ]
     },
     "execution_count": 98,
     "metadata": {},
     "output_type": "execute_result"
    }
   ],
   "source": [
    "f\"{'안녕':>10}\""
   ]
  },
  {
   "cell_type": "code",
   "execution_count": 101,
   "id": "a7446d02-eadd-462d-bc31-e69487225c4a",
   "metadata": {},
   "outputs": [
    {
     "data": {
      "text/plain": [
       "'********안녕'"
      ]
     },
     "execution_count": 101,
     "metadata": {},
     "output_type": "execute_result"
    }
   ],
   "source": [
    "f\"{'안녕':*>10}\""
   ]
  },
  {
   "cell_type": "code",
   "execution_count": 97,
   "id": "292dd089-f152-47d4-b206-ca9faf363bc9",
   "metadata": {},
   "outputs": [
    {
     "data": {
      "text/plain": [
       "'    안녕    '"
      ]
     },
     "execution_count": 97,
     "metadata": {},
     "output_type": "execute_result"
    }
   ],
   "source": [
    "f\"{'안녕':^10}\""
   ]
  },
  {
   "cell_type": "code",
   "execution_count": 100,
   "id": "2f8e8c2e-0c28-49ce-a695-1cbe59236c16",
   "metadata": {},
   "outputs": [
    {
     "data": {
      "text/plain": [
       "'****안녕****'"
      ]
     },
     "execution_count": 100,
     "metadata": {},
     "output_type": "execute_result"
    }
   ],
   "source": [
    "f\"{'안녕':*^10}\""
   ]
  },
  {
   "cell_type": "code",
   "execution_count": 106,
   "id": "876b22df-3399-458d-8c67-624ae51f1916",
   "metadata": {},
   "outputs": [],
   "source": [
    "a = \"Life is too short, You need Python.\""
   ]
  },
  {
   "cell_type": "code",
   "execution_count": 108,
   "id": "445e1bed-6061-4edc-9adb-ae6a44e103a5",
   "metadata": {},
   "outputs": [
    {
     "data": {
      "text/plain": [
       "-1"
      ]
     },
     "execution_count": 108,
     "metadata": {},
     "output_type": "execute_result"
    }
   ],
   "source": [
    "a.find(\"too\")\n",
    "a.find(\"tooo\") # 발견 못하면 -1"
   ]
  },
  {
   "cell_type": "code",
   "execution_count": 110,
   "id": "c61383ad-1c0d-458c-8828-5a8fbcb3f6e3",
   "metadata": {},
   "outputs": [
    {
     "ename": "ValueError",
     "evalue": "substring not found",
     "output_type": "error",
     "traceback": [
      "\u001b[1;31m---------------------------------------------------------------------------\u001b[0m",
      "\u001b[1;31mValueError\u001b[0m                                Traceback (most recent call last)",
      "Cell \u001b[1;32mIn[110], line 2\u001b[0m\n\u001b[0;32m      1\u001b[0m \u001b[38;5;66;03m# a.index(\"too\")\u001b[39;00m\n\u001b[1;32m----> 2\u001b[0m a\u001b[38;5;241m.\u001b[39mindex(\u001b[38;5;124m\"\u001b[39m\u001b[38;5;124mtooo\u001b[39m\u001b[38;5;124m\"\u001b[39m)\n",
      "\u001b[1;31mValueError\u001b[0m: substring not found"
     ]
    }
   ],
   "source": [
    "# a.index(\"too\")\n",
    "a.index(\"tooo\")"
   ]
  },
  {
   "cell_type": "code",
   "execution_count": null,
   "id": "8e819068-4c93-4328-8090-f3b51b131ef6",
   "metadata": {},
   "outputs": [],
   "source": []
  }
 ],
 "metadata": {
  "kernelspec": {
   "display_name": "Python 3 (ipykernel)",
   "language": "python",
   "name": "python3"
  },
  "language_info": {
   "codemirror_mode": {
    "name": "ipython",
    "version": 3
   },
   "file_extension": ".py",
   "mimetype": "text/x-python",
   "name": "python",
   "nbconvert_exporter": "python",
   "pygments_lexer": "ipython3",
   "version": "3.12.7"
  }
 },
 "nbformat": 4,
 "nbformat_minor": 5
}
