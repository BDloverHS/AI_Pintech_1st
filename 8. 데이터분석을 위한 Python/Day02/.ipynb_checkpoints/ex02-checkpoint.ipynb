{
 "cells": [
  {
   "cell_type": "code",
   "execution_count": 7,
   "id": "994352b4-04d6-403a-9a15-7397c19ee1b9",
   "metadata": {},
   "outputs": [
    {
     "data": {
      "text/plain": [
       "(1,)"
      ]
     },
     "execution_count": 7,
     "metadata": {},
     "output_type": "execute_result"
    }
   ],
   "source": [
    "# a = (1,2,3)\n",
    "# a = (1) # 튜플 1로 인식하는 것이 아니라 숫자 1로 인식\n",
    "\n",
    "# 만약 튜플로 나타내고 싶다면\n",
    "a = (1,)\n",
    "a"
   ]
  },
  {
   "cell_type": "code",
   "execution_count": 6,
   "id": "063e45f2-688b-46c6-a20f-38dfa6bd6497",
   "metadata": {},
   "outputs": [],
   "source": [
    "# a[1]\n",
    "\n",
    "# 변경 불가하기 때문에 오류\n",
    "# a[1] = 'A'\n",
    "\n",
    "# 또한 삭제 역시 불가\n",
    "# del a[1]"
   ]
  },
  {
   "cell_type": "code",
   "execution_count": 10,
   "id": "f5695eaf-73cb-4ffb-abb2-d97acdf9c9c5",
   "metadata": {},
   "outputs": [
    {
     "data": {
      "text/plain": [
       "int"
      ]
     },
     "execution_count": 10,
     "metadata": {},
     "output_type": "execute_result"
    }
   ],
   "source": [
    "# type((1)) -> int\n",
    "# type((1,)) -> tuple"
   ]
  },
  {
   "cell_type": "code",
   "execution_count": 11,
   "id": "ff979e88-1219-4f8d-8a14-3caa9a6a46dc",
   "metadata": {},
   "outputs": [
    {
     "data": {
      "text/plain": [
       "(1, 2, 3, 4, 5)"
      ]
     },
     "execution_count": 11,
     "metadata": {},
     "output_type": "execute_result"
    }
   ],
   "source": [
    "a = 1, 2, 3, 4, 5 # 듀플로 인식\n",
    "a"
   ]
  },
  {
   "cell_type": "code",
   "execution_count": 12,
   "id": "a106bdbf-f0be-488b-a79b-75eee9bc7e8b",
   "metadata": {},
   "outputs": [
    {
     "data": {
      "text/plain": [
       "tuple"
      ]
     },
     "execution_count": 12,
     "metadata": {},
     "output_type": "execute_result"
    }
   ],
   "source": [
    "type(a)"
   ]
  },
  {
   "cell_type": "code",
   "execution_count": 13,
   "id": "7488d8df-5984-4e2a-96d0-057bd91b8e4f",
   "metadata": {},
   "outputs": [
    {
     "data": {
      "text/plain": [
       "(1, 2, 3, 4, 5, 6)"
      ]
     },
     "execution_count": 13,
     "metadata": {},
     "output_type": "execute_result"
    }
   ],
   "source": [
    "a = (1,2,3)\n",
    "b = (4,5,6)\n",
    "c = a + b\n",
    "c"
   ]
  },
  {
   "cell_type": "code",
   "execution_count": 14,
   "id": "8fb5997f-0eba-4991-83c8-442c8046db5d",
   "metadata": {},
   "outputs": [
    {
     "data": {
      "text/plain": [
       "(1, 2, 3, 1, 2, 3, 1, 2, 3)"
      ]
     },
     "execution_count": 14,
     "metadata": {},
     "output_type": "execute_result"
    }
   ],
   "source": [
    "d = a*3\n",
    "d"
   ]
  },
  {
   "cell_type": "code",
   "execution_count": 19,
   "id": "bcb267eb-9d18-42c6-94dc-3f8b168605c1",
   "metadata": {},
   "outputs": [],
   "source": [
    "# a = (\"사과\",\"오렌지\")\n",
    "a= '사과', '오렌지'\n",
    "(apple, orange) = a"
   ]
  },
  {
   "cell_type": "code",
   "execution_count": 20,
   "id": "fba89ab0-33c7-433a-89bb-e00a25c6488d",
   "metadata": {},
   "outputs": [
    {
     "name": "stdout",
     "output_type": "stream",
     "text": [
      "사과 오렌지\n"
     ]
    }
   ],
   "source": [
    "print(apple, orange)"
   ]
  },
  {
   "cell_type": "code",
   "execution_count": null,
   "id": "d090c6c2-310f-4f4c-9927-4454e891ea3c",
   "metadata": {},
   "outputs": [],
   "source": []
  }
 ],
 "metadata": {
  "kernelspec": {
   "display_name": "Python 3 (ipykernel)",
   "language": "python",
   "name": "python3"
  },
  "language_info": {
   "codemirror_mode": {
    "name": "ipython",
    "version": 3
   },
   "file_extension": ".py",
   "mimetype": "text/x-python",
   "name": "python",
   "nbconvert_exporter": "python",
   "pygments_lexer": "ipython3",
   "version": "3.12.7"
  }
 },
 "nbformat": 4,
 "nbformat_minor": 5
}
