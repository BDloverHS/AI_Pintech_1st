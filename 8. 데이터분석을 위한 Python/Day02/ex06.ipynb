{
 "cells": [
  {
   "cell_type": "code",
   "execution_count": 1,
   "id": "6ff8668e-bd99-4833-a8f6-ef06d1f0772d",
   "metadata": {},
   "outputs": [],
   "source": [
    "a = 10 # 자바의 리터럴 상수와 바슷함. 재료가 되는 수는 1개의 주소를 가지고 공유\n",
    "b = 10"
   ]
  },
  {
   "cell_type": "code",
   "execution_count": 2,
   "id": "583bbce5-9635-4c3a-bde8-411a3b8d3361",
   "metadata": {},
   "outputs": [
    {
     "name": "stdout",
     "output_type": "stream",
     "text": [
      "140731252026072 140731252026072\n"
     ]
    }
   ],
   "source": [
    "print(id(a), id(b))"
   ]
  },
  {
   "cell_type": "code",
   "execution_count": 3,
   "id": "88008a85-20a0-4448-9334-08a6481bbcc2",
   "metadata": {},
   "outputs": [],
   "source": [
    "a = [1, 2, 3, 4, 5] #a는 참조 변수"
   ]
  },
  {
   "cell_type": "code",
   "execution_count": 4,
   "id": "a58d8dad-ce17-4bf6-b53b-d80e66107106",
   "metadata": {},
   "outputs": [],
   "source": [
    "b = a # b는 a가 가지고 있는 주소값이 대입"
   ]
  },
  {
   "cell_type": "code",
   "execution_count": 6,
   "id": "02b426f8-a57b-4a91-90df-6900fe4a631f",
   "metadata": {},
   "outputs": [],
   "source": [
    "b[1] = '둘'"
   ]
  },
  {
   "cell_type": "code",
   "execution_count": 7,
   "id": "8dffe4a2-fc1c-4db5-a288-1128c0be2021",
   "metadata": {},
   "outputs": [
    {
     "name": "stdout",
     "output_type": "stream",
     "text": [
      "[1, '둘', 3, 4, 5]\n",
      "[1, '둘', 3, 4, 5]\n"
     ]
    }
   ],
   "source": [
    "print(a)\n",
    "print(b)"
   ]
  },
  {
   "cell_type": "code",
   "execution_count": 8,
   "id": "7d3f432c-95d8-4d75-af32-d8deaa9a4cae",
   "metadata": {},
   "outputs": [
    {
     "name": "stdout",
     "output_type": "stream",
     "text": [
      "3024671393984 3024671393984\n"
     ]
    }
   ],
   "source": [
    "print(id(a), id(b))"
   ]
  },
  {
   "cell_type": "code",
   "execution_count": 10,
   "id": "fb34d555-073d-404e-bccb-654639338c8f",
   "metadata": {},
   "outputs": [
    {
     "data": {
      "text/plain": [
       "True"
      ]
     },
     "execution_count": 10,
     "metadata": {},
     "output_type": "execute_result"
    }
   ],
   "source": [
    "# a == b # 주소 비교\n",
    "a is b # a와 b가 같은 객체를 참조하는지 체크"
   ]
  },
  {
   "cell_type": "code",
   "execution_count": 14,
   "id": "18cf615a-b293-45c2-ba67-0c5e46986c6b",
   "metadata": {},
   "outputs": [
    {
     "name": "stdout",
     "output_type": "stream",
     "text": [
      "3024671283200 3024671279424\n"
     ]
    }
   ],
   "source": [
    "a = [1,2,3,4,5]\n",
    "b = a[:] # 전체 값을 복사해서 새로운 리스트 객체\n",
    "print(id(a),id(b))"
   ]
  },
  {
   "cell_type": "code",
   "execution_count": 13,
   "id": "152f71ad-58ad-4db3-ad18-efaa129bde6f",
   "metadata": {},
   "outputs": [
    {
     "name": "stdout",
     "output_type": "stream",
     "text": [
      "[1, 2, 3, 4, 5] [1, '둘', 3, 4, 5] 3024671287872 3024671286784\n"
     ]
    }
   ],
   "source": [
    "b[1] = '둘'\n",
    "\n",
    "print(a, b, id(a), id(b))"
   ]
  },
  {
   "cell_type": "code",
   "execution_count": 15,
   "id": "63c25d0a-c411-4199-a66a-751b23941bb7",
   "metadata": {},
   "outputs": [],
   "source": [
    "c = a.copy() # 전체 값을 복사해서 새로운 리스트 객체 생성"
   ]
  },
  {
   "cell_type": "code",
   "execution_count": 16,
   "id": "bccb0f03-e6e5-4569-8c1e-ecc3bb406792",
   "metadata": {},
   "outputs": [],
   "source": [
    "c[2] = '셋'"
   ]
  },
  {
   "cell_type": "code",
   "execution_count": 17,
   "id": "2824822a-cce6-4133-9f48-832b765e2637",
   "metadata": {},
   "outputs": [
    {
     "name": "stdout",
     "output_type": "stream",
     "text": [
      "[1, 2, 3, 4, 5] [1, 2, '셋', 4, 5] 3024671283200 3024671433216\n"
     ]
    }
   ],
   "source": [
    "print(a, c, id(a), id(c))"
   ]
  },
  {
   "cell_type": "code",
   "execution_count": 19,
   "id": "87716693-1b75-4d8e-9ee3-30f9c0c2f96f",
   "metadata": {},
   "outputs": [
    {
     "name": "stdout",
     "output_type": "stream",
     "text": [
      "오렌지 사과\n"
     ]
    }
   ],
   "source": [
    "[a, b] = ['사과','오렌지']\n",
    "print(a, b)"
   ]
  },
  {
   "cell_type": "code",
   "execution_count": null,
   "id": "5a8f84ad-3ab4-431d-ade9-667ecd5afdfe",
   "metadata": {},
   "outputs": [],
   "source": []
  }
 ],
 "metadata": {
  "kernelspec": {
   "display_name": "Python 3 (ipykernel)",
   "language": "python",
   "name": "python3"
  },
  "language_info": {
   "codemirror_mode": {
    "name": "ipython",
    "version": 3
   },
   "file_extension": ".py",
   "mimetype": "text/x-python",
   "name": "python",
   "nbconvert_exporter": "python",
   "pygments_lexer": "ipython3",
   "version": "3.12.7"
  }
 },
 "nbformat": 4,
 "nbformat_minor": 5
}
