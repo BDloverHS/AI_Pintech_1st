{
 "cells": [
  {
   "cell_type": "code",
   "execution_count": 1,
   "id": "b14aa004-3b8e-4933-8cc1-3877a360725f",
   "metadata": {},
   "outputs": [
    {
     "name": "stdout",
     "output_type": "stream",
     "text": [
      "A\n",
      "B\n",
      "C\n"
     ]
    }
   ],
   "source": [
    "for ch in 'ABC':\n",
    "    print(ch)"
   ]
  },
  {
   "cell_type": "code",
   "execution_count": 3,
   "id": "4730dfcd-0c30-40a1-91b0-f11ff7d1ad46",
   "metadata": {},
   "outputs": [
    {
     "name": "stdout",
     "output_type": "stream",
     "text": [
      "('A', 'B', 'C')\n"
     ]
    }
   ],
   "source": [
    "# a = list(\"ABC\")\n",
    "a = tuple('ABC')\n",
    "print(a)"
   ]
  },
  {
   "cell_type": "code",
   "execution_count": 4,
   "id": "956fab37-5083-496e-a7ac-38210c966549",
   "metadata": {},
   "outputs": [
    {
     "name": "stdout",
     "output_type": "stream",
     "text": [
      "{1, 2, 3, 4, 5}\n"
     ]
    }
   ],
   "source": [
    "a = set([1,2,2,2,3,4,5])\n",
    "print(a)"
   ]
  },
  {
   "cell_type": "code",
   "execution_count": 7,
   "id": "365a7a41-3c28-437d-9470-d61d3b02d96f",
   "metadata": {},
   "outputs": [
    {
     "name": "stdout",
     "output_type": "stream",
     "text": [
      "{'e', 'l', 'h', 'o'}\n"
     ]
    }
   ],
   "source": [
    "b = set(\"hello\")\n",
    "print(b)"
   ]
  },
  {
   "cell_type": "code",
   "execution_count": 8,
   "id": "96809a88-d436-4c01-8938-02dc88be3b34",
   "metadata": {},
   "outputs": [],
   "source": [
    "# b[0] - 집합 자료는 순서 결정이 불가하므로 인덱스는 사용 불가"
   ]
  },
  {
   "cell_type": "code",
   "execution_count": 9,
   "id": "bd07df8e-d670-44b0-89f2-300903abac55",
   "metadata": {},
   "outputs": [],
   "source": [
    "a = set([1,2,3,4])\n",
    "b = set([3,4,5,6])"
   ]
  },
  {
   "cell_type": "code",
   "execution_count": 11,
   "id": "97912663-d50f-4c55-b16d-b065cf4076ae",
   "metadata": {},
   "outputs": [
    {
     "data": {
      "text/plain": [
       "{3, 4}"
      ]
     },
     "execution_count": 11,
     "metadata": {},
     "output_type": "execute_result"
    }
   ],
   "source": [
    "# a & b # 교집합\n",
    "a.intersection(b)"
   ]
  },
  {
   "cell_type": "code",
   "execution_count": 13,
   "id": "f1b07b33-fb52-4581-abcf-3bc7c56cbe03",
   "metadata": {},
   "outputs": [
    {
     "data": {
      "text/plain": [
       "{1, 2, 3, 4, 5, 6}"
      ]
     },
     "execution_count": 13,
     "metadata": {},
     "output_type": "execute_result"
    }
   ],
   "source": [
    "# a | b # 합집합\n",
    "a.union(b)"
   ]
  },
  {
   "cell_type": "code",
   "execution_count": 15,
   "id": "fd6ce7ce-8e9e-41df-9b1a-5a46c9cf316d",
   "metadata": {},
   "outputs": [
    {
     "data": {
      "text/plain": [
       "{1, 2}"
      ]
     },
     "execution_count": 15,
     "metadata": {},
     "output_type": "execute_result"
    }
   ],
   "source": [
    "# a - b # 차집합\n",
    "a.difference(b)"
   ]
  },
  {
   "cell_type": "code",
   "execution_count": 16,
   "id": "68c0deb0-b7c4-4ae8-bb5e-0477da13a819",
   "metadata": {},
   "outputs": [],
   "source": [
    "a = set([1,2,3])"
   ]
  },
  {
   "cell_type": "code",
   "execution_count": 17,
   "id": "46159aaa-f480-4959-bf61-8a874012bcd3",
   "metadata": {},
   "outputs": [],
   "source": [
    "a.update([4,5])"
   ]
  },
  {
   "cell_type": "code",
   "execution_count": 18,
   "id": "5bb2e7b1-25b6-4485-894c-a9b7a82af84a",
   "metadata": {},
   "outputs": [
    {
     "data": {
      "text/plain": [
       "{1, 2, 3, 4, 5}"
      ]
     },
     "execution_count": 18,
     "metadata": {},
     "output_type": "execute_result"
    }
   ],
   "source": [
    "a # 결과값이 순서대로처럼 보이지만 사실상 순서는 모름. "
   ]
  },
  {
   "cell_type": "code",
   "execution_count": null,
   "id": "a909098f-0ef7-4d2f-9c66-949d2a5bd1f3",
   "metadata": {},
   "outputs": [],
   "source": []
  }
 ],
 "metadata": {
  "kernelspec": {
   "display_name": "Python 3 (ipykernel)",
   "language": "python",
   "name": "python3"
  },
  "language_info": {
   "codemirror_mode": {
    "name": "ipython",
    "version": 3
   },
   "file_extension": ".py",
   "mimetype": "text/x-python",
   "name": "python",
   "nbconvert_exporter": "python",
   "pygments_lexer": "ipython3",
   "version": "3.12.7"
  }
 },
 "nbformat": 4,
 "nbformat_minor": 5
}
