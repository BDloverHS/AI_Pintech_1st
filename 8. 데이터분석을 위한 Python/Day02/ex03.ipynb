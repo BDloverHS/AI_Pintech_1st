{
 "cells": [
  {
   "cell_type": "code",
   "execution_count": 1,
   "id": "6da512d9-d8f5-4f9f-9f9b-ec03559906bf",
   "metadata": {},
   "outputs": [
    {
     "data": {
      "text/plain": [
       "{'name': '이이름', 'age': 40}"
      ]
     },
     "execution_count": 1,
     "metadata": {},
     "output_type": "execute_result"
    }
   ],
   "source": [
    "person = {'name':'이이름', 'age':40}\n",
    "person"
   ]
  },
  {
   "cell_type": "code",
   "execution_count": 2,
   "id": "eb81ec7d-1dda-4166-b0ce-59e01f66def0",
   "metadata": {},
   "outputs": [
    {
     "data": {
      "text/plain": [
       "dict"
      ]
     },
     "execution_count": 2,
     "metadata": {},
     "output_type": "execute_result"
    }
   ],
   "source": [
    "type(person)"
   ]
  },
  {
   "cell_type": "code",
   "execution_count": 6,
   "id": "dfc9b5b9-2384-46e7-9d6e-d8a309d7dfbc",
   "metadata": {},
   "outputs": [
    {
     "name": "stdout",
     "output_type": "stream",
     "text": [
      "{'name': '이이름', 'age': 40, 'address': '주소'}\n"
     ]
    },
    {
     "data": {
      "text/plain": [
       "{'name': '(수정)이이름', 'age': 40, 'address': '주소'}"
      ]
     },
     "execution_count": 6,
     "metadata": {},
     "output_type": "execute_result"
    }
   ],
   "source": [
    "# person['name']\n",
    "person['address'] = '주소'\n",
    "print(person)\n",
    "person['name'] = '(수정)이이름'\n",
    "person"
   ]
  },
  {
   "cell_type": "code",
   "execution_count": 8,
   "id": "fc7f6c05-a241-46c3-8193-5e787e31f548",
   "metadata": {},
   "outputs": [],
   "source": [
    "person = {'name':'이이름'}"
   ]
  },
  {
   "cell_type": "code",
   "execution_count": 13,
   "id": "cab180f1-949c-4536-9fcd-d7691a886b15",
   "metadata": {},
   "outputs": [
    {
     "name": "stdout",
     "output_type": "stream",
     "text": [
      "30\n",
      "{'name': '이이름'}\n"
     ]
    }
   ],
   "source": [
    "# person['age'] - 예외발생\n",
    "# person.get('age')\n",
    "age = person.get('age', 30) # 기본값 30\n",
    "print(age)\n",
    "print(person)"
   ]
  },
  {
   "cell_type": "code",
   "execution_count": 14,
   "id": "83d6fe7a-9cf4-4376-a025-7a9dcabaffc2",
   "metadata": {},
   "outputs": [],
   "source": [
    "person = {'name':'이이름', 'age':23}"
   ]
  },
  {
   "cell_type": "code",
   "execution_count": 16,
   "id": "1a046adf-084c-480e-a668-8906f7df36f7",
   "metadata": {},
   "outputs": [
    {
     "name": "stdout",
     "output_type": "stream",
     "text": [
      "dict_keys(['name', 'age']) dict_values(['이이름', 23])\n"
     ]
    }
   ],
   "source": [
    "keys = person.keys() # 키 목록 조회\n",
    "values = person.values() # 값 목록 조회\n",
    "print(keys, values)"
   ]
  },
  {
   "cell_type": "code",
   "execution_count": 17,
   "id": "f796aac8-eae1-4086-be76-48d3f3fa6c97",
   "metadata": {},
   "outputs": [
    {
     "name": "stdout",
     "output_type": "stream",
     "text": [
      "['이이름', 23]\n"
     ]
    }
   ],
   "source": [
    "values2 = list(values)\n",
    "print(values2)"
   ]
  },
  {
   "cell_type": "code",
   "execution_count": 18,
   "id": "db489cf3-cbdb-4850-8afc-1ddb0bfad0ec",
   "metadata": {},
   "outputs": [
    {
     "name": "stdout",
     "output_type": "stream",
     "text": [
      "dict_items([('name', '이이름'), ('age', 23)])\n"
     ]
    }
   ],
   "source": [
    "items = person.items() # 키, 값 쌍\n",
    "print(items)"
   ]
  },
  {
   "cell_type": "code",
   "execution_count": 19,
   "id": "603ce77f-9e7b-4ec5-9829-a6bbb33b069b",
   "metadata": {},
   "outputs": [
    {
     "name": "stdout",
     "output_type": "stream",
     "text": [
      "name 이이름\n",
      "age 23\n"
     ]
    }
   ],
   "source": [
    "for (name, age) in items:\n",
    "    print(name, age)"
   ]
  },
  {
   "cell_type": "code",
   "execution_count": 20,
   "id": "6c3e4ebd-0723-4e83-a274-01b67ed2e0f2",
   "metadata": {},
   "outputs": [
    {
     "name": "stdout",
     "output_type": "stream",
     "text": [
      "True\n",
      "False\n"
     ]
    }
   ],
   "source": [
    "print('name' in person)\n",
    "print('address' in person)"
   ]
  }
 ],
 "metadata": {
  "kernelspec": {
   "display_name": "Python 3 (ipykernel)",
   "language": "python",
   "name": "python3"
  },
  "language_info": {
   "codemirror_mode": {
    "name": "ipython",
    "version": 3
   },
   "file_extension": ".py",
   "mimetype": "text/x-python",
   "name": "python",
   "nbconvert_exporter": "python",
   "pygments_lexer": "ipython3",
   "version": "3.12.7"
  }
 },
 "nbformat": 4,
 "nbformat_minor": 5
}
