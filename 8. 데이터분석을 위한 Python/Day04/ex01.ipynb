{
 "cells": [
  {
   "cell_type": "code",
   "execution_count": 5,
   "id": "1282f824-c534-432e-8075-8cb40e6c63dc",
   "metadata": {},
   "outputs": [],
   "source": [
    "f = open('D:/data.txt','w') # w - 쓰기, 지정된 경로에 파일이 없는 경우 새 파일 하나 생성!\n",
    "for i in range(1,11):\n",
    "    f.write(\"%d번 라인\\n\" % i)\n",
    "f.close()"
   ]
  },
  {
   "cell_type": "code",
   "execution_count": 6,
   "id": "b3d354f8-b31d-408d-8707-e7a4719bab14",
   "metadata": {},
   "outputs": [
    {
     "name": "stdout",
     "output_type": "stream",
     "text": [
      "1번 라인\n",
      "2번 라인\n",
      "3번 라인\n",
      "4번 라인\n",
      "5번 라인\n",
      "6번 라인\n",
      "7번 라인\n",
      "8번 라인\n",
      "9번 라인\n",
      "10번 라인\n",
      "\n"
     ]
    }
   ],
   "source": [
    "# 파일 읽기\n",
    "f = open('D:/data.txt','r') # r - 읽기\n",
    "data = f.read() # 파일 내용 전체 읽기\n",
    "f.close()\n",
    "\n",
    "print(data)"
   ]
  },
  {
   "cell_type": "code",
   "execution_count": 10,
   "id": "48774694-cfeb-4788-9810-2ce8d0e8ba74",
   "metadata": {},
   "outputs": [
    {
     "name": "stdout",
     "output_type": "stream",
     "text": [
      "1번 라인\n",
      "2번 라인\n",
      "3번 라인\n",
      "4번 라인\n",
      "5번 라인\n",
      "6번 라인\n",
      "7번 라인\n",
      "8번 라인\n",
      "9번 라인\n",
      "10번 라인\n"
     ]
    }
   ],
   "source": [
    "# 한줄 한줄 읽기 - readline()\n",
    "f = open(\"D:/data.txt\", \"r\")\n",
    "\n",
    "while True:\n",
    "    line = f.readline()\n",
    "    if not line: break\n",
    "    # print(line, end='') # end의 기본값이 \\n\n",
    "    print(line.strip())\n",
    "\n",
    "f.close()"
   ]
  },
  {
   "cell_type": "code",
   "execution_count": 13,
   "id": "2c0dd029-5c4d-4642-8eab-ed3aae93c905",
   "metadata": {},
   "outputs": [
    {
     "name": "stdout",
     "output_type": "stream",
     "text": [
      "1번 라인\n",
      "2번 라인\n",
      "3번 라인\n",
      "4번 라인\n",
      "5번 라인\n",
      "6번 라인\n",
      "7번 라인\n",
      "8번 라인\n",
      "9번 라인\n",
      "10번 라인\n"
     ]
    }
   ],
   "source": [
    "# 한꺼번에 읽어와서 한 줄 한 줄 리스트로 반환 - readlines()\n",
    "f = open(\"D:/data.txt\", \"r\")\n",
    "lines = f.readlines()\n",
    "for line in lines:\n",
    "    print(line, end='')\n",
    "    \n",
    "f.close()"
   ]
  },
  {
   "cell_type": "code",
   "execution_count": 14,
   "id": "e94c790b-9c62-4b5d-828b-c66cc907e706",
   "metadata": {},
   "outputs": [
    {
     "name": "stdout",
     "output_type": "stream",
     "text": [
      "1번 라인\n",
      "2번 라인\n",
      "3번 라인\n",
      "4번 라인\n",
      "5번 라인\n",
      "6번 라인\n",
      "7번 라인\n",
      "8번 라인\n",
      "9번 라인\n",
      "10번 라인\n"
     ]
    }
   ],
   "source": [
    "f = open(\"D:/data.txt\", 'r')\n",
    "\n",
    "for line in f:\n",
    "    print(line, end='')\n",
    "\n",
    "f.close()"
   ]
  },
  {
   "cell_type": "code",
   "execution_count": 16,
   "id": "566f9c48-27e3-40cc-9e3d-f6e195bdf273",
   "metadata": {},
   "outputs": [],
   "source": [
    "f = open('D:/log.txt', 'a') # a - 추가, 텍스트를 계속 끝에 추가\n",
    "f.write(\"로그4\\n\")\n",
    "f.write(\"로그5\\n\")\n",
    "f.write(\"로그6\\n\")\n",
    "f.close()"
   ]
  },
  {
   "cell_type": "code",
   "execution_count": 17,
   "id": "a93e5cca-8bca-4f4a-8bf2-6114d6c38466",
   "metadata": {},
   "outputs": [],
   "source": [
    "# 자원 해제 자동화 - with 구문\n",
    "with open(\"D:/data2.txt\", \"w\") as f:\n",
    "    f.write(\"테스트 텍스트\")"
   ]
  },
  {
   "cell_type": "code",
   "execution_count": null,
   "id": "f01df043-de30-4d27-88fd-ae32c3a38423",
   "metadata": {},
   "outputs": [],
   "source": []
  }
 ],
 "metadata": {
  "kernelspec": {
   "display_name": "Python 3 (ipykernel)",
   "language": "python",
   "name": "python3"
  },
  "language_info": {
   "codemirror_mode": {
    "name": "ipython",
    "version": 3
   },
   "file_extension": ".py",
   "mimetype": "text/x-python",
   "name": "python",
   "nbconvert_exporter": "python",
   "pygments_lexer": "ipython3",
   "version": "3.12.7"
  }
 },
 "nbformat": 4,
 "nbformat_minor": 5
}
