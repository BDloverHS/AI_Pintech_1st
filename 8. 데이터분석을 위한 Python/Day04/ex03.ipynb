{
 "cells": [
  {
   "cell_type": "code",
   "execution_count": 13,
   "id": "9fa96359-5e2d-49f6-acd9-e66c724e84d2",
   "metadata": {},
   "outputs": [],
   "source": [
    "class Calculator:\n",
    "    # Calculator() 호출시 가장 먼저 호출되는 메서드\n",
    "    # 객체 변수(인스턴스 변수) 초기화 작업을 주로 담당\n",
    "    def __init__(self, a, b):\n",
    "        self.a = a\n",
    "        self.b = b\n",
    "    \n",
    "    # self : 객체 자원 중 객체 변수(인스턴스 변수)를 접근하기 위한 수단\n",
    "    def add(self):\n",
    "        return self.a + self.b # 객체 변수 a, b를 더한다\n",
    "\n",
    "    def sub(self):\n",
    "        return self.a - self.b\n",
    "\n",
    "    def mul(self):\n",
    "        return self.a * self.b\n",
    "\n",
    "    def div(self):\n",
    "        return self.a / self.b"
   ]
  },
  {
   "cell_type": "code",
   "execution_count": 14,
   "id": "b0afe065-bab5-40de-80d1-b3834f698b46",
   "metadata": {},
   "outputs": [],
   "source": [
    "# cal = Calculator()\n",
    "cal = Calculator(10, 20)"
   ]
  },
  {
   "cell_type": "code",
   "execution_count": 16,
   "id": "56ee63f9-e825-4fee-ae86-5554d60df4ab",
   "metadata": {},
   "outputs": [
    {
     "name": "stdout",
     "output_type": "stream",
     "text": [
      "30\n",
      "-10\n",
      "200\n",
      "0.5\n"
     ]
    }
   ],
   "source": [
    "## cal.a = 10 # 객체 변수(인스턴스 변수)\n",
    "## cal.b = 20\n",
    "# Calculator().add(cal)\n",
    "print(cal.add())\n",
    "print(cal.sub())\n",
    "print(cal.mul())\n",
    "print(cal.div())"
   ]
  },
  {
   "cell_type": "code",
   "execution_count": 23,
   "id": "97488595-68e1-4bf2-951a-aec3c1ab91a2",
   "metadata": {},
   "outputs": [],
   "source": [
    "class ProCalculator(Calculator): # 상속, ProCalculator - 자식, Calculator - 부모\n",
    "    def div(self): # Calculator에 정의된 div를 재정의, 메서드 재정의\n",
    "        if self.b == 0:\n",
    "            return 0\n",
    "        # return Calculator.div(self)\n",
    "        return self.a / self.b\n",
    "    def Square(self, x):\n",
    "        return x ** 2"
   ]
  },
  {
   "cell_type": "code",
   "execution_count": 24,
   "id": "cfed316b-9392-47c3-beb4-78776bb16cfc",
   "metadata": {},
   "outputs": [
    {
     "data": {
      "text/plain": [
       "0"
      ]
     },
     "execution_count": 24,
     "metadata": {},
     "output_type": "execute_result"
    }
   ],
   "source": [
    "cal2 = ProCalculator(10, 0)\n",
    "cal2.div()"
   ]
  },
  {
   "cell_type": "code",
   "execution_count": 27,
   "id": "35afee67-b55f-4847-80e2-8444c8d008d5",
   "metadata": {},
   "outputs": [],
   "source": [
    "class Student:\n",
    "    def __init__(self, id, name, major):\n",
    "        self.id = id\n",
    "        self.name = name\n",
    "        self.major = major\n",
    "    \n",
    "    # 자바의 toString() 메서드와 유사함\n",
    "    def __str__(self):\n",
    "        return f'id={self.id}, name={self.name}, magor={self.major}'"
   ]
  },
  {
   "cell_type": "code",
   "execution_count": 28,
   "id": "e0008c4b-3b89-42de-91ec-b0f4340c9e77",
   "metadata": {},
   "outputs": [
    {
     "name": "stdout",
     "output_type": "stream",
     "text": [
      "id=1000, name=이이름, magor=파이썬\n"
     ]
    }
   ],
   "source": [
    "s1 = Student(1000, '이이름', '파이썬')\n",
    "print(s1) # __str__(self) 출력"
   ]
  },
  {
   "cell_type": "code",
   "execution_count": 35,
   "id": "d0247b87-cca8-4ba1-8422-26d81ecf3c94",
   "metadata": {},
   "outputs": [],
   "source": [
    "class Multiply:\n",
    "    def __init__(self, num):\n",
    "        self.num = num\n",
    "\n",
    "    # 객체의 참조 변수를 함수처럼 호출했을 때 실행\n",
    "    def __call__(self, num):\n",
    "        return self.num * num\n",
    "\n",
    "    def __str__(self):\n",
    "        return \"self.num : \" + str(self.num)"
   ]
  },
  {
   "cell_type": "code",
   "execution_count": 36,
   "id": "6eec241c-099a-49e5-9edc-cf915bd20fc8",
   "metadata": {},
   "outputs": [
    {
     "name": "stdout",
     "output_type": "stream",
     "text": [
      "200\n",
      "self.num : 10\n"
     ]
    }
   ],
   "source": [
    "mul = Multiply(10) # __init__(self, num) 호출\n",
    "result = mul(20) # __call__(self, num) 호출\n",
    "print(result)\n",
    "print(mul) # __str__(self) 호출"
   ]
  },
  {
   "cell_type": "code",
   "execution_count": 40,
   "id": "9b3bb962-1b42-4b0c-9260-7563c409b1c1",
   "metadata": {},
   "outputs": [],
   "source": [
    "class Family:\n",
    "    lastname = '이' # 클래스 변수 - 객체 생성 상관없이 접근 가능. self.변수 - 인스턴스 변수(객체 생성 시 접근 가능)"
   ]
  },
  {
   "cell_type": "code",
   "execution_count": 41,
   "id": "9a571a6a-12be-4ac5-9d74-3830f1a8fb49",
   "metadata": {},
   "outputs": [],
   "source": [
    "# Family.lastname = '이' # 클래스 변수, 정적 변수, 다른 객체가 공유할 목적의 변수"
   ]
  },
  {
   "cell_type": "code",
   "execution_count": 43,
   "id": "620b47d9-0e72-42c1-93e7-f9feffbc17d2",
   "metadata": {},
   "outputs": [
    {
     "name": "stdout",
     "output_type": "stream",
     "text": [
      "f1: 김\n",
      "f2: 이\n"
     ]
    }
   ],
   "source": [
    "f1 = Family()\n",
    "f2 = Family()\n",
    "\n",
    "f1.lastname = '김' # f1.lastname : 인스턴스 변수와 헷갈릴 수 있음. 클래스명으로 직접 접근! Family.lastname\n",
    "print(\"f1: %s\" % f1.lastname)\n",
    "print(\"f2: %s\" % f2.lastname)"
   ]
  },
  {
   "cell_type": "code",
   "execution_count": 45,
   "id": "c315cc01-dc27-48f9-8e55-1a7d831c7aa1",
   "metadata": {},
   "outputs": [],
   "source": [
    "class Bird:\n",
    "    def fly(self):\n",
    "        raise NotImplementedError"
   ]
  },
  {
   "cell_type": "code",
   "execution_count": 48,
   "id": "237dbd32-ec82-44e6-9e4b-44e768d3ae4f",
   "metadata": {},
   "outputs": [],
   "source": [
    "class Eagle(Bird):\n",
    "    def fly(self): # 메서드 재정의\n",
    "        print(\"독수리가 아주 빠르게 날아간다!\")"
   ]
  },
  {
   "cell_type": "code",
   "execution_count": 50,
   "id": "fa65dd6f-6631-49fa-9929-9cb6e19a89bf",
   "metadata": {},
   "outputs": [
    {
     "name": "stdout",
     "output_type": "stream",
     "text": [
      "독수리가 아주 빠르게 날아간다!\n"
     ]
    }
   ],
   "source": [
    "e1 = Eagle()\n",
    "e1.fly()"
   ]
  },
  {
   "cell_type": "code",
   "execution_count": null,
   "id": "102b698f-bdfa-4e85-a6fa-ae9b573bffbc",
   "metadata": {},
   "outputs": [],
   "source": []
  }
 ],
 "metadata": {
  "kernelspec": {
   "display_name": "Python 3 (ipykernel)",
   "language": "python",
   "name": "python3"
  },
  "language_info": {
   "codemirror_mode": {
    "name": "ipython",
    "version": 3
   },
   "file_extension": ".py",
   "mimetype": "text/x-python",
   "name": "python",
   "nbconvert_exporter": "python",
   "pygments_lexer": "ipython3",
   "version": "3.12.7"
  }
 },
 "nbformat": 4,
 "nbformat_minor": 5
}
