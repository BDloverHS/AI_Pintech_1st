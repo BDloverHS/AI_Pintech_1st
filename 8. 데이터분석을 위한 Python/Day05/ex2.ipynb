{
 "cells": [
  {
   "cell_type": "code",
   "execution_count": 1,
   "id": "ae70b50d-6443-492f-98e1-684d31adba9a",
   "metadata": {},
   "outputs": [
    {
     "name": "stdout",
     "output_type": "stream",
     "text": [
      "True\n",
      "140737476700888 140737476700888\n"
     ]
    }
   ],
   "source": [
    "a = 10\n",
    "b = 10\n",
    "print(a == b)\n",
    "print(id(a), id(b))"
   ]
  },
  {
   "cell_type": "code",
   "execution_count": 2,
   "id": "3e958539-48d3-458d-9b7f-26917f72803d",
   "metadata": {},
   "outputs": [
    {
     "name": "stdout",
     "output_type": "stream",
     "text": [
      "140737476248496 140737476248496\n"
     ]
    }
   ],
   "source": [
    "a = \"ABC\"\n",
    "b = \"ABC\"\n",
    "print(id(a), id(b))"
   ]
  },
  {
   "cell_type": "code",
   "execution_count": 7,
   "id": "4df8c0c9-2513-428b-8509-b51e0df81753",
   "metadata": {},
   "outputs": [
    {
     "ename": "AttributeError",
     "evalue": "module 'time' has no attribute 'setlocaletime'",
     "output_type": "error",
     "traceback": [
      "\u001b[1;31m---------------------------------------------------------------------------\u001b[0m",
      "\u001b[1;31mAttributeError\u001b[0m                            Traceback (most recent call last)",
      "Cell \u001b[1;32mIn[7], line 2\u001b[0m\n\u001b[0;32m      1\u001b[0m \u001b[38;5;28;01mimport\u001b[39;00m \u001b[38;5;21;01mtime\u001b[39;00m\n\u001b[1;32m----> 2\u001b[0m strDoate \u001b[38;5;241m=\u001b[39m time\u001b[38;5;241m.\u001b[39msetlocaletime(time\u001b[38;5;241m.\u001b[39mtimer())\n\u001b[0;32m      3\u001b[0m \u001b[38;5;28mprint\u001b[39m(strDate)\n",
      "\u001b[1;31mAttributeError\u001b[0m: module 'time' has no attribute 'setlocaletime'"
     ]
    }
   ],
   "source": [
    "import time\n",
    "strDoate = time.setlocaletime(time.timer())\n",
    "print(strDate)"
   ]
  },
  {
   "cell_type": "code",
   "execution_count": 8,
   "id": "0d612fb0-d6d9-4e2d-9044-8e6e961c4005",
   "metadata": {},
   "outputs": [
    {
     "ename": "AttributeError",
     "evalue": "module 'os' has no attribute 'isdir'",
     "output_type": "error",
     "traceback": [
      "\u001b[1;31m---------------------------------------------------------------------------\u001b[0m",
      "\u001b[1;31mAttributeError\u001b[0m                            Traceback (most recent call last)",
      "Cell \u001b[1;32mIn[8], line 6\u001b[0m\n\u001b[0;32m      4\u001b[0m files \u001b[38;5;241m=\u001b[39m glob(\u001b[38;5;124m\"\u001b[39m\u001b[38;5;124mD:/pkg/game/\u001b[39m\u001b[38;5;124m\"\u001b[39m)\n\u001b[0;32m      5\u001b[0m \u001b[38;5;28;01mfor\u001b[39;00m file \u001b[38;5;129;01min\u001b[39;00m files:\n\u001b[1;32m----> 6\u001b[0m     \u001b[38;5;28;01mif\u001b[39;00m \u001b[38;5;129;01mnot\u001b[39;00m os\u001b[38;5;241m.\u001b[39misdir(file):\n\u001b[0;32m      7\u001b[0m         \u001b[38;5;28mprint\u001b[39m(file)\n",
      "\u001b[1;31mAttributeError\u001b[0m: module 'os' has no attribute 'isdir'"
     ]
    }
   ],
   "source": [
    "from glob import glob\n",
    "import os\n",
    "\n",
    "files = glob(\"D:/pkg/game/\")\n",
    "for file in files:\n",
    "    if not os.isdir(file):\n",
    "        print(file)"
   ]
  }
 ],
 "metadata": {
  "kernelspec": {
   "display_name": "Python 3 (ipykernel)",
   "language": "python",
   "name": "python3"
  },
  "language_info": {
   "codemirror_mode": {
    "name": "ipython",
    "version": 3
   },
   "file_extension": ".py",
   "mimetype": "text/x-python",
   "name": "python",
   "nbconvert_exporter": "python",
   "pygments_lexer": "ipython3",
   "version": "3.12.7"
  }
 },
 "nbformat": 4,
 "nbformat_minor": 5
}
