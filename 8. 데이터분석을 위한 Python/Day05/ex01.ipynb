{
 "cells": [
  {
   "cell_type": "code",
   "execution_count": 2,
   "id": "6b29cdb0-ec14-4067-a786-211a2d59f6c9",
   "metadata": {},
   "outputs": [
    {
     "name": "stdout",
     "output_type": "stream",
     "text": [
      "예외 발생\n",
      "매우 중요한 코드! 꼭 실행되어야 함\n"
     ]
    }
   ],
   "source": [
    "try : # 예외가 발생할 가능성이 있는 코드 구간\n",
    "    num1 = 10\n",
    "    num2 = 0\n",
    "    result = num1 / num2\n",
    "    print(result)\n",
    "except : # 예외에 대한 처리 구간\n",
    "    print(\"예외 발생\")\n",
    "\n",
    "print(\"매우 중요한 코드! 꼭 실행되어야 함\")"
   ]
  },
  {
   "cell_type": "code",
   "execution_count": 4,
   "id": "04204b11-1137-45b7-8f91-0b6f457cbf1b",
   "metadata": {},
   "outputs": [
    {
     "name": "stdout",
     "output_type": "stream",
     "text": [
      "예외 발생\n",
      "매우 중요한 코드! 꼭 실행되어야 함\n"
     ]
    }
   ],
   "source": [
    "try : # 예외가 발생할 가능성이 있는 코드 구간\n",
    "    num1 = 10\n",
    "    num2 = 0\n",
    "    result = num1 / num2\n",
    "    print(result)\n",
    "except ZeroDivisionError: # 0으로 나눴을 때에 대한 예외 처리 구간\n",
    "    print(\"예외 발생\")\n",
    "\n",
    "print(\"매우 중요한 코드! 꼭 실행되어야 함\")"
   ]
  },
  {
   "cell_type": "code",
   "execution_count": 18,
   "id": "5edbcd1d-240c-4f0f-a9a5-4e9a0aa58a99",
   "metadata": {},
   "outputs": [
    {
     "name": "stdout",
     "output_type": "stream",
     "text": [
      "5.0\n",
      "잘 처리됨...\n",
      "매우 중요한 코드! 꼭 실행되어야 함\n"
     ]
    }
   ],
   "source": [
    "try : # 예외가 발생할 가능성이 있는 코드 구간\n",
    "    num1 = 10\n",
    "    # num2 = 0\n",
    "    num2 = 2\n",
    "    result = num1 / num2\n",
    "    print(result)\n",
    "\n",
    "    fruits = ['사과', '멜론', '오렌지']\n",
    "    # pos = fruits.index('망고') # 못 찾으면 예외처리\n",
    "    # pos = fruits.find('망고') # 못 찾으면 -1 반환\n",
    "    # print(pos)\n",
    "# except ZeroDivisionError: # 0으로 나눴을 때에 대한 예외 처리 구간\n",
    "    # print(\"0으로 나눴을 때 예외 발생\")\n",
    "# except ValueError:\n",
    "    # print(\"value에 대한 예외 발생\")\n",
    "# except (ZeroDivisionError, ValueError):\n",
    "    # print(\"예외 발생\")\n",
    "except Exception: # 다형성\n",
    "    print(\"예외 발생\")\n",
    "else: # 예외가 발생하지 않으면 실행되는 구간\n",
    "    print(\"잘 처리됨...\")\n",
    "\n",
    "print(\"매우 중요한 코드! 꼭 실행되어야 함\")"
   ]
  },
  {
   "cell_type": "code",
   "execution_count": 23,
   "id": "d5b2da19-4e0e-4b65-a98d-f82a3d391b56",
   "metadata": {},
   "outputs": [
    {
     "name": "stdout",
     "output_type": "stream",
     "text": [
      "5.0\n",
      "'망고' is not in list\n",
      "Traceback (most recent call last):\n",
      "  File \"C:\\Users\\admin\\AppData\\Local\\Temp\\ipykernel_10784\\4188095049.py\", line 10, in <module>\n",
      "    pos = fruits.index('망고')\n",
      "          ^^^^^^^^^^^^^^^^^^^^\n",
      "ValueError: '망고' is not in list\n",
      "\n",
      "매우 중요한 코드! 꼭 실행되어야 함\n"
     ]
    }
   ],
   "source": [
    "import traceback\n",
    "try : # 예외가 발생할 가능성이 있는 코드 구간\n",
    "    num1 = 10\n",
    "    # num2 = 0\n",
    "    num2 = 2\n",
    "    result = num1 / num2\n",
    "    print(result)\n",
    "\n",
    "    fruits = ['사과', '멜론', '오렌지']\n",
    "    pos = fruits.index('망고')\n",
    "    print(pos)\n",
    "    print(result)\n",
    "except ZeroDivisionError as e: # 0으로 나눴을 때에 대한 예외 처리 구간, e : 발생한 예외 객체 참조 변수\n",
    "    # print(\"예외 발생\")\n",
    "    print(e) # 발생한 예외 객체 정보 출력\n",
    "    print(traceback.format_exc()) # 예외 발생에 대한 자세한 처리\n",
    "except ValueError as e: # Value에 대한 예외처리 구간 , e : 발생한 예외 객체 참조 변수\n",
    "    # print(\"value에 대한 예외 발생\")\n",
    "    print(e)\n",
    "    print(traceback.format_exc()) # 예외 발생에 대한 자세한 처리\n",
    "\n",
    "print(\"매우 중요한 코드! 꼭 실행되어야 함\")"
   ]
  },
  {
   "cell_type": "code",
   "execution_count": 15,
   "id": "de6471d3-383b-46cd-bf3d-66ef1276a3d7",
   "metadata": {},
   "outputs": [],
   "source": [
    "def add(a, b):\n",
    "    try:\n",
    "        return a + b # return하면 함수는 종료\n",
    "    finally:\n",
    "        print(\"실행\")"
   ]
  },
  {
   "cell_type": "code",
   "execution_count": 16,
   "id": "053db161-fdfa-44e6-883a-c9431bba21c4",
   "metadata": {},
   "outputs": [
    {
     "name": "stdout",
     "output_type": "stream",
     "text": [
      "실행\n"
     ]
    },
    {
     "data": {
      "text/plain": [
       "30"
      ]
     },
     "execution_count": 16,
     "metadata": {},
     "output_type": "execute_result"
    }
   ],
   "source": [
    "add(10,20)"
   ]
  },
  {
   "cell_type": "code",
   "execution_count": 19,
   "id": "5666c809-ef24-4230-a2ad-b10ce7c07030",
   "metadata": {},
   "outputs": [],
   "source": [
    "def login(user_id, user_pass):\n",
    "    if user_id != 'user01':\n",
    "        raise Exception(\"아이디가 일치하지 않습니다.\")\n",
    "\n",
    "    if user_pass != \"1234\":\n",
    "        raise Exception(\"비밀번호가 일치하지 않습니다.\")\n",
    "\n",
    "    print(\"로그인 성공!\")"
   ]
  },
  {
   "cell_type": "code",
   "execution_count": 20,
   "id": "f47f5ac3-d9b6-4275-98df-3f80b1298b5b",
   "metadata": {},
   "outputs": [
    {
     "name": "stdout",
     "output_type": "stream",
     "text": [
      "로그인 성공!\n"
     ]
    }
   ],
   "source": [
    "login(\"user01\",\"1234\")"
   ]
  },
  {
   "cell_type": "code",
   "execution_count": 22,
   "id": "7600a7c2-298a-4638-82e0-442e2dd7d264",
   "metadata": {},
   "outputs": [
    {
     "ename": "Exception",
     "evalue": "아이디가 일치하지 않습니다.",
     "output_type": "error",
     "traceback": [
      "\u001b[1;31m---------------------------------------------------------------------------\u001b[0m",
      "\u001b[1;31mException\u001b[0m                                 Traceback (most recent call last)",
      "Cell \u001b[1;32mIn[22], line 1\u001b[0m\n\u001b[1;32m----> 1\u001b[0m login(\u001b[38;5;124m\"\u001b[39m\u001b[38;5;124muser02\u001b[39m\u001b[38;5;124m\"\u001b[39m,\u001b[38;5;124m\"\u001b[39m\u001b[38;5;124m1111\u001b[39m\u001b[38;5;124m\"\u001b[39m)\n",
      "Cell \u001b[1;32mIn[19], line 3\u001b[0m, in \u001b[0;36mlogin\u001b[1;34m(user_id, user_pass)\u001b[0m\n\u001b[0;32m      1\u001b[0m \u001b[38;5;28;01mdef\u001b[39;00m \u001b[38;5;21mlogin\u001b[39m(user_id, user_pass):\n\u001b[0;32m      2\u001b[0m     \u001b[38;5;28;01mif\u001b[39;00m user_id \u001b[38;5;241m!=\u001b[39m \u001b[38;5;124m'\u001b[39m\u001b[38;5;124muser01\u001b[39m\u001b[38;5;124m'\u001b[39m:\n\u001b[1;32m----> 3\u001b[0m         \u001b[38;5;28;01mraise\u001b[39;00m \u001b[38;5;167;01mException\u001b[39;00m(\u001b[38;5;124m\"\u001b[39m\u001b[38;5;124m아이디가 일치하지 않습니다.\u001b[39m\u001b[38;5;124m\"\u001b[39m)\n\u001b[0;32m      5\u001b[0m     \u001b[38;5;28;01mif\u001b[39;00m user_pass \u001b[38;5;241m!=\u001b[39m \u001b[38;5;124m\"\u001b[39m\u001b[38;5;124m1234\u001b[39m\u001b[38;5;124m\"\u001b[39m:\n\u001b[0;32m      6\u001b[0m         \u001b[38;5;28;01mraise\u001b[39;00m \u001b[38;5;167;01mException\u001b[39;00m(\u001b[38;5;124m\"\u001b[39m\u001b[38;5;124m비밀번호가 일치하지 않습니다.\u001b[39m\u001b[38;5;124m\"\u001b[39m)\n",
      "\u001b[1;31mException\u001b[0m: 아이디가 일치하지 않습니다."
     ]
    }
   ],
   "source": [
    "login(\"user02\",\"1111\")"
   ]
  },
  {
   "cell_type": "code",
   "execution_count": 16,
   "id": "403448ba-9665-4738-882c-3b1d90266803",
   "metadata": {},
   "outputs": [],
   "source": [
    "class UserIdException(Exception): # Exception 클래스를 상속받으면 예외 클래스 됨\n",
    "    def __init__(self, message):\n",
    "        self.message = message\n",
    "    \n",
    "    def __str__(self):\n",
    "        return self.message\n",
    "\n",
    "class UserPassException(Exception):\n",
    "    def __init__(self, message):\n",
    "        self.message = message\n",
    "    \n",
    "    def __str__(self):\n",
    "        return self.message"
   ]
  },
  {
   "cell_type": "code",
   "execution_count": 17,
   "id": "2f2bf19a-efc9-40ce-96a2-1e2ad0493ee8",
   "metadata": {},
   "outputs": [],
   "source": [
    "def login(userId, userPass):\n",
    "    if userId != 'user01':\n",
    "        raise UserIdException(\"아이디가 일치하지 않습니다.\")\n",
    "\n",
    "    if userPass != '1234':\n",
    "        raise UserPassException(\"비밀번호가 일치하지 않습니다.\")\n",
    "\n",
    "    print(\"로그인 성공...\")"
   ]
  },
  {
   "cell_type": "code",
   "execution_count": 19,
   "id": "8bfe156c-f11e-4a06-b1d1-b4a3144332aa",
   "metadata": {},
   "outputs": [
    {
     "name": "stdout",
     "output_type": "stream",
     "text": [
      "아이디가 일치하지 않습니다.\n",
      "Traceback (most recent call last):\n",
      "  File \"C:\\Users\\admin\\AppData\\Local\\Temp\\ipykernel_4696\\1911969451.py\", line 3, in <module>\n",
      "    login('user02','1111')\n",
      "  File \"C:\\Users\\admin\\AppData\\Local\\Temp\\ipykernel_4696\\3158958855.py\", line 3, in login\n",
      "    raise UserIdException(\"아이디가 일치하지 않습니다.\")\n",
      "UserIdException: 아이디가 일치하지 않습니다.\n",
      "\n"
     ]
    }
   ],
   "source": [
    "import traceback\n",
    "try:\n",
    "    login('user02','1111')\n",
    "except (UserIdException, UserPassException) as e:\n",
    "    print(e) # __str__ 호출\n",
    "    print(traceback.format_exc())"
   ]
  }
 ],
 "metadata": {
  "kernelspec": {
   "display_name": "Python 3 (ipykernel)",
   "language": "python",
   "name": "python3"
  },
  "language_info": {
   "codemirror_mode": {
    "name": "ipython",
    "version": 3
   },
   "file_extension": ".py",
   "mimetype": "text/x-python",
   "name": "python",
   "nbconvert_exporter": "python",
   "pygments_lexer": "ipython3",
   "version": "3.12.7"
  }
 },
 "nbformat": 4,
 "nbformat_minor": 5
}
