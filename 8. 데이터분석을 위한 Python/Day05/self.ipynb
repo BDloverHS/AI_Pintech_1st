{
 "cells": [
  {
   "cell_type": "code",
   "execution_count": 1,
   "id": "81dba04c-b5c7-45c6-8c10-c2440b3e17e8",
   "metadata": {},
   "outputs": [],
   "source": [
    "# 내장함수"
   ]
  },
  {
   "cell_type": "code",
   "execution_count": 14,
   "id": "bcf7d6e8-78c5-4ebf-889d-0d546ca33427",
   "metadata": {},
   "outputs": [
    {
     "name": "stdout",
     "output_type": "stream",
     "text": [
      "10\n",
      "1.23\n",
      "10\n",
      "1.23\n"
     ]
    }
   ],
   "source": [
    "# abs 내장함수\n",
    "# abs(x): 어떤 숫자를 입력받았을 때 그 숫자의 절댓값을 리턴하는 함수\n",
    "a = 10\n",
    "b = 1.23\n",
    "c = -10\n",
    "d = -1.23\n",
    "print(abs(a))\n",
    "print(abs(b))\n",
    "print(abs(c))\n",
    "print(abs(d))"
   ]
  },
  {
   "cell_type": "code",
   "execution_count": 15,
   "id": "a7292f34-bb1b-4a6d-958d-f8f259c2b41d",
   "metadata": {},
   "outputs": [
    {
     "name": "stdout",
     "output_type": "stream",
     "text": [
      "True\n",
      "True\n",
      "False\n",
      "False\n",
      "True\n",
      "False\n",
      "True\n",
      "True\n"
     ]
    }
   ],
   "source": [
    "# all 내장함수\n",
    "# all : all(x)는 반복 가능한 데이터 x를 입력값으로 받으며 이 x의 요소가 모두 참이면 True, 거짓이 하나라도 있으면 False를 리턴\n",
    "# 반복 가능한 데이터 : for 문에서 사용할 수 있는 자료형.(리스트, 튜플, 문자열, 딕셔너리, 집합 등)\n",
    "print(all([1,2,3])) # 배열\n",
    "print(all((1,2,3))) # 튜플\n",
    "print(all([0,1,2])) # 0은 False로 인식함 - 배열\n",
    "print(all((0,1,2))) # 0은 False로 인식함 - 튜플\n",
    "print(all(['사과','바나나']))\n",
    "print(all(['사과','바나나',''])) #빈 문자열은 False로 인식함\n",
    "print(all([])) # 빈 배열을 True로 인식...?\n",
    "print(all(())) # 빈 튜플을 True로 인식...?"
   ]
  },
  {
   "cell_type": "code",
   "execution_count": 16,
   "id": "2ccc8b16-32c9-40df-989e-e4d6a8d8630b",
   "metadata": {},
   "outputs": [
    {
     "name": "stdout",
     "output_type": "stream",
     "text": [
      "True\n",
      "True\n",
      "False\n"
     ]
    }
   ],
   "source": [
    "# any 내장함수\n",
    "# any : 반복 가능한 데이터 x를 입력으로 받아 x의 요소 중 하나라도 참이면 True, 모두 거짓일 때 False 리턴\n",
    "print(any([0,1,2])) # 0이 False지만 1,2가 true이므로 true - 배열\n",
    "print(any((0,1,2))) # 0은 False지만 1,2가 true이므로 true - 튜플\n",
    "print(any([]))"
   ]
  },
  {
   "cell_type": "code",
   "execution_count": 22,
   "id": "451b1035-6e55-4ecf-9ff9-43a0386bfe3b",
   "metadata": {},
   "outputs": [
    {
     "name": "stdin",
     "output_type": "stream",
     "text": [
      " 98\n"
     ]
    },
    {
     "name": "stdout",
     "output_type": "stream",
     "text": [
      "b\n"
     ]
    }
   ],
   "source": [
    "# chr 내장함수\n",
    "# chr : 유니코드 숫자 값을 입력받아 그 코드에 해당하는 문자를 리턴하는 함수\n",
    "# 유니코드: 전 세계의 모든 문자를 컴퓨터에서 일관되게 표현하고 다룰 수 있도록 설계된 산업 표준 코드\n",
    "\n",
    "a = int(input())\n",
    "print(chr(a))"
   ]
  },
  {
   "cell_type": "code",
   "execution_count": null,
   "id": "97992c3c-3cc2-4d8f-9919-666020eca76b",
   "metadata": {},
   "outputs": [],
   "source": []
  }
 ],
 "metadata": {
  "kernelspec": {
   "display_name": "Python 3 (ipykernel)",
   "language": "python",
   "name": "python3"
  },
  "language_info": {
   "codemirror_mode": {
    "name": "ipython",
    "version": 3
   },
   "file_extension": ".py",
   "mimetype": "text/x-python",
   "name": "python",
   "nbconvert_exporter": "python",
   "pygments_lexer": "ipython3",
   "version": "3.12.7"
  }
 },
 "nbformat": 4,
 "nbformat_minor": 5
}
