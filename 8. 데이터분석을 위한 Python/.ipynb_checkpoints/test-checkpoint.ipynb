{
 "cells": [
  {
   "cell_type": "code",
   "execution_count": 20,
   "id": "9cbf0d6e-0b79-4eb7-a0ea-77749b82bf7c",
   "metadata": {},
   "outputs": [
    {
     "name": "stdout",
     "output_type": "stream",
     "text": [
      "[1, 2, 3, 4, 5]\n"
     ]
    }
   ],
   "source": [
    "# 1. a 리스트에서 중복 숫자를 제거해 보세요\n",
    "a = [1, 1, 1, 2, 2, 3, 3, 3, 4, 4, 5]\n",
    "aSet = set(a)\n",
    "a = list(aSet)\n",
    "print(a)"
   ]
  },
  {
   "cell_type": "code",
   "execution_count": 33,
   "id": "314a1014-7c48-4792-befb-986d3838885d",
   "metadata": {},
   "outputs": [
    {
     "name": "stdout",
     "output_type": "stream",
     "text": [
      "2.5\n",
      "3.0\n"
     ]
    }
   ],
   "source": [
    "# 2. 입력으로 들어오는 모든 수의 평균값을 계산해 주는 함수를 작성해보자. 단, 입력으로 들어오는 수의 개수는 정해져 있지 않다.\n",
    "def Calculator(*args):\n",
    "    result = 0\n",
    "    for arg in args:\n",
    "        result += arg\n",
    "    return result / len(args)\n",
    "\n",
    "print(Calculator(1.5,2.5,3.5))\n",
    "print(Calculator(1,2,3,4,5))"
   ]
  },
  {
   "cell_type": "code",
   "execution_count": 34,
   "id": "f7ab0084-0796-4a2c-a807-f813b5309769",
   "metadata": {},
   "outputs": [
    {
     "name": "stdout",
     "output_type": "stream",
     "text": [
      "[3, 6, 9, 12]\n"
     ]
    }
   ],
   "source": [
    "nums = [1,2,3,4]\n",
    "result = list(map(lambda x:x*3, nums))\n",
    "print(result)"
   ]
  }
 ],
 "metadata": {
  "kernelspec": {
   "display_name": "Python 3 (ipykernel)",
   "language": "python",
   "name": "python3"
  },
  "language_info": {
   "codemirror_mode": {
    "name": "ipython",
    "version": 3
   },
   "file_extension": ".py",
   "mimetype": "text/x-python",
   "name": "python",
   "nbconvert_exporter": "python",
   "pygments_lexer": "ipython3",
   "version": "3.12.7"
  }
 },
 "nbformat": 4,
 "nbformat_minor": 5
}
