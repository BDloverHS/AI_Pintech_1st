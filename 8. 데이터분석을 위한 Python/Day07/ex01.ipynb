{
 "cells": [
  {
   "cell_type": "code",
   "execution_count": 7,
   "id": "e962156a-df56-4ca6-9c47-ca1546c961af",
   "metadata": {},
   "outputs": [],
   "source": [
    "# . > 줄 개행 문자를 제외한 모든 문자 1글자\n",
    "import re\n",
    "p = re.compile(\"a.b\")\n",
    "p.match(\"a\\nb\")"
   ]
  },
  {
   "cell_type": "code",
   "execution_count": 6,
   "id": "e2680738-ca0b-4657-b225-f70fee3e40d5",
   "metadata": {},
   "outputs": [
    {
     "data": {
      "text/plain": [
       "<re.Match object; span=(0, 3), match='a\\nb'>"
      ]
     },
     "execution_count": 6,
     "metadata": {},
     "output_type": "execute_result"
    }
   ],
   "source": [
    "# re.DOTALL : . 이 줄 개행 문자(\\n)도 포함한 모든 문자 1개\n",
    "p = re.compile(\"a.b\", re.DOTALL)\n",
    "p.match(\"a\\nb\")"
   ]
  },
  {
   "cell_type": "code",
   "execution_count": 11,
   "id": "4c1ab5a8-87f3-420d-a107-90d0086ffeca",
   "metadata": {},
   "outputs": [
    {
     "data": {
      "text/plain": [
       "<re.Match object; span=(0, 6), match='Python'>"
      ]
     },
     "execution_count": 11,
     "metadata": {},
     "output_type": "execute_result"
    }
   ],
   "source": [
    "p = re.compile(\"[a-z]+\") # 알파벳 소문자로 시작하고, 한 문자 이상이 와야함\n",
    "p.match(\"python\")\n",
    "\n",
    "p = re.compile(\"[a-z]+\",re.IGNORECASE) # 대소문자 구분 x\n",
    "p.match(\"Python\")"
   ]
  },
  {
   "cell_type": "code",
   "execution_count": 21,
   "id": "a064c768-629b-44ad-bc8e-1ac337a8dc2c",
   "metadata": {},
   "outputs": [
    {
     "name": "stdout",
     "output_type": "stream",
     "text": [
      "['python one12', 'python two', 'python three']\n"
     ]
    }
   ],
   "source": [
    "str = \"\"\"python one12\n",
    "life is short\n",
    "python two\n",
    "you need python\n",
    "python three\"\"\"\n",
    "\n",
    "# p = re.compile(r\"^python\\s\\w+\") # 전체 하나의 문장으로 체크\n",
    "# p = re.compile(r\"^python\\s\\w+\", re.MULTILINE) # 각각의 행별로 ^(시작), $(끝) 패턴\n",
    "# p = re.compile(r\"^python\\s\\w+\", re.M)\n",
    "items = p.findall(str)\n",
    "print(items)"
   ]
  },
  {
   "cell_type": "code",
   "execution_count": 24,
   "id": "b7342bbe-bed5-4265-8fd1-61bd66780237",
   "metadata": {},
   "outputs": [
    {
     "data": {
      "text/plain": [
       "<re.Match object; span=(0, 5), match='ab cd'>"
      ]
     },
     "execution_count": 24,
     "metadata": {},
     "output_type": "execute_result"
    }
   ],
   "source": [
    "# p = re.compile(\"ab\\\\scd\") # \\s -> s -> \\\\s -> \\s\n",
    "p = re.compile(r\"ab\\scd\")\n",
    "p.match(\"ab cd\")"
   ]
  }
 ],
 "metadata": {
  "kernelspec": {
   "display_name": "Python 3 (ipykernel)",
   "language": "python",
   "name": "python3"
  },
  "language_info": {
   "codemirror_mode": {
    "name": "ipython",
    "version": 3
   },
   "file_extension": ".py",
   "mimetype": "text/x-python",
   "name": "python",
   "nbconvert_exporter": "python",
   "pygments_lexer": "ipython3",
   "version": "3.12.7"
  }
 },
 "nbformat": 4,
 "nbformat_minor": 5
}
