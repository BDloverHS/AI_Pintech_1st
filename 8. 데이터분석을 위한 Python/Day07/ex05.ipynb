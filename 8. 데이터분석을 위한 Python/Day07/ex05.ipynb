{
 "cells": [
  {
   "cell_type": "code",
   "execution_count": 1,
   "id": "bc3be52a-d7a4-4380-beb0-772d4789be98",
   "metadata": {},
   "outputs": [],
   "source": [
    "import re\n",
    "url = \"http://www.naver.com\""
   ]
  },
  {
   "cell_type": "code",
   "execution_count": 2,
   "id": "804894f2-924e-4e7e-8a3b-0bb8d7c84060",
   "metadata": {},
   "outputs": [
    {
     "data": {
      "text/plain": [
       "<re.Match object; span=(0, 7), match='http://'>"
      ]
     },
     "execution_count": 2,
     "metadata": {},
     "output_type": "execute_result"
    }
   ],
   "source": [
    "p = re.compile(r\"http[s]?://\")\n",
    "p.match(url)"
   ]
  },
  {
   "cell_type": "code",
   "execution_count": 3,
   "id": "4c0d219d-ebc6-42ef-99db-da5adeef1597",
   "metadata": {},
   "outputs": [
    {
     "data": {
      "text/plain": [
       "<re.Match object; span=(0, 4), match='http'>"
      ]
     },
     "execution_count": 3,
     "metadata": {},
     "output_type": "execute_result"
    }
   ],
   "source": [
    "p = re.compile(r\".+(?=://)\") # 전방 탐색. 패턴의 앞쪽을 확인\n",
    "p.match(url)"
   ]
  },
  {
   "cell_type": "code",
   "execution_count": 4,
   "id": "a991f145-df01-4fc3-8b33-68b728948074",
   "metadata": {},
   "outputs": [
    {
     "name": "stdout",
     "output_type": "stream",
     "text": [
      "https://www.naver.com\n"
     ]
    }
   ],
   "source": [
    "urls = [\"abc\", \"def\", \"https://www.naver.com\", \"ghi\"]\n",
    "for url in urls:\n",
    "    if p.match(url):\n",
    "        print(url)"
   ]
  },
  {
   "cell_type": "code",
   "execution_count": 19,
   "id": "b3ab8ed5-6c81-41da-acd4-717d5bc51d6a",
   "metadata": {},
   "outputs": [],
   "source": [
    "p = re.compile(r\".+(?!://)\") # 전방 부정 탐색. :// 패턴이 아닌 문구의 앞에 있는 패턴\n",
    "for url in urls:\n",
    "    if p.match(url):\n",
    "        print(url)"
   ]
  },
  {
   "cell_type": "code",
   "execution_count": 8,
   "id": "1b614429-fc47-4113-91e6-70fa49481b44",
   "metadata": {},
   "outputs": [
    {
     "data": {
      "text/plain": [
       "'<html><head><title>Title</title></head></html>'"
      ]
     },
     "execution_count": 8,
     "metadata": {},
     "output_type": "execute_result"
    }
   ],
   "source": [
    "a = \"<html><head><title>Title</title></head></html>\"\n",
    "p = re.compile(r\"<.*>\")\n",
    "p.match(a).group()"
   ]
  },
  {
   "cell_type": "code",
   "execution_count": 10,
   "id": "5a6334e9-b06b-462a-bf1a-56cecee4b036",
   "metadata": {},
   "outputs": [
    {
     "data": {
      "text/plain": [
       "'<html>'"
      ]
     },
     "execution_count": 10,
     "metadata": {},
     "output_type": "execute_result"
    }
   ],
   "source": [
    "p = re.compile(r\"<.*?>\") # 최소 매칭\n",
    "p.match(a).group()"
   ]
  },
  {
   "cell_type": "code",
   "execution_count": 18,
   "id": "dece707d-2c99-4416-8e23-2020c460288c",
   "metadata": {},
   "outputs": [
    {
     "data": {
      "text/plain": [
       "('1 fruits, 2 fruits, 3 melons', 2)"
      ]
     },
     "execution_count": 18,
     "metadata": {},
     "output_type": "execute_result"
    }
   ],
   "source": [
    "p = re.compile(\"apple|orange|melon\")\n",
    "str = \"1 apples, 2 oranges, 3 melons\"\n",
    "# p.sub(\"fruit\", str)\n",
    "# p.sub(\"fruit\", str, count=2) # 2개까지만 치환\n",
    "p.subn(\"fruit\", str, 2) # 위와 동일함"
   ]
  }
 ],
 "metadata": {
  "kernelspec": {
   "display_name": "Python 3 (ipykernel)",
   "language": "python",
   "name": "python3"
  },
  "language_info": {
   "codemirror_mode": {
    "name": "ipython",
    "version": 3
   },
   "file_extension": ".py",
   "mimetype": "text/x-python",
   "name": "python",
   "nbconvert_exporter": "python",
   "pygments_lexer": "ipython3",
   "version": "3.12.7"
  }
 },
 "nbformat": 4,
 "nbformat_minor": 5
}
