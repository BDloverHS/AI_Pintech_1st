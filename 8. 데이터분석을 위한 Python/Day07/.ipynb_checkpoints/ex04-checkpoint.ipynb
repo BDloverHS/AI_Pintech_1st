{
 "cells": [
  {
   "cell_type": "code",
   "execution_count": 8,
   "id": "1f94f2ae-5b23-4e79-b808-a584219c07ab",
   "metadata": {},
   "outputs": [],
   "source": [
    "import re"
   ]
  },
  {
   "cell_type": "code",
   "execution_count": 19,
   "id": "73bf20d9-b635-4a86-b0f1-d5aed4c974b5",
   "metadata": {},
   "outputs": [],
   "source": [
    "data = \"\"\"\n",
    "이이름 010-1000-1000\n",
    "김이름 010-2000-2000\n",
    "\"\"\""
   ]
  },
  {
   "cell_type": "code",
   "execution_count": 20,
   "id": "87b6dca8-509f-4cc8-8937-9834e55cb236",
   "metadata": {},
   "outputs": [
    {
     "name": "stdout",
     "output_type": "stream",
     "text": [
      "['이이름 010-1000-1000', '김이름 010-2000-2000']\n"
     ]
    }
   ],
   "source": [
    "p = re.compile(r\"[a-zA-Zㄱ-ㅎ가-힣]+\\s01[016]\\D*\\d{3,4}\\D*\\d{4}\")\n",
    "print(p.findall(data))"
   ]
  },
  {
   "cell_type": "code",
   "execution_count": 21,
   "id": "83daf662-0f1c-4c16-bb05-efd48aa633df",
   "metadata": {},
   "outputs": [],
   "source": [
    "p = re.compile(r'([a-zA-Zㄱ-ㅎ-가-힣]+)\\s(01[016]\\D*\\d{3,4}\\D*\\d{4})')\n",
    "# group(1) : [a-zA-Zㄱ-ㅎ가-힣]+\n",
    "# group(2) : 01[016]\\D*\\d{3,4}\\D*\\d{4}"
   ]
  },
  {
   "cell_type": "code",
   "execution_count": 22,
   "id": "46256484-fecb-4eaa-9033-aa4b9248886b",
   "metadata": {},
   "outputs": [
    {
     "ename": "AttributeError",
     "evalue": "'tuple' object has no attribute 'group'",
     "output_type": "error",
     "traceback": [
      "\u001b[1;31m---------------------------------------------------------------------------\u001b[0m",
      "\u001b[1;31mAttributeError\u001b[0m                            Traceback (most recent call last)",
      "Cell \u001b[1;32mIn[22], line 2\u001b[0m\n\u001b[0;32m      1\u001b[0m \u001b[38;5;28;01mfor\u001b[39;00m m \u001b[38;5;129;01min\u001b[39;00m p\u001b[38;5;241m.\u001b[39mfindall(data):\n\u001b[1;32m----> 2\u001b[0m     \u001b[38;5;28mprint\u001b[39m(m\u001b[38;5;241m.\u001b[39mgroup()) \u001b[38;5;66;03m# 전체 패턴에 매칭되는 문자열\u001b[39;00m\n\u001b[0;32m      3\u001b[0m     \u001b[38;5;28mprint\u001b[39m(m\u001b[38;5;241m.\u001b[39mgroup(\u001b[38;5;241m1\u001b[39m)) \u001b[38;5;66;03m# 첫번째 그룹에 매칭되는 문자열\u001b[39;00m\n\u001b[0;32m      4\u001b[0m     \u001b[38;5;28mprint\u001b[39m(m\u001b[38;5;241m.\u001b[39mgroup(\u001b[38;5;241m2\u001b[39m))\n",
      "\u001b[1;31mAttributeError\u001b[0m: 'tuple' object has no attribute 'group'"
     ]
    }
   ],
   "source": [
    "for m in p.findall(data):\n",
    "    print(m.group()) # 전체 패턴에 매칭되는 문자열\n",
    "    print(m.group(1)) # 첫번째 그룹에 매칭되는 문자열\n",
    "    print(m.group(2)) # 두번째 그룹에 매칭되는 문자열"
   ]
  },
  {
   "cell_type": "code",
   "execution_count": 16,
   "id": "b819fce8-cc07-47fe-b7c7-2897cd50ef2a",
   "metadata": {},
   "outputs": [
    {
     "name": "stdout",
     "output_type": "stream",
     "text": [
      "\n",
      "010-1000-1000 이이름\n",
      "010-2000-2000 김이름\n",
      "\n"
     ]
    }
   ],
   "source": [
    "p = re.compile(r\"([a-zA-Zㄱ-ㅎ-가-힣]+)\\s(01[016]\\D*\\d{3,4}\\D*\\d{4})\")\n",
    "a = p.sub(r\"\\g<2> \\g<1>\", data)\n",
    "print(a)"
   ]
  },
  {
   "cell_type": "code",
   "execution_count": 23,
   "id": "fee12bd1-5744-468e-8b49-fe442897b744",
   "metadata": {},
   "outputs": [],
   "source": [
    "a = \"111 ab ab 222\""
   ]
  },
  {
   "cell_type": "code",
   "execution_count": null,
   "id": "48b05550-f407-47f1-bd35-6072b2498f14",
   "metadata": {},
   "outputs": [],
   "source": [
    "p = re.compile(r\"(ab)\\s\\1\") # \\1 - (ab)"
   ]
  }
 ],
 "metadata": {
  "kernelspec": {
   "display_name": "Python 3 (ipykernel)",
   "language": "python",
   "name": "python3"
  },
  "language_info": {
   "codemirror_mode": {
    "name": "ipython",
    "version": 3
   },
   "file_extension": ".py",
   "mimetype": "text/x-python",
   "name": "python",
   "nbconvert_exporter": "python",
   "pygments_lexer": "ipython3",
   "version": "3.12.7"
  }
 },
 "nbformat": 4,
 "nbformat_minor": 5
}
