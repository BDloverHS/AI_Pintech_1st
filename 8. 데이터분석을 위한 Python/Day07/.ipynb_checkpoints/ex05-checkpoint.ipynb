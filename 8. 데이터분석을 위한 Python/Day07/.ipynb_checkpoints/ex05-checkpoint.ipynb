{
 "cells": [
  {
   "cell_type": "code",
   "execution_count": 1,
   "id": "bc3be52a-d7a4-4380-beb0-772d4789be98",
   "metadata": {},
   "outputs": [],
   "source": [
    "import re\n",
    "url = \"http://www.naver.com\""
   ]
  },
  {
   "cell_type": "code",
   "execution_count": 2,
   "id": "804894f2-924e-4e7e-8a3b-0bb8d7c84060",
   "metadata": {},
   "outputs": [
    {
     "data": {
      "text/plain": [
       "<re.Match object; span=(0, 7), match='http://'>"
      ]
     },
     "execution_count": 2,
     "metadata": {},
     "output_type": "execute_result"
    }
   ],
   "source": [
    "p = re.compile(r\"http[s]?://\")\n",
    "p.match(url)"
   ]
  },
  {
   "cell_type": "code",
   "execution_count": 3,
   "id": "4c0d219d-ebc6-42ef-99db-da5adeef1597",
   "metadata": {},
   "outputs": [
    {
     "data": {
      "text/plain": [
       "<re.Match object; span=(0, 4), match='http'>"
      ]
     },
     "execution_count": 3,
     "metadata": {},
     "output_type": "execute_result"
    }
   ],
   "source": [
    "p = re.compile(r\".+(?=://)\") # 전방 탐색. 패턴의 앞쪽을 확인\n",
    "p.match(url)"
   ]
  },
  {
   "cell_type": "code",
   "execution_count": 4,
   "id": "a991f145-df01-4fc3-8b33-68b728948074",
   "metadata": {},
   "outputs": [
    {
     "name": "stdout",
     "output_type": "stream",
     "text": [
      "https://www.naver.com\n"
     ]
    }
   ],
   "source": [
    "urls = [\"abc\", \"def\", \"https://www.naver.com\", \"ghi\"]\n",
    "for url in urls:\n",
    "    if p.match(url):\n",
    "        print(url)"
   ]
  },
  {
   "cell_type": "code",
   "execution_count": 6,
   "id": "b3ab8ed5-6c81-41da-acd4-717d5bc51d6a",
   "metadata": {},
   "outputs": [
    {
     "name": "stdout",
     "output_type": "stream",
     "text": [
      "abc\n",
      "def\n",
      "https://www.naver.com\n",
      "ghi\n"
     ]
    }
   ],
   "source": [
    "p = re.compile(r\".+(?!://)\") # 전방 부정 탐색. :// 패턴이 아닌 문구의 앞에 있는 패턴\n",
    "for url in urls:\n",
    "    if p.match(url):\n",
    "        print(url)"
   ]
  }
 ],
 "metadata": {
  "kernelspec": {
   "display_name": "Python 3 (ipykernel)",
   "language": "python",
   "name": "python3"
  },
  "language_info": {
   "codemirror_mode": {
    "name": "ipython",
    "version": 3
   },
   "file_extension": ".py",
   "mimetype": "text/x-python",
   "name": "python",
   "nbconvert_exporter": "python",
   "pygments_lexer": "ipython3",
   "version": "3.12.7"
  }
 },
 "nbformat": 4,
 "nbformat_minor": 5
}
