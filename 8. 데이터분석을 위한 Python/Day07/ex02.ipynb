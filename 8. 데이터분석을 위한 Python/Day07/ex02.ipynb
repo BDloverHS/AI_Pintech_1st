{
 "cells": [
  {
   "cell_type": "code",
   "execution_count": 6,
   "id": "b18f9b74-8689-4197-80f2-199c26bb809c",
   "metadata": {},
   "outputs": [],
   "source": [
    "import re"
   ]
  },
  {
   "cell_type": "code",
   "execution_count": 2,
   "id": "d33d8335-284f-4d8d-8805-ac4b953c8cc9",
   "metadata": {},
   "outputs": [
    {
     "data": {
      "text/plain": [
       "<re.Match object; span=(6, 11), match='melon'>"
      ]
     },
     "execution_count": 2,
     "metadata": {},
     "output_type": "execute_result"
    }
   ],
   "source": [
    "p = re.compile(\"apple|orange|melon\") # apple 또는 orange 또는 melon\n",
    "p.search(\"three oranges\")\n",
    "p.search(\"three melon\")"
   ]
  },
  {
   "cell_type": "code",
   "execution_count": 5,
   "id": "98f625c1-7bff-4a7c-80a8-e73d50bbc047",
   "metadata": {},
   "outputs": [
    {
     "data": {
      "text/plain": [
       "<re.Match object; span=(0, 13), match='010-1000-1000'>"
      ]
     },
     "execution_count": 5,
     "metadata": {},
     "output_type": "execute_result"
    }
   ],
   "source": [
    "p = re.compile(r\"01[016]\\D*\\d{3,4}\\D*\\d{4}$\") # 01로 반드시 시작, 숫자 4자리로 반드시 끝나는 패턴\n",
    "# 010.1000.1000 / 010-1000-1000 등 숫자 사이에 무엇이 오든 상관 x 단, 숫자의 자릿수는 맞아야 함.\n",
    "p.search(\"010-1000-1000\")"
   ]
  },
  {
   "cell_type": "code",
   "execution_count": 15,
   "id": "77ccfd83-752b-41d5-b623-098a743066d5",
   "metadata": {},
   "outputs": [
    {
     "data": {
      "text/plain": [
       "<re.Match object; span=(0, 5), match='class'>"
      ]
     },
     "execution_count": 15,
     "metadata": {},
     "output_type": "execute_result"
    }
   ],
   "source": [
    "p = re.compile(r\"\\bclass\\b\") # class 단어 \\b는 class 단어의 경계션\n",
    "p.search(\"my class is over 6pm\")\n",
    "p.search(\"class is over 6pm\")"
   ]
  },
  {
   "cell_type": "code",
   "execution_count": 17,
   "id": "f84db9db-e178-4d29-87b1-2795b26c4f3a",
   "metadata": {},
   "outputs": [
    {
     "data": {
      "text/plain": [
       "<re.Match object; span=(6, 11), match='class'>"
      ]
     },
     "execution_count": 17,
     "metadata": {},
     "output_type": "execute_result"
    }
   ],
   "source": [
    "p = re.compile(r\"\\Bclass\\b\")\n",
    "p.search(\"my subclass is over 6pm\")"
   ]
  },
  {
   "cell_type": "code",
   "execution_count": 18,
   "id": "915e0051-4e6c-4690-8a7f-fd53036eb349",
   "metadata": {},
   "outputs": [
    {
     "data": {
      "text/plain": [
       "<re.Match object; span=(0, 6), match='ABCABC'>"
      ]
     },
     "execution_count": 18,
     "metadata": {},
     "output_type": "execute_result"
    }
   ],
   "source": [
    "p = re.compile(\"(ABC){2}\") # ABC 패턴이 2번 반복되는지 체크\n",
    "p.search(\"ABCABCABC\")"
   ]
  }
 ],
 "metadata": {
  "kernelspec": {
   "display_name": "Python 3 (ipykernel)",
   "language": "python",
   "name": "python3"
  },
  "language_info": {
   "codemirror_mode": {
    "name": "ipython",
    "version": 3
   },
   "file_extension": ".py",
   "mimetype": "text/x-python",
   "name": "python",
   "nbconvert_exporter": "python",
   "pygments_lexer": "ipython3",
   "version": "3.12.7"
  }
 },
 "nbformat": 4,
 "nbformat_minor": 5
}
