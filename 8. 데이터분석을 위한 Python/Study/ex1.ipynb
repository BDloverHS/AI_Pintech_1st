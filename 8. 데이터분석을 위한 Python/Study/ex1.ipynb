{
 "cells": [
  {
   "cell_type": "code",
   "execution_count": 8,
   "id": "243c6476-3194-4c22-8ac1-8b04e3fe6b6d",
   "metadata": {},
   "outputs": [
    {
     "name": "stdout",
     "output_type": "stream",
     "text": [
      "True\n",
      "False\n"
     ]
    }
   ],
   "source": [
    "def is_odd(number):\n",
    "    if number % 2 == 1:\n",
    "        return True\n",
    "    else:\n",
    "        return False\n",
    "\n",
    "print(is_odd(1))\n",
    "print(is_odd(2))"
   ]
  },
  {
   "cell_type": "code",
   "execution_count": 9,
   "id": "9ba634df-3afb-4949-9bd6-7c5a24c7cc97",
   "metadata": {},
   "outputs": [
    {
     "name": "stdout",
     "output_type": "stream",
     "text": [
      "1.5\n",
      "3.0\n"
     ]
    }
   ],
   "source": [
    "def avg_numbers(*args):\n",
    "    result = 0\n",
    "    for i in args:\n",
    "        result += i\n",
    "    return result / len(args)\n",
    "\n",
    "print(avg_numbers(1,2))\n",
    "print(avg_numbers(1,2,3,4,5))"
   ]
  },
  {
   "cell_type": "code",
   "execution_count": 10,
   "id": "f8d4eb98-15ee-47f7-b889-cc4f3c8842df",
   "metadata": {},
   "outputs": [
    {
     "name": "stdin",
     "output_type": "stream",
     "text": [
      "첫번째 숫자를 입력하세요 1212\n",
      "두번째 숫자를 입력하세요 2121\n"
     ]
    },
    {
     "name": "stdout",
     "output_type": "stream",
     "text": [
      "두 수의 합은 3333입니다.\n"
     ]
    }
   ],
   "source": [
    "input1 = input(\"첫번째 숫자를 입력하세요\")\n",
    "input2 = input(\"두번째 숫자를 입력하세요\")\n",
    "\n",
    "total = int(input1) + int(input2)\n",
    "print(\"두 수의 합은 %s입니다.\" % total)"
   ]
  },
  {
   "cell_type": "code",
   "execution_count": 11,
   "id": "d15a980d-cc9f-4e37-9f4a-3d6c03d0ceb6",
   "metadata": {},
   "outputs": [
    {
     "name": "stdout",
     "output_type": "stream",
     "text": [
      "Life is too short\n"
     ]
    }
   ],
   "source": [
    "f1 = open(\"test.txt\", \"w\")\n",
    "f1.write(\"Life is too short\")\n",
    "f1.close()\n",
    "\n",
    "f2 = open(\"test.txt\", \"r\")\n",
    "print(f2.read())\n",
    "f2.close()"
   ]
  },
  {
   "cell_type": "code",
   "execution_count": 13,
   "id": "be2d650b-2f58-4e09-a9c0-234eac6e56c9",
   "metadata": {},
   "outputs": [
    {
     "name": "stdin",
     "output_type": "stream",
     "text": [
      "저장할 내용을 입력하세요 :  ㅁㅁㅁㅁ\n"
     ]
    }
   ],
   "source": [
    "user_input = input(\"저장할 내용을 입력하세요 : \")\n",
    "f = open('test.txt', 'a')\n",
    "f.write(user_input)\n",
    "f.write(\"\\n\")\n",
    "f.close()"
   ]
  },
  {
   "cell_type": "code",
   "execution_count": 14,
   "id": "a9e67e80-9b1e-4ed1-b453-a72f2ae13458",
   "metadata": {},
   "outputs": [],
   "source": [
    "f = open('test.txt','r')\n",
    "body = f.read()\n",
    "f.close()\n",
    "body = body.replace('java', 'python')\n",
    "f = open('test.txt','w')\n",
    "f.write(body)\n",
    "f.close()"
   ]
  },
  {
   "cell_type": "code",
   "execution_count": 15,
   "id": "b80c2793-8da4-4215-9611-c11cc40b650d",
   "metadata": {},
   "outputs": [],
   "source": [
    "# 188p 8번 문제 파이썬 파일 코드는 myargv.py는 확인"
   ]
  },
  {
   "cell_type": "code",
   "execution_count": 16,
   "id": "cc113401-af9d-4114-ac9b-261722feacf2",
   "metadata": {},
   "outputs": [],
   "source": [
    "class Calculator:\n",
    "    def __init__(self):\n",
    "        self.value = 0\n",
    "\n",
    "    def add(self, val):\n",
    "        self.value += val\n",
    "\n",
    "class UpgradeCalculator(Calculator):\n",
    "     def minus(self, val):\n",
    "        self.value -= val"
   ]
  },
  {
   "cell_type": "code",
   "execution_count": 17,
   "id": "ab732778-8767-4d81-8721-7da5c343f243",
   "metadata": {},
   "outputs": [
    {
     "name": "stdout",
     "output_type": "stream",
     "text": [
      "5\n"
     ]
    }
   ],
   "source": [
    "cal = UpgradeCalculator()\n",
    "cal.add(10)\n",
    "cal.minus(7)\n",
    "cal.add(6)\n",
    "cal.minus(4)\n",
    "\n",
    "# 0 + 10 - 7 + 6 - 4 = 5\n",
    "\n",
    "print(cal.value)"
   ]
  },
  {
   "cell_type": "code",
   "execution_count": 26,
   "id": "8b788a3c-8451-4acd-8451-0076548625dc",
   "metadata": {},
   "outputs": [],
   "source": [
    "class Calculator:\n",
    "    def __init__(self):\n",
    "        self.value = 0\n",
    "    def add(self, val):\n",
    "        self.value += val\n",
    "\n",
    "class MaxLimitCalculator(Calculator):\n",
    "    # add 재정의\n",
    "    def add(self, val):\n",
    "        self.value += val\n",
    "        if self.value > 100:\n",
    "            self.value = 100"
   ]
  },
  {
   "cell_type": "code",
   "execution_count": 25,
   "id": "e92dbc9e-143a-4cc0-9687-b0e34531a514",
   "metadata": {},
   "outputs": [
    {
     "name": "stdout",
     "output_type": "stream",
     "text": [
      "100\n"
     ]
    }
   ],
   "source": [
    "cal = MaxLimitCalculator()\n",
    "cal.add(50)\n",
    "cal.add(60)\n",
    "\n",
    "print(cal.value)"
   ]
  },
  {
   "cell_type": "code",
   "execution_count": 20,
   "id": "7b04852d-f5a7-4b1a-9e78-7fbe4c53787f",
   "metadata": {},
   "outputs": [
    {
     "name": "stdout",
     "output_type": "stream",
     "text": [
      "[1, 3, 8, 0]\n"
     ]
    }
   ],
   "source": [
    "nums = [1, -2, 3, -5, 8, -3, 0]\n",
    "postive = list(filter(lambda x:x>=0, nums))\n",
    "print(postive)"
   ]
  },
  {
   "cell_type": "code",
   "execution_count": 21,
   "id": "6c6e66c4-0270-47a3-acbb-313512f969e5",
   "metadata": {},
   "outputs": [
    {
     "name": "stdout",
     "output_type": "stream",
     "text": [
      "[2, 4, 6, 8, 10]\n"
     ]
    }
   ],
   "source": [
    "nums = [1,2,3,4,5,6,7,8,9,10]\n",
    "even = list(filter(lambda x:x%2 ==0, nums))\n",
    "print(even)"
   ]
  },
  {
   "cell_type": "code",
   "execution_count": 28,
   "id": "9fbdd706-6458-4755-aa67-e5b542f75e00",
   "metadata": {},
   "outputs": [
    {
     "name": "stdout",
     "output_type": "stream",
     "text": [
      "[3, 6, 9, 12]\n"
     ]
    }
   ],
   "source": [
    "nums = [1,2,3,4]\n",
    "threeNums = list(map(lambda x:x*3, nums))\n",
    "print(threeNums)"
   ]
  },
  {
   "cell_type": "code",
   "execution_count": 29,
   "id": "d91d07f6-fbad-4d8a-a0a8-a7e48f76243d",
   "metadata": {},
   "outputs": [
    {
     "name": "stdout",
     "output_type": "stream",
     "text": [
      "-1\n"
     ]
    }
   ],
   "source": [
    "flist = [-8,2,7,5,-3,5,0,1]\n",
    "a = max(flist)\n",
    "b = min(flist)\n",
    "print(a+b)"
   ]
  },
  {
   "cell_type": "code",
   "execution_count": 42,
   "id": "c8317326-fd43-4db8-8e9f-dea399927a6d",
   "metadata": {},
   "outputs": [
    {
     "name": "stdout",
     "output_type": "stream",
     "text": [
      "[1, 2, 3, 4, 5, 6, 7, 8, 9, 10, 11, 12, 13, 14, 15, 16, 17, 18, 19, 20, 21, 22, 23, 24, 25, 26, 27, 28, 29, 30, 31, 32, 33, 34, 35, 36, 37, 38, 39, 40, 41, 42, 43, 44, 45]\n"
     ]
    }
   ],
   "source": [
    "import random\n",
    "\n",
    "numbers = random.sample(range(1, 46), 45)\n",
    "numbers.sort()\n",
    "\n",
    "print(numbers)"
   ]
  },
  {
   "cell_type": "code",
   "execution_count": null,
   "id": "1d3e41cb-b666-4d67-b0c7-df558be3a152",
   "metadata": {},
   "outputs": [],
   "source": [
    "abcd = ['a','b','c','d']"
   ]
  },
  {
   "cell_type": "code",
   "execution_count": 1,
   "id": "de8c3829-3773-4b0b-9688-aea52395b743",
   "metadata": {},
   "outputs": [
    {
     "data": {
      "text/plain": [
       "5.6667"
      ]
     },
     "execution_count": 1,
     "metadata": {},
     "output_type": "execute_result"
    }
   ],
   "source": [
    "round(17 / 3, 4)"
   ]
  },
  {
   "cell_type": "code",
   "execution_count": 2,
   "id": "b72df36d-5fbf-43f7-a7cb-ad72e61da845",
   "metadata": {},
   "outputs": [
    {
     "name": "stdout",
     "output_type": "stream",
     "text": [
      "a#b#c#d\n"
     ]
    }
   ],
   "source": [
    "print('a:b:c:d'.replace(\":\",\"#\"))"
   ]
  },
  {
   "cell_type": "code",
   "execution_count": 9,
   "id": "106dc684-2a01-44f4-b966-0a2407bf7a15",
   "metadata": {},
   "outputs": [
    {
     "name": "stdout",
     "output_type": "stream",
     "text": [
      "[0, 1, 1, 2, 3, 5, 8, 13, 21, 34]\n"
     ]
    }
   ],
   "source": [
    "def fibo(n):\n",
    "    result = [0, 1]\n",
    "    m = 2\n",
    "    while True:\n",
    "        result.append(result[m-2]+result[m-1])\n",
    "        if len(result) ==  n:\n",
    "            break\n",
    "        m += 1\n",
    "    print(result)\n",
    "\n",
    "fibo(10)"
   ]
  },
  {
   "cell_type": "code",
   "execution_count": 10,
   "id": "576a652c-d641-4443-99c0-0cb52fbfadb4",
   "metadata": {},
   "outputs": [
    {
     "name": "stdout",
     "output_type": "stream",
     "text": [
      "{'A': 90, 'B': 80, 'C': 70}\n"
     ]
    }
   ],
   "source": [
    "a = {'A':90, 'B':80}\n",
    "a['C'] = 70\n",
    "\n",
    "print(a)"
   ]
  },
  {
   "cell_type": "code",
   "execution_count": 14,
   "id": "f1791487-84f6-4141-8141-0b5fd9b983e5",
   "metadata": {},
   "outputs": [
    {
     "name": "stdout",
     "output_type": "stream",
     "text": [
      "기존 a의 주소 :  2774515958080\n",
      "바뀐 a의 주소 :  2774498037824\n",
      "기존 b의 주소 :  2774516029056\n",
      "바뀐 b의 주소 :  2774516029056\n"
     ]
    }
   ],
   "source": [
    "a = [1,2,3]\n",
    "print(\"기존 a의 주소 : \",id(a))\n",
    "a = a + [4, 5]\n",
    "print(\"바뀐 a의 주소 : \",id(a))\n",
    "\n",
    "b = [1,2,3]\n",
    "print(\"기존 b의 주소 : \",id(b))\n",
    "b.extend([4,5])\n",
    "print(\"바뀐 b의 주소 : \",id(b))"
   ]
  },
  {
   "cell_type": "code",
   "execution_count": 18,
   "id": "51fdf366-8c01-4970-9d7c-c4e2d119ccfd",
   "metadata": {},
   "outputs": [
    {
     "name": "stdout",
     "output_type": "stream",
     "text": [
      "481\n"
     ]
    }
   ],
   "source": [
    "A = [20,55,67,82,45,33,90,87,100,25]\n",
    "\n",
    "total = 0\n",
    "\n",
    "for n in range(0, len(A)):\n",
    "    if A[n] >= 50:\n",
    "        total += A[n]\n",
    "\n",
    "print(total)"
   ]
  },
  {
   "cell_type": "code",
   "execution_count": 20,
   "id": "0dc0d3be-6d1a-410c-8c56-1c40c6e042bb",
   "metadata": {},
   "outputs": [
    {
     "name": "stdin",
     "output_type": "stream",
     "text": [
      "구구단을 출력할 숫자를 입력하세요(2~9) 8\n"
     ]
    },
    {
     "name": "stdout",
     "output_type": "stream",
     "text": [
      "8 16 24 32 40 48 56 64 72 "
     ]
    }
   ],
   "source": [
    "num = int(input(\"구구단을 출력할 숫자를 입력하세요(2~9)\"))\n",
    "\n",
    "for i in range(1, 10):\n",
    "    print(num * i, end=' ')"
   ]
  },
  {
   "cell_type": "code",
   "execution_count": 21,
   "id": "785b9e0a-696b-4189-a298-df3101aa728a",
   "metadata": {},
   "outputs": [
    {
     "ename": "NameError",
     "evalue": "name 'argv' is not defined",
     "output_type": "error",
     "traceback": [
      "\u001b[1;31m---------------------------------------------------------------------------\u001b[0m",
      "\u001b[1;31mNameError\u001b[0m                                 Traceback (most recent call last)",
      "Cell \u001b[1;32mIn[21], line 1\u001b[0m\n\u001b[1;32m----> 1\u001b[0m \u001b[38;5;28;01mclass\u001b[39;00m \u001b[38;5;21;01mCalculator\u001b[39;00m(\u001b[38;5;241m*\u001b[39margv):\n\u001b[0;32m      2\u001b[0m     \u001b[38;5;28;01mdef\u001b[39;00m \u001b[38;5;21m__init__\u001b[39m(\u001b[38;5;28mself\u001b[39m):\n\u001b[0;32m      3\u001b[0m         \u001b[38;5;28mself\u001b[39m\u001b[38;5;241m.\u001b[39mvalue \u001b[38;5;241m=\u001b[39m \u001b[38;5;241m0\u001b[39m\n",
      "\u001b[1;31mNameError\u001b[0m: name 'argv' is not defined"
     ]
    }
   ],
   "source": [
    "class Calculator(*argv):\n",
    "    def __init__(self):\n",
    "        self.value = 0\n",
    "    def add(self, val):\n",
    "        self.value += val\n",
    "    def avg(self, val):\n",
    "        self.value += val\n",
    "        avg = self.value / len(argv)"
   ]
  }
 ],
 "metadata": {
  "kernelspec": {
   "display_name": "Python 3 (ipykernel)",
   "language": "python",
   "name": "python3"
  },
  "language_info": {
   "codemirror_mode": {
    "name": "ipython",
    "version": 3
   },
   "file_extension": ".py",
   "mimetype": "text/x-python",
   "name": "python",
   "nbconvert_exporter": "python",
   "pygments_lexer": "ipython3",
   "version": "3.12.7"
  }
 },
 "nbformat": 4,
 "nbformat_minor": 5
}
