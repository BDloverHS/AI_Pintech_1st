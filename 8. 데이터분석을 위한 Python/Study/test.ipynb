{
 "cells": [
  {
   "cell_type": "code",
   "execution_count": 2,
   "id": "60147474-352c-431b-a525-334effae8e80",
   "metadata": {},
   "outputs": [
    {
     "name": "stdout",
     "output_type": "stream",
     "text": [
      "70.0\n"
     ]
    }
   ],
   "source": [
    "score = {'국어':80, '영어':75, '수학':55}\n",
    "\n",
    "total = score['국어'] + score['영어'] + score['수학']\n",
    "\n",
    "print(total / len(score))"
   ]
  },
  {
   "cell_type": "code",
   "execution_count": 3,
   "id": "1bcf75b8-d5af-49af-8882-38a6b903442d",
   "metadata": {},
   "outputs": [
    {
     "name": "stdout",
     "output_type": "stream",
     "text": [
      "홀수\n"
     ]
    }
   ],
   "source": [
    "num = 13\n",
    "\n",
    "if num % 2 == 0:\n",
    "    print(\"짝수\")\n",
    "else:\n",
    "    print(\"홀수\")"
   ]
  },
  {
   "cell_type": "code",
   "execution_count": 6,
   "id": "96107081-8213-44f7-af8c-be6eb7205fb1",
   "metadata": {},
   "outputs": [
    {
     "name": "stdout",
     "output_type": "stream",
     "text": [
      "881120\n",
      "1068234\n"
     ]
    }
   ],
   "source": [
    "pin = \"881120-1068234\"\n",
    "yyyymmdd = pin[:6]\n",
    "num = pin[-7:]\n",
    "print(yyyymmdd)\n",
    "print(num)"
   ]
  },
  {
   "cell_type": "code",
   "execution_count": 9,
   "id": "3a1475ce-d207-4bdd-a1f9-a57c76cb74cc",
   "metadata": {},
   "outputs": [
    {
     "name": "stdout",
     "output_type": "stream",
     "text": [
      "1\n"
     ]
    }
   ],
   "source": [
    "pin = \"881120-1068234\"\n",
    "print(pin[7])"
   ]
  },
  {
   "cell_type": "code",
   "execution_count": 10,
   "id": "b79f0bd8-2b31-4747-a61b-dc5c5a934a99",
   "metadata": {},
   "outputs": [
    {
     "name": "stdout",
     "output_type": "stream",
     "text": [
      "a#b#c#d\n"
     ]
    }
   ],
   "source": [
    "a = \"a:b:c:d\"\n",
    "b = a.replace(\":\",\"#\")\n",
    "print(b)"
   ]
  },
  {
   "cell_type": "code",
   "execution_count": 11,
   "id": "a9d55e3b-adca-40f9-9615-ab06236b2006",
   "metadata": {},
   "outputs": [
    {
     "name": "stdout",
     "output_type": "stream",
     "text": [
      "[5, 4, 3, 2, 1]\n"
     ]
    }
   ],
   "source": [
    "a = [1,3,5,4,2]\n",
    "a.sort()\n",
    "a.reverse()\n",
    "print(a)"
   ]
  },
  {
   "cell_type": "code",
   "execution_count": 12,
   "id": "6220ac27-63d2-4821-ab9a-11daa9c410cc",
   "metadata": {},
   "outputs": [
    {
     "name": "stdout",
     "output_type": "stream",
     "text": [
      "Life is too short\n"
     ]
    }
   ],
   "source": [
    "a = ['Life', 'is', 'too', 'short']\n",
    "result = ' '.join(a)\n",
    "print(result)"
   ]
  },
  {
   "cell_type": "code",
   "execution_count": 13,
   "id": "96b317e3-46df-4361-8c09-623a6ffcf00b",
   "metadata": {},
   "outputs": [
    {
     "name": "stdout",
     "output_type": "stream",
     "text": [
      "(1, 2, 3, 4)\n"
     ]
    }
   ],
   "source": [
    "a = (1,2,3)\n",
    "a = a + (4,)\n",
    "print(a)"
   ]
  },
  {
   "cell_type": "code",
   "execution_count": 1,
   "id": "6d96b403-a0ac-4b12-bd3c-0156ad2091b0",
   "metadata": {},
   "outputs": [
    {
     "data": {
      "text/plain": [
       "{}"
      ]
     },
     "execution_count": 1,
     "metadata": {},
     "output_type": "execute_result"
    }
   ],
   "source": [
    "a = dict()\n",
    "a\n",
    "# 다음 중 오류가 나는 코드와 그 이유는?\n",
    "# 1. a['name'] = 'python'\n",
    "# 2. a[('a',)] = 'python'\n",
    "# 3. a[[1]] = 'python'\n",
    "# 4. a[250] = 'python'\n",
    "\n",
    "# 정답은 3. a[[1]]이다. 딕셔너리으 key 는 변경이 불가능하지만, 리스트는 변경이 가능한 자료형이기 때문에 key 값으로 적절하지 않다."
   ]
  },
  {
   "cell_type": "code",
   "execution_count": 2,
   "id": "ad71e348-a9c0-4231-a78f-eb4be41b45d1",
   "metadata": {},
   "outputs": [
    {
     "name": "stdout",
     "output_type": "stream",
     "text": [
      "{'A': 90, 'C': 70}\n",
      "80\n"
     ]
    }
   ],
   "source": [
    "a = {'A':90, 'B':80, 'C':70}\n",
    "result = a.pop('B')\n",
    "print(a)\n",
    "print(result)"
   ]
  },
  {
   "cell_type": "code",
   "execution_count": 3,
   "id": "632222df-6cfa-44ce-9100-ebf6c42e9c95",
   "metadata": {},
   "outputs": [
    {
     "name": "stdout",
     "output_type": "stream",
     "text": [
      "[1, 2, 3, 4, 5]\n"
     ]
    }
   ],
   "source": [
    "a = [1,1,1,2,2,3,3,3,4,4,5]\n",
    "aSet = set(a)\n",
    "b = list(aSet)\n",
    "print(b)"
   ]
  },
  {
   "cell_type": "code",
   "execution_count": 5,
   "id": "050e6639-0986-45fa-aead-d4cecbaef11e",
   "metadata": {},
   "outputs": [
    {
     "name": "stdout",
     "output_type": "stream",
     "text": [
      "[1, 4, 3]\n"
     ]
    }
   ],
   "source": [
    "a = b = [1,2,3]\n",
    "a[1] = 4\n",
    "print(b)\n",
    "\n",
    "# print(b)의 결과가 저렇게 나타나는 이유.\n",
    "# a와 b는 같은 주소의 데이터를 참조하고 있다. 때문에 a의 값을 변경한다면 같은 주소를 참조하고 있는 b의 값도 변경되는 것이다."
   ]
  },
  {
   "cell_type": "code",
   "execution_count": 21,
   "id": "93a7f50b-dd5e-426a-8eec-595163560120",
   "metadata": {},
   "outputs": [
    {
     "name": "stdout",
     "output_type": "stream",
     "text": [
      "166833\n"
     ]
    }
   ],
   "source": [
    "result = 0\n",
    "i = 1\n",
    "while i <= 1000:\n",
    "    if i % 3 == 0:\n",
    "        result += i\n",
    "    i += 1\n",
    "\n",
    "print(result)"
   ]
  },
  {
   "cell_type": "code",
   "execution_count": 22,
   "id": "077f4d2f-d0b9-45dc-9026-73593aca7912",
   "metadata": {},
   "outputs": [
    {
     "name": "stdout",
     "output_type": "stream",
     "text": [
      "*\n",
      "**\n",
      "***\n",
      "****\n",
      "*****\n"
     ]
    }
   ],
   "source": [
    "i = 0\n",
    "while True:\n",
    "    i += 1\n",
    "    if i > 5: break\n",
    "    print(\"*\" * i)"
   ]
  },
  {
   "cell_type": "code",
   "execution_count": 23,
   "id": "e9b5a6cb-5fce-4059-910a-d81073f88b61",
   "metadata": {},
   "outputs": [
    {
     "name": "stdout",
     "output_type": "stream",
     "text": [
      "1\n",
      "2\n",
      "3\n",
      "4\n",
      "5\n",
      "6\n",
      "7\n",
      "8\n",
      "9\n",
      "10\n",
      "11\n",
      "12\n",
      "13\n",
      "14\n",
      "15\n",
      "16\n",
      "17\n",
      "18\n",
      "19\n",
      "20\n",
      "21\n",
      "22\n",
      "23\n",
      "24\n",
      "25\n",
      "26\n",
      "27\n",
      "28\n",
      "29\n",
      "30\n",
      "31\n",
      "32\n",
      "33\n",
      "34\n",
      "35\n",
      "36\n",
      "37\n",
      "38\n",
      "39\n",
      "40\n",
      "41\n",
      "42\n",
      "43\n",
      "44\n",
      "45\n",
      "46\n",
      "47\n",
      "48\n",
      "49\n",
      "50\n",
      "51\n",
      "52\n",
      "53\n",
      "54\n",
      "55\n",
      "56\n",
      "57\n",
      "58\n",
      "59\n",
      "60\n",
      "61\n",
      "62\n",
      "63\n",
      "64\n",
      "65\n",
      "66\n",
      "67\n",
      "68\n",
      "69\n",
      "70\n",
      "71\n",
      "72\n",
      "73\n",
      "74\n",
      "75\n",
      "76\n",
      "77\n",
      "78\n",
      "79\n",
      "80\n",
      "81\n",
      "82\n",
      "83\n",
      "84\n",
      "85\n",
      "86\n",
      "87\n",
      "88\n",
      "89\n",
      "90\n",
      "91\n",
      "92\n",
      "93\n",
      "94\n",
      "95\n",
      "96\n",
      "97\n",
      "98\n",
      "99\n",
      "100\n"
     ]
    }
   ],
   "source": [
    "for i in range(1,101):\n",
    "    print(i)"
   ]
  },
  {
   "cell_type": "code",
   "execution_count": 27,
   "id": "e515fd35-69cf-43b6-aa93-95da9221cf6b",
   "metadata": {},
   "outputs": [
    {
     "name": "stdout",
     "output_type": "stream",
     "text": [
      "79.0\n"
     ]
    }
   ],
   "source": [
    "A = [70,60,55,75,95,90,80,80,85,100]\n",
    "total = 0\n",
    "for score in A:\n",
    "    total += score\n",
    "average = total / len(A)\n",
    "print(average)"
   ]
  },
  {
   "cell_type": "code",
   "execution_count": 40,
   "id": "b1ffa0b5-4ea1-4295-a562-15113cce2aed",
   "metadata": {},
   "outputs": [
    {
     "name": "stdout",
     "output_type": "stream",
     "text": [
      "[2, 6, 10]\n"
     ]
    }
   ],
   "source": [
    "numbers = [1,2,3,4,5]\n",
    "result = [x*2 for x in numbers if x % 2 == 1]\n",
    "print(result)"
   ]
  },
  {
   "cell_type": "code",
   "execution_count": 6,
   "id": "3a25a809-8e78-4844-8e74-d2bfcb814d15",
   "metadata": {},
   "outputs": [],
   "source": [
    "def is_odd(number):\n",
    "    if number % 2 == 1:\n",
    "        return True\n",
    "    else:\n",
    "        return False"
   ]
  },
  {
   "cell_type": "code",
   "execution_count": 11,
   "id": "f21c1958-fab5-4cf4-87b3-4bd604278120",
   "metadata": {},
   "outputs": [
    {
     "name": "stdout",
     "output_type": "stream",
     "text": [
      "1.5\n",
      "3.0\n"
     ]
    }
   ],
   "source": [
    "def avg_numbers(*args):\n",
    "    result = 0\n",
    "    for i in args:\n",
    "        result += i\n",
    "    return result / len(args)\n",
    "\n",
    "print(avg_numbers(1,2))\n",
    "print(avg_numbers(1,2,3,4,5))"
   ]
  },
  {
   "cell_type": "code",
   "execution_count": 14,
   "id": "b0329fc8-81e7-46c2-9bdd-3c72629cce13",
   "metadata": {},
   "outputs": [
    {
     "name": "stdin",
     "output_type": "stream",
     "text": [
      "첫번째 숫자를 입력하세요. :  3\n",
      "두번째 숫자를 입력하세요. :  6\n"
     ]
    },
    {
     "name": "stdout",
     "output_type": "stream",
     "text": [
      "두 수의 합은 9입니다.\n"
     ]
    }
   ],
   "source": [
    "input1 = input(\"첫번째 숫자를 입력하세요. : \")\n",
    "input2 = input(\"두번째 숫자를 입력하세요. : \")\n",
    "\n",
    "# total = input1 + input2 -> 오류 코드()\n",
    "# 오류를 고치면?\n",
    "total = int(input1) + int(input2)\n",
    "print(\"두 수의 합은 %s입니다.\" % total)"
   ]
  },
  {
   "cell_type": "code",
   "execution_count": 16,
   "id": "36e864cb-6f38-49f3-a041-64a0786acc95",
   "metadata": {},
   "outputs": [
    {
     "name": "stdout",
     "output_type": "stream",
     "text": [
      "youneedpython\n",
      "youneedpython\n",
      "you need python\n",
      "youneedpython\n"
     ]
    }
   ],
   "source": [
    "# 다음 중 출력 결과가 다른 것은?\n",
    "#\n",
    "# 1. print(\"you\" \"need\" \"python\")\n",
    "# 2. print(\"you\" + \"need\" + \"python\")\n",
    "# 3. print(\"you\", \"need\", \"python\")\n",
    "# 4. print(\"\".join([\"you\", \"need\", \"python\"]))\n",
    "#\n",
    "# 정답은 3번. 문자열을 , 로 연결한다면 띄어쓰기가 적용되기 때문이다.\n",
    "\n",
    "print(\"you\" \"need\" \"python\")\n",
    "print(\"you\" + \"need\" + \"python\")\n",
    "print(\"you\", \"need\", \"python\")\n",
    "print(\"\".join([\"you\", \"need\", \"python\"]))"
   ]
  },
  {
   "cell_type": "code",
   "execution_count": 4,
   "id": "382ce71a-ee84-480f-8998-53ae1d0c3e36",
   "metadata": {},
   "outputs": [
    {
     "name": "stdout",
     "output_type": "stream",
     "text": [
      "Life is too short\n"
     ]
    }
   ],
   "source": [
    "f1 = open(\"test1.txt\", 'w')\n",
    "f1.write(\"Life is too short\")\n",
    "\n",
    "f2 = open(\"test1.txt\", 'r')\n",
    "print(f2.read())\n",
    "f2.close()"
   ]
  },
  {
   "cell_type": "code",
   "execution_count": 5,
   "id": "2a1c7ee6-d95f-48a5-94b0-a89823dec562",
   "metadata": {},
   "outputs": [
    {
     "name": "stdin",
     "output_type": "stream",
     "text": [
      "저장할 내용을 입력하세요. :  이 내용을 추가하겠다\n"
     ]
    }
   ],
   "source": [
    "user_input = input(\"저장할 내용을 입력하세요. : \")\n",
    "f = open(\"test2.txt\", 'a')\n",
    "f.write(user_input)\n",
    "f.close()"
   ]
  },
  {
   "cell_type": "code",
   "execution_count": 7,
   "id": "860a2b52-2d30-43ca-866e-07d607679c5e",
   "metadata": {},
   "outputs": [],
   "source": [
    "f = open(\"test3.txt\" , 'r')\n",
    "body = f.read()\n",
    "f.close()\n",
    "body = body.replace(\"java\", \"python\")\n",
    "f = open(\"test3.txt\", 'w')\n",
    "f.write(body)\n",
    "f.close()"
   ]
  },
  {
   "cell_type": "code",
   "execution_count": 12,
   "id": "72bffa54-905d-4ffd-ad0f-3a71c45ecec2",
   "metadata": {},
   "outputs": [],
   "source": [
    "# myargv.py 파일에 들어가서 콘솔을 열고\n",
    "# python myargv.py 1 2 3 4 5 6 7 8 9 10"
   ]
  },
  {
   "cell_type": "code",
   "execution_count": 11,
   "id": "aef45235-97c5-4edf-b691-80fea7536e87",
   "metadata": {},
   "outputs": [
    {
     "name": "stdout",
     "output_type": "stream",
     "text": [
      "3\n"
     ]
    }
   ],
   "source": [
    "class Calculator:\n",
    "    def __init__(self):\n",
    "        self.value = 0\n",
    "    \n",
    "    def add(self,val):\n",
    "        self.value += val\n",
    "\n",
    "class UpgradeCalculator(Calculator):\n",
    "    def minus(self,val):\n",
    "        self.value -= val\n",
    "\n",
    "cal = UpgradeCalculator()\n",
    "cal.add(10)\n",
    "cal.minus(7)\n",
    "\n",
    "print(cal.value)"
   ]
  },
  {
   "cell_type": "code",
   "execution_count": 20,
   "id": "0922cfe4-9c85-44a6-bbad-dd6f74c85ec7",
   "metadata": {},
   "outputs": [
    {
     "name": "stdout",
     "output_type": "stream",
     "text": [
      "100\n"
     ]
    }
   ],
   "source": [
    "class Calculator:\n",
    "    def __init__(self):\n",
    "        self.value = 0\n",
    "    def add(self, val):\n",
    "        self.value += val\n",
    "\n",
    "class MaxLimitCalculator(Calculator):\n",
    "    def add(self, val):\n",
    "        self.value += val\n",
    "        if self.value > 100:\n",
    "            self.value = 100\n",
    "\n",
    "cal = MaxLimitCalculator()\n",
    "cal.add(50)\n",
    "cal.add(60)\n",
    "\n",
    "print(cal.value)"
   ]
  },
  {
   "cell_type": "code",
   "execution_count": 47,
   "id": "36128ec5-db1f-4fa4-9039-cfde0c6ac5c9",
   "metadata": {},
   "outputs": [
    {
     "data": {
      "text/plain": [
       "[1, 3, 8]"
      ]
     },
     "execution_count": 47,
     "metadata": {},
     "output_type": "execute_result"
    }
   ],
   "source": [
    "list(filter(lambda x:x>0, [1,-2,3,-5,8,-3]))"
   ]
  },
  {
   "cell_type": "code",
   "execution_count": 48,
   "id": "a7ce9764-6374-46b7-bf88-d76f09b89dcf",
   "metadata": {},
   "outputs": [
    {
     "data": {
      "text/plain": [
       "234"
      ]
     },
     "execution_count": 48,
     "metadata": {},
     "output_type": "execute_result"
    }
   ],
   "source": [
    "int('0xea', 16)"
   ]
  },
  {
   "cell_type": "code",
   "execution_count": 49,
   "id": "0fb3f8eb-c6f7-4fcc-b393-290b5ae36741",
   "metadata": {},
   "outputs": [
    {
     "data": {
      "text/plain": [
       "[3, 6, 9, 12]"
      ]
     },
     "execution_count": 49,
     "metadata": {},
     "output_type": "execute_result"
    }
   ],
   "source": [
    "list(map(lambda x:x*3, [1,2,3,4]))"
   ]
  },
  {
   "cell_type": "code",
   "execution_count": 50,
   "id": "8b09b26e-ebb7-4bd9-9c92-24c95245c6f7",
   "metadata": {},
   "outputs": [
    {
     "name": "stdout",
     "output_type": "stream",
     "text": [
      "-1\n"
     ]
    }
   ],
   "source": [
    "MaxMinList = [-8,2,7,5,-3,5,0,1]\n",
    "\n",
    "print(max(MaxMinList) + min(MaxMinList))"
   ]
  },
  {
   "cell_type": "code",
   "execution_count": 52,
   "id": "ec9d157e-9e8d-410e-bdee-534ee31bf9f2",
   "metadata": {},
   "outputs": [
    {
     "data": {
      "text/plain": [
       "5.6667"
      ]
     },
     "execution_count": 52,
     "metadata": {},
     "output_type": "execute_result"
    }
   ],
   "source": [
    "round(17/3, 4)"
   ]
  },
  {
   "cell_type": "code",
   "execution_count": 14,
   "id": "d0c31690-f48f-465e-82b6-f1a42253014d",
   "metadata": {},
   "outputs": [
    {
     "data": {
      "text/plain": [
       "'2024/11/25 12/28/37'"
      ]
     },
     "execution_count": 14,
     "metadata": {},
     "output_type": "execute_result"
    }
   ],
   "source": [
    "import time\n",
    "\n",
    "time.strftime(\"%Y/%m/%d %H/%M/%S\")"
   ]
  },
  {
   "cell_type": "code",
   "execution_count": 7,
   "id": "e28ef62a-7105-4ede-be7e-5ee4f757d4b6",
   "metadata": {},
   "outputs": [
    {
     "name": "stdout",
     "output_type": "stream",
     "text": [
      "[17, 18, 24, 28, 31, 37]\n"
     ]
    }
   ],
   "source": [
    "import random\n",
    "\n",
    "result = []\n",
    "\n",
    "while len(result) < 6:\n",
    "    rand = random.randint(1,45)\n",
    "    if rand not in result:\n",
    "        result.append(rand)\n",
    "\n",
    "result.sort()\n",
    "print(result)"
   ]
  },
  {
   "cell_type": "code",
   "execution_count": 57,
   "id": "416441c0-2999-4a82-837a-b1d7410f9166",
   "metadata": {},
   "outputs": [
    {
     "data": {
      "text/plain": [
       "1051"
      ]
     },
     "execution_count": 57,
     "metadata": {},
     "output_type": "execute_result"
    }
   ],
   "source": [
    "import datetime\n",
    "\n",
    "sister = datetime.date(1995,11,20)\n",
    "me = datetime.date(1998,10,6)\n",
    "\n",
    "(me - sister).days"
   ]
  },
  {
   "cell_type": "code",
   "execution_count": 8,
   "id": "75923b56-1d86-4f27-905d-f60c6743f472",
   "metadata": {},
   "outputs": [
    {
     "ename": "ValueError",
     "evalue": "invalid literal for int() with base 10: '-f'",
     "output_type": "error",
     "traceback": [
      "\u001b[1;31m---------------------------------------------------------------------------\u001b[0m",
      "\u001b[1;31mValueError\u001b[0m                                Traceback (most recent call last)",
      "Cell \u001b[1;32mIn[8], line 7\u001b[0m\n\u001b[0;32m      5\u001b[0m result \u001b[38;5;241m=\u001b[39m \u001b[38;5;241m0\u001b[39m\n\u001b[0;32m      6\u001b[0m \u001b[38;5;28;01mfor\u001b[39;00m number \u001b[38;5;129;01min\u001b[39;00m numbers :\n\u001b[1;32m----> 7\u001b[0m     result \u001b[38;5;241m+\u001b[39m\u001b[38;5;241m=\u001b[39m \u001b[38;5;28mint\u001b[39m(number)\n\u001b[0;32m      9\u001b[0m \u001b[38;5;28mprint\u001b[39m(result)\n",
      "\u001b[1;31mValueError\u001b[0m: invalid literal for int() with base 10: '-f'"
     ]
    }
   ],
   "source": []
  },
  {
   "cell_type": "code",
   "execution_count": 54,
   "id": "cfcdc3e3-b6d5-4fae-ad3b-d1ba3af52edb",
   "metadata": {},
   "outputs": [
    {
     "name": "stdout",
     "output_type": "stream",
     "text": [
      "('김예지', 13.31)\n",
      "('전정웅', 13.39)\n",
      "('박상현', 14.16)\n",
      "('김영순', 14.81)\n",
      "('한지영', 14.83)\n",
      "('박예원', 15, 34)\n",
      "('오지아', 15.13)\n",
      "('윤서현', 15.25)\n",
      "('김시우', 15.48)\n",
      "('송순자', 15.57)\n",
      "('주병철', 15.67)\n",
      "('문재호', 16.39)\n",
      "('김혜진', 16.63)\n",
      "('김영철', 16.7)\n",
      "('김옥순', 16.71)\n",
      "('윤지은', 16.93)\n",
      "('최보람', 17.14)\n",
      "('황민지', 17.65)\n",
      "('이성호', 17.7)\n",
      "('배숙자', 17.9)\n"
     ]
    }
   ],
   "source": [
    "import operator\n",
    "\n",
    "data = [('윤서현', 15.25),\n",
    "        ('김예지', 13.31),\n",
    "        ('박예원', 15,34),\n",
    "        ('송순자', 15.57),\n",
    "        ('김시우', 15.48),\n",
    "        ('배숙자', 17.9),\n",
    "        ('전정웅', 13.39),\n",
    "        ('김혜진', 16.63),\n",
    "        ('최보람', 17.14),\n",
    "        ('한지영', 14.83),\n",
    "        ('이성호', 17.7),\n",
    "        ('김옥순', 16.71),\n",
    "        ('황민지', 17.65),\n",
    "        ('김영철', 16.7),\n",
    "        ('주병철', 15.67),\n",
    "        ('박상현', 14.16),\n",
    "        ('김영순', 14.81),\n",
    "        ('오지아', 15.13),\n",
    "        ('윤지은', 16.93),\n",
    "        ('문재호', 16.39)]\n",
    "\n",
    "data = sorted(data, key=operator.itemgetter(1))\n",
    "for d in data:\n",
    "    print(d)"
   ]
  },
  {
   "cell_type": "code",
   "execution_count": 2,
   "id": "c015ea79-ebeb-472e-a86b-f5888c3ba7c4",
   "metadata": {},
   "outputs": [],
   "source": [
    "f1 = open(\"sample.txt\", 'r')\n",
    "lines=f1.readlines()\n",
    "f1.close()\n",
    "\n",
    "total = 0\n",
    "for line in lines:\n",
    "    score = int(line)\n",
    "    total += score\n",
    "average = total / len(lines)\n",
    "\n",
    "f2 = open(\"result.txt\", 'w')\n",
    "f2.write(str(average))\n",
    "f2.close()"
   ]
  },
  {
   "cell_type": "code",
   "execution_count": 10,
   "id": "667992d7-4234-4646-93a9-a9f7991a8688",
   "metadata": {},
   "outputs": [
    {
     "name": "stdout",
     "output_type": "stream",
     "text": [
      "[('나지혜', '성성민'), ('나지혜', '윤지현'), ('나지혜', '김정숙'), ('성성민', '윤지현'), ('성성민', '김정숙'), ('윤지현', '김정숙')]\n"
     ]
    }
   ],
   "source": [
    "import itertools\n",
    "\n",
    "members = ['나지혜','성성민','윤지현','김정숙']\n",
    "\n",
    "result = itertools.combinations(members, 2)\n",
    "\n",
    "print(list(result))"
   ]
  },
  {
   "cell_type": "code",
   "execution_count": 11,
   "id": "7bea8b05-b6d5-47f6-b7c6-980e6811f3ca",
   "metadata": {},
   "outputs": [
    {
     "name": "stdout",
     "output_type": "stream",
     "text": [
      "('A', '청소')\n",
      "('B', '빨래')\n",
      "('C', '설거지')\n",
      "('D', '휴식')\n",
      "('E', '휴식')\n"
     ]
    }
   ],
   "source": [
    "import itertools\n",
    "import random\n",
    "\n",
    "members = ['A','B','C','D','E']\n",
    "clean = ['청소', '빨래', '설거지']\n",
    "\n",
    "random.sample(members, len(members))\n",
    "result = itertools.zip_longest(members, clean, fillvalue=\"휴식\")\n",
    "\n",
    "for r in result:\n",
    "    print(r)"
   ]
  }
 ],
 "metadata": {
  "kernelspec": {
   "display_name": "Python 3 (ipykernel)",
   "language": "python",
   "name": "python3"
  },
  "language_info": {
   "codemirror_mode": {
    "name": "ipython",
    "version": 3
   },
   "file_extension": ".py",
   "mimetype": "text/x-python",
   "name": "python",
   "nbconvert_exporter": "python",
   "pygments_lexer": "ipython3",
   "version": "3.12.7"
  }
 },
 "nbformat": 4,
 "nbformat_minor": 5
}
