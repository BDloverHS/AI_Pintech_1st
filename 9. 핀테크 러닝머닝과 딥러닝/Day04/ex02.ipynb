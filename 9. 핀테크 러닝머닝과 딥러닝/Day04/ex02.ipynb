{
 "cells": [
  {
   "cell_type": "code",
   "execution_count": 1,
   "id": "061b4c0f-da18-44cd-aff3-cfd1fc476949",
   "metadata": {},
   "outputs": [],
   "source": [
    "import numpy as np"
   ]
  },
  {
   "cell_type": "code",
   "execution_count": 2,
   "id": "7c328e7e-4743-47c7-9232-ac5522e4efea",
   "metadata": {},
   "outputs": [
    {
     "name": "stdout",
     "output_type": "stream",
     "text": [
      "['사과' '망고' '배']\n"
     ]
    }
   ],
   "source": [
    "fruits = np.array(['사과', '오렌지', '멜론', '망고', '배'])\n",
    "print(fruits[[True, False, False, True, True]]) # 불리언 인덱싱"
   ]
  }
 ],
 "metadata": {
  "kernelspec": {
   "display_name": "Python 3 (ipykernel)",
   "language": "python",
   "name": "python3"
  },
  "language_info": {
   "codemirror_mode": {
    "name": "ipython",
    "version": 3
   },
   "file_extension": ".py",
   "mimetype": "text/x-python",
   "name": "python",
   "nbconvert_exporter": "python",
   "pygments_lexer": "ipython3",
   "version": "3.12.7"
  }
 },
 "nbformat": 4,
 "nbformat_minor": 5
}
