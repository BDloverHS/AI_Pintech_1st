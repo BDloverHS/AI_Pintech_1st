{
 "cells": [
  {
   "cell_type": "code",
   "execution_count": 1,
   "id": "c57791ef-f457-4bf1-a534-7299b1d9ef80",
   "metadata": {},
   "outputs": [],
   "source": [
    "fish_length = [25.4, 26.3, 26.5, 29.0, 29.0, 29.7, 29.7, 30.0, 30.0, 30.7, 31.0, 31.0,\n",
    "                31.5, 32.0, 32.0, 32.0, 33.0, 33.0, 33.5, 33.5, 34.0, 34.0, 34.5, 35.0,\n",
    "                35.0, 35.0, 35.0, 36.0, 36.0, 37.0, 38.5, 38.5, 39.5, 41.0, 41.0, 9.8,\n",
    "                10.5, 10.6, 11.0, 11.2, 11.3, 11.8, 11.8, 12.0, 12.2, 12.4, 13.0, 14.3, 15.0]\n",
    "fish_weight = [242.0, 290.0, 340.0, 363.0, 430.0, 450.0, 500.0, 390.0, 450.0, 500.0, 475.0, 500.0,\n",
    "                500.0, 340.0, 600.0, 600.0, 700.0, 700.0, 610.0, 650.0, 575.0, 685.0, 620.0, 680.0,\n",
    "                700.0, 725.0, 720.0, 714.0, 850.0, 1000.0, 920.0, 955.0, 925.0, 975.0, 950.0, 6.7,\n",
    "                7.5, 7.0, 9.7, 9.8, 8.7, 10.0, 9.9, 9.8, 12.2, 13.4, 12.2, 19.7, 19.9]"
   ]
  },
  {
   "cell_type": "code",
   "execution_count": 2,
   "id": "f99346fe-eb44-41cd-8acb-6c70ba449a7e",
   "metadata": {},
   "outputs": [],
   "source": [
    "import numpy as np"
   ]
  },
  {
   "cell_type": "code",
   "execution_count": 5,
   "id": "e2338959-2e09-4a10-bec8-93f371b1a570",
   "metadata": {},
   "outputs": [],
   "source": [
    "fish_data = np.column_stack((fish_length, fish_weight))"
   ]
  },
  {
   "cell_type": "code",
   "execution_count": 7,
   "id": "39a32dd8-34de-4783-b57d-7140e0413d50",
   "metadata": {},
   "outputs": [
    {
     "name": "stdout",
     "output_type": "stream",
     "text": [
      "[1. 1. 1. 1. 1. 1. 1. 1. 1. 1. 1. 1. 1. 1. 1. 1. 1. 1. 1. 1. 1. 1. 1. 1.\n",
      " 1. 1. 1. 1. 1. 1. 1. 1. 1. 1. 1. 0. 0. 0. 0. 0. 0. 0. 0. 0. 0. 0. 0. 0.\n",
      " 0.]\n"
     ]
    }
   ],
   "source": [
    "fish_target = np.concatenate((np.ones(35), np.zeros(14)))\n",
    "print(fish_target)"
   ]
  },
  {
   "cell_type": "code",
   "execution_count": 9,
   "id": "7990f64f-2f10-40b4-8c08-258f53777098",
   "metadata": {},
   "outputs": [],
   "source": [
    "from sklearn.model_selection import train_test_split # 훈련세트와 테스트 세트를 적절하게 섞어서 만들어 주는 함수"
   ]
  },
  {
   "cell_type": "code",
   "execution_count": 10,
   "id": "b8cefb3e-362a-4140-9231-0eec919279ae",
   "metadata": {},
   "outputs": [],
   "source": [
    "train_input, test_input, train_taget, test_target = train_test_split(fish_data, fish_target)"
   ]
  },
  {
   "cell_type": "code",
   "execution_count": 11,
   "id": "78041711-c9e2-4bb8-90d9-18d9b78d7334",
   "metadata": {
    "scrolled": true
   },
   "outputs": [
    {
     "name": "stdout",
     "output_type": "stream",
     "text": [
      "[[  35.   725. ]\n",
      " [  11.2    9.8]\n",
      " [  29.   363. ]\n",
      " [  30.   450. ]\n",
      " [  11.     9.7]\n",
      " [  33.   700. ]\n",
      " [  38.5  920. ]\n",
      " [  34.   575. ]\n",
      " [  35.   680. ]\n",
      " [  29.7  500. ]\n",
      " [  34.5  620. ]\n",
      " [  41.   950. ]\n",
      " [  11.8    9.9]\n",
      " [  31.5  500. ]\n",
      " [  33.5  650. ]\n",
      " [  26.3  290. ]\n",
      " [  36.   850. ]\n",
      " [  32.   340. ]\n",
      " [  12.     9.8]\n",
      " [  37.  1000. ]\n",
      " [  12.4   13.4]\n",
      " [  33.5  610. ]\n",
      " [  11.8   10. ]\n",
      " [  31.   475. ]\n",
      " [  10.5    7.5]\n",
      " [  11.3    8.7]\n",
      " [  39.5  925. ]\n",
      " [  35.   700. ]\n",
      " [  29.7  450. ]\n",
      " [  30.   390. ]\n",
      " [  25.4  242. ]\n",
      " [  34.   685. ]\n",
      " [  15.    19.9]\n",
      " [  35.   720. ]\n",
      " [  29.   430. ]\n",
      " [  10.6    7. ]]\n"
     ]
    }
   ],
   "source": [
    "print(train_input)"
   ]
  },
  {
   "cell_type": "code",
   "execution_count": 13,
   "id": "5401fdb1-170c-4c20-bd13-8b60c5b8438a",
   "metadata": {},
   "outputs": [
    {
     "name": "stdout",
     "output_type": "stream",
     "text": [
      "[1. 1. 1. 1. 0. 1. 1. 0. 0. 0. 1. 1. 1.]\n"
     ]
    }
   ],
   "source": [
    "print(test_target)"
   ]
  },
  {
   "cell_type": "code",
   "execution_count": 14,
   "id": "6670c5e5-22e5-46e8-bd97-f3828bc9607c",
   "metadata": {},
   "outputs": [],
   "source": [
    "train_input, test_input, train_taget, test_target = train_test_split(fish_data, fish_target, stratify=fish_target)"
   ]
  },
  {
   "cell_type": "code",
   "execution_count": 15,
   "id": "dd9c345f-82ae-492f-921a-7173dfed75e2",
   "metadata": {},
   "outputs": [
    {
     "name": "stdout",
     "output_type": "stream",
     "text": [
      "[0. 1. 1. 1. 0. 1. 1. 1. 0. 1. 1. 1. 0.]\n"
     ]
    }
   ],
   "source": [
    "print(test_target)"
   ]
  }
 ],
 "metadata": {
  "kernelspec": {
   "display_name": "Python 3 (ipykernel)",
   "language": "python",
   "name": "python3"
  },
  "language_info": {
   "codemirror_mode": {
    "name": "ipython",
    "version": 3
   },
   "file_extension": ".py",
   "mimetype": "text/x-python",
   "name": "python",
   "nbconvert_exporter": "python",
   "pygments_lexer": "ipython3",
   "version": "3.12.7"
  }
 },
 "nbformat": 4,
 "nbformat_minor": 5
}
