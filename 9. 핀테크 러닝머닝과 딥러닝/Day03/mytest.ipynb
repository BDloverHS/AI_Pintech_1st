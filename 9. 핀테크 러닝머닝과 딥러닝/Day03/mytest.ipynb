{
 "cells": [
  {
   "cell_type": "code",
   "execution_count": 2,
   "id": "7c70edd7-595f-4d78-9a5d-64e55ab212a1",
   "metadata": {},
   "outputs": [],
   "source": [
    "# 특성 공학 - 특성을 조합해서 새로운 특성 여러 개를 만들어주는 방법\n",
    "from sklearn.preprocessing import PolynomialFeatures"
   ]
  },
  {
   "cell_type": "code",
   "execution_count": 19,
   "id": "45e70622-ebba-4bc4-b54d-242a9cbea89f",
   "metadata": {},
   "outputs": [
    {
     "name": "stdout",
     "output_type": "stream",
     "text": [
      "[[  1.   2.   3.   4.   5.   4.   6.   8.  10.   9.  12.  15.  16.  20.\n",
      "   25.   8.  12.  16.  20.  18.  24.  30.  32.  40.  50.  27.  36.  45.\n",
      "   48.  60.  75.  64.  80. 100. 125.]]\n"
     ]
    }
   ],
   "source": [
    "# degree의 기본값은 2. 여기서 degree는 최고차항의 차수를 의미함. 만약에 degree의 값이 3이면 모든 특성 조합에서 중복을 포함 3개를 고름\n",
    "poly = PolynomialFeatures(degree = 3)\n",
    "# poly = PolynomialFeatures(include_bias=False) # include_bias - 절편에 곱해지는 1은 제외\n",
    "poly.fit([[2,3,4,5]])\n",
    "result = poly.transform([[2,3,4,5]])\n",
    "print(result)"
   ]
  },
  {
   "cell_type": "code",
   "execution_count": null,
   "id": "12f32cf7-e178-4d90-945a-7d153f94beb2",
   "metadata": {},
   "outputs": [],
   "source": []
  }
 ],
 "metadata": {
  "kernelspec": {
   "display_name": "Python 3 (ipykernel)",
   "language": "python",
   "name": "python3"
  },
  "language_info": {
   "codemirror_mode": {
    "name": "ipython",
    "version": 3
   },
   "file_extension": ".py",
   "mimetype": "text/x-python",
   "name": "python",
   "nbconvert_exporter": "python",
   "pygments_lexer": "ipython3",
   "version": "3.12.7"
  }
 },
 "nbformat": 4,
 "nbformat_minor": 5
}
